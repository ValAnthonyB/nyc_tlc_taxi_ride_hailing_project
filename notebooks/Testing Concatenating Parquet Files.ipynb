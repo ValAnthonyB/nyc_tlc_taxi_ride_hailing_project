{
 "cells": [
  {
   "cell_type": "code",
   "execution_count": 1,
   "id": "dd4da4aa-4777-49c3-b1c1-dd1a6e652090",
   "metadata": {},
   "outputs": [],
   "source": [
    "import polars as pl\n",
    "import os"
   ]
  },
  {
   "cell_type": "code",
   "execution_count": 2,
   "id": "940b0fdd-021e-4e6e-b0a2-db97ad7a13b1",
   "metadata": {},
   "outputs": [
    {
     "name": "stdout",
     "output_type": "stream",
     "text": [
      "February\n",
      "January\n"
     ]
    },
    {
     "data": {
      "text/plain": [
       "['..\\\\..\\\\data\\\\monthly_aggregates\\\\2024\\\\February\\\\Green Taxi Trip Records - February 2024.parquet.gz',\n",
       " '..\\\\..\\\\data\\\\monthly_aggregates\\\\2024\\\\February\\\\Yellow Taxi Trip Records - February 2024.parquet.gz',\n",
       " '..\\\\..\\\\data\\\\monthly_aggregates\\\\2024\\\\January\\\\Green Taxi Trip Records - January 2024.parquet.gz',\n",
       " '..\\\\..\\\\data\\\\monthly_aggregates\\\\2024\\\\January\\\\Yellow Taxi Trip Records - January 2024.parquet.gz']"
      ]
     },
     "execution_count": 2,
     "metadata": {},
     "output_type": "execute_result"
    }
   ],
   "source": [
    "year = 2024\n",
    "directory = rf'../../data/monthly_aggregates/{year}/'\n",
    "months = os.listdir(directory)\n",
    "\n",
    "parquet_files = []\n",
    "for month in months:\n",
    "    print(month)\n",
    "    file_dir = os.path.join(directory, month)\n",
    "\n",
    "    # Get \n",
    "    parquet_file_in_dir = [os.path.normpath(os.path.join(file_dir, f)) for f in os.listdir(file_dir) if f.endswith('.parquet.gz')]\n",
    "    parquet_files.extend(parquet_file_in_dir)\n",
    "parquet_files"
   ]
  },
  {
   "cell_type": "code",
   "execution_count": 3,
   "id": "dc34acdc-f08d-4561-9d55-ad59558494ec",
   "metadata": {},
   "outputs": [
    {
     "data": {
      "text/html": [
       "<div><style>\n",
       ".dataframe > thead > tr,\n",
       ".dataframe > tbody > tr {\n",
       "  text-align: right;\n",
       "  white-space: pre-wrap;\n",
       "}\n",
       "</style>\n",
       "<small>shape: (5, 10)</small><table border=\"1\" class=\"dataframe\"><thead><tr><th>txn_date</th><th>txn_hour</th><th>timestamp_hour</th><th>PULocationID</th><th>PUBorough</th><th>DOLocationID</th><th>DOBorough</th><th>ride_type</th><th>num_txns</th><th>total_amount</th></tr><tr><td>date</td><td>i32</td><td>datetime[μs]</td><td>i32</td><td>str</td><td>i32</td><td>str</td><td>str</td><td>i32</td><td>f64</td></tr></thead><tbody><tr><td>2024-02-12</td><td>17</td><td>2024-02-12 17:00:00</td><td>41</td><td>&quot;Manhattan&quot;</td><td>116</td><td>&quot;Manhattan&quot;</td><td>&quot;Green Taxi Trip Records&quot;</td><td>1</td><td>15.4</td></tr><tr><td>2024-02-23</td><td>20</td><td>2024-02-23 20:00:00</td><td>95</td><td>&quot;Queens&quot;</td><td>121</td><td>&quot;Queens&quot;</td><td>&quot;Green Taxi Trip Records&quot;</td><td>1</td><td>20.8</td></tr><tr><td>2024-02-17</td><td>0</td><td>2024-02-17 00:00:00</td><td>95</td><td>&quot;Queens&quot;</td><td>197</td><td>&quot;Queens&quot;</td><td>&quot;Green Taxi Trip Records&quot;</td><td>1</td><td>27.17</td></tr><tr><td>2024-02-26</td><td>20</td><td>2024-02-26 20:00:00</td><td>75</td><td>&quot;Manhattan&quot;</td><td>236</td><td>&quot;Manhattan&quot;</td><td>&quot;Green Taxi Trip Records&quot;</td><td>1</td><td>14.94</td></tr><tr><td>2024-02-29</td><td>15</td><td>2024-02-29 15:00:00</td><td>196</td><td>&quot;Queens&quot;</td><td>196</td><td>&quot;Queens&quot;</td><td>&quot;Green Taxi Trip Records&quot;</td><td>1</td><td>57.7</td></tr></tbody></table></div>"
      ],
      "text/plain": [
       "shape: (5, 10)\n",
       "┌────────────┬──────────┬──────────────────┬──────────────┬───┬───────────┬──────────────────┬──────────┬──────────────┐\n",
       "│ txn_date   ┆ txn_hour ┆ timestamp_hour   ┆ PULocationID ┆ … ┆ DOBorough ┆ ride_type        ┆ num_txns ┆ total_amount │\n",
       "│ ---        ┆ ---      ┆ ---              ┆ ---          ┆   ┆ ---       ┆ ---              ┆ ---      ┆ ---          │\n",
       "│ date       ┆ i32      ┆ datetime[μs]     ┆ i32          ┆   ┆ str       ┆ str              ┆ i32      ┆ f64          │\n",
       "╞════════════╪══════════╪══════════════════╪══════════════╪═══╪═══════════╪══════════════════╪══════════╪══════════════╡\n",
       "│ 2024-02-12 ┆ 17       ┆ 2024-02-12       ┆ 41           ┆ … ┆ Manhattan ┆ Green Taxi Trip  ┆ 1        ┆ 15.4         │\n",
       "│            ┆          ┆ 17:00:00         ┆              ┆   ┆           ┆ Records          ┆          ┆              │\n",
       "│ 2024-02-23 ┆ 20       ┆ 2024-02-23       ┆ 95           ┆ … ┆ Queens    ┆ Green Taxi Trip  ┆ 1        ┆ 20.8         │\n",
       "│            ┆          ┆ 20:00:00         ┆              ┆   ┆           ┆ Records          ┆          ┆              │\n",
       "│ 2024-02-17 ┆ 0        ┆ 2024-02-17       ┆ 95           ┆ … ┆ Queens    ┆ Green Taxi Trip  ┆ 1        ┆ 27.17        │\n",
       "│            ┆          ┆ 00:00:00         ┆              ┆   ┆           ┆ Records          ┆          ┆              │\n",
       "│ 2024-02-26 ┆ 20       ┆ 2024-02-26       ┆ 75           ┆ … ┆ Manhattan ┆ Green Taxi Trip  ┆ 1        ┆ 14.94        │\n",
       "│            ┆          ┆ 20:00:00         ┆              ┆   ┆           ┆ Records          ┆          ┆              │\n",
       "│ 2024-02-29 ┆ 15       ┆ 2024-02-29       ┆ 196          ┆ … ┆ Queens    ┆ Green Taxi Trip  ┆ 1        ┆ 57.7         │\n",
       "│            ┆          ┆ 15:00:00         ┆              ┆   ┆           ┆ Records          ┆          ┆              │\n",
       "└────────────┴──────────┴──────────────────┴──────────────┴───┴───────────┴──────────────────┴──────────┴──────────────┘"
      ]
     },
     "execution_count": 3,
     "metadata": {},
     "output_type": "execute_result"
    }
   ],
   "source": [
    "# Read all the parquet files\n",
    "dfs = []\n",
    "for file in parquet_files:\n",
    "    df = pl.read_parquet(file)\n",
    "    dfs.append(df)\n",
    "\n",
    "# Concatenate all parquet files\n",
    "df = pl.concat(dfs)\n",
    "df.head()"
   ]
  },
  {
   "cell_type": "code",
   "execution_count": 4,
   "id": "e54809f6-b288-4364-a6ba-878eb0278a15",
   "metadata": {},
   "outputs": [
    {
     "data": {
      "text/html": [
       "<div><style>\n",
       ".dataframe > thead > tr,\n",
       ".dataframe > tbody > tr {\n",
       "  text-align: right;\n",
       "  white-space: pre-wrap;\n",
       "}\n",
       "</style>\n",
       "<small>shape: (20,)</small><table border=\"1\" class=\"dataframe\"><thead><tr><th>txn_date</th></tr><tr><td>date</td></tr></thead><tbody><tr><td>2009-01-01</td></tr><tr><td>2024-01-01</td></tr><tr><td>2024-01-02</td></tr><tr><td>2024-01-03</td></tr><tr><td>2024-01-04</td></tr><tr><td>&hellip;</td></tr><tr><td>2024-01-15</td></tr><tr><td>2024-01-16</td></tr><tr><td>2024-01-17</td></tr><tr><td>2024-01-18</td></tr><tr><td>2024-01-19</td></tr></tbody></table></div>"
      ],
      "text/plain": [
       "shape: (20,)\n",
       "Series: 'txn_date' [date]\n",
       "[\n",
       "\t2009-01-01\n",
       "\t2024-01-01\n",
       "\t2024-01-02\n",
       "\t2024-01-03\n",
       "\t2024-01-04\n",
       "\t…\n",
       "\t2024-01-15\n",
       "\t2024-01-16\n",
       "\t2024-01-17\n",
       "\t2024-01-18\n",
       "\t2024-01-19\n",
       "]"
      ]
     },
     "execution_count": 4,
     "metadata": {},
     "output_type": "execute_result"
    }
   ],
   "source": [
    "# Checking the dates\n",
    "df[\"txn_date\"].unique().sort().head(20)"
   ]
  },
  {
   "cell_type": "code",
   "execution_count": 5,
   "id": "4848fa84-9cc6-406a-948b-4fb130806aa7",
   "metadata": {},
   "outputs": [],
   "source": [
    "# Export parquet file\n",
    "concatenated_dir = rf\"../../data/concatenated/{year}\"\n",
    "parquet_filename = rf\"{year} Taxi and Ride Hailing Records.parquet.gz\"\n",
    "final_pq_file_dir = os.path.normpath(os.path.join(concatenated_dir, parquet_filename))"
   ]
  },
  {
   "cell_type": "code",
   "execution_count": 7,
   "id": "84d69342-5d6b-4265-a97f-35f89a43ca65",
   "metadata": {},
   "outputs": [
    {
     "data": {
      "text/plain": [
       "'..\\\\..\\\\data\\\\concatenated\\\\2024\\\\2024 Taxi and Ride Hailing Records.parquet.gz'"
      ]
     },
     "execution_count": 7,
     "metadata": {},
     "output_type": "execute_result"
    }
   ],
   "source": [
    "final_pq_file_dir"
   ]
  }
 ],
 "metadata": {
  "kernelspec": {
   "display_name": "Python 3 (ipykernel)",
   "language": "python",
   "name": "python3"
  },
  "language_info": {
   "codemirror_mode": {
    "name": "ipython",
    "version": 3
   },
   "file_extension": ".py",
   "mimetype": "text/x-python",
   "name": "python",
   "nbconvert_exporter": "python",
   "pygments_lexer": "ipython3",
   "version": "3.11.2"
  }
 },
 "nbformat": 4,
 "nbformat_minor": 5
}
