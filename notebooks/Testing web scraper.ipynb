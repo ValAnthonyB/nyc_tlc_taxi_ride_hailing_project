{
 "cells": [
  {
   "cell_type": "code",
   "execution_count": 1,
   "id": "eafd537f-a32a-483a-8263-cef6305cf488",
   "metadata": {},
   "outputs": [],
   "source": [
    "import polars as pl"
   ]
  },
  {
   "cell_type": "markdown",
   "id": "b2bca864-fabc-46f3-bfd3-2d5545fa1656",
   "metadata": {},
   "source": [
    "# Test links\n",
    "\n",
    "### August 2024 data\n",
    "* Yellow Taxi Trip Records\n",
    "  URL: https://d37ci6vzurychx.cloudfront.net/trip-data/yellow_tripdata_2024-08.parquet\n",
    "* Green Taxi Trip Records\n",
    "  URL: https://d37ci6vzurychx.cloudfront.net/trip-data/green_tripdata_2024-08.parquet\n",
    "* For-Hire Vehicle Trip Records\n",
    "  URL: https://d37ci6vzurychx.cloudfront.net/trip-data/fhv_tripdata_2024-08.parquet\n",
    "* High Volume For-Hire Vehicle Trip Records\n",
    "  URL: https://d37ci6vzurychx.cloudfront.net/trip-data/fhvhv_tripdata_2024-08.parquet"
   ]
  },
  {
   "cell_type": "markdown",
   "id": "a97af86b-7a91-48ae-8361-b13d89040b7c",
   "metadata": {},
   "source": [
    "# Location ID"
   ]
  },
  {
   "cell_type": "code",
   "execution_count": 2,
   "id": "3252369e-51ac-494f-b2f4-978effc25e16",
   "metadata": {},
   "outputs": [],
   "source": [
    "df_loc_dict = pl.read_csv(\"../data/data dictionary/taxi_zone_lookup.csv\",\n",
    "                          columns=[\"LocationID\", \"Borough\"],\n",
    "                          schema_overrides={'LocationID': pl.Int32, 'Borough': pl.Utf8})"
   ]
  },
  {
   "cell_type": "markdown",
   "id": "7fb4508b-40e8-4644-bd86-fa60c07ea099",
   "metadata": {},
   "source": [
    "# Yellow Taxi"
   ]
  },
  {
   "cell_type": "code",
   "execution_count": 3,
   "id": "7bbeec9c-1a50-4093-8120-e3c730f86d63",
   "metadata": {},
   "outputs": [
    {
     "data": {
      "text/html": [
       "<div><style>\n",
       ".dataframe > thead > tr,\n",
       ".dataframe > tbody > tr {\n",
       "  text-align: right;\n",
       "  white-space: pre-wrap;\n",
       "}\n",
       "</style>\n",
       "<small>shape: (5, 10)</small><table border=\"1\" class=\"dataframe\"><thead><tr><th>txn_date</th><th>txn_hour</th><th>timestamp_hour</th><th>PULocationID</th><th>PUBorough</th><th>DOLocationID</th><th>DOBorough</th><th>ride_type</th><th>num_txns</th><th>total_amount</th></tr><tr><td>date</td><td>i8</td><td>datetime[ns]</td><td>i32</td><td>str</td><td>i32</td><td>str</td><td>str</td><td>u32</td><td>f64</td></tr></thead><tbody><tr><td>2024-08-18</td><td>20</td><td>2024-08-18 20:00:00</td><td>238</td><td>&quot;Manhattan&quot;</td><td>68</td><td>&quot;Manhattan&quot;</td><td>&quot;Yellow Taxi&quot;</td><td>2</td><td>30.02</td></tr><tr><td>2024-08-26</td><td>21</td><td>2024-08-26 21:00:00</td><td>163</td><td>&quot;Manhattan&quot;</td><td>143</td><td>&quot;Manhattan&quot;</td><td>&quot;Yellow Taxi&quot;</td><td>7</td><td>17.168571</td></tr><tr><td>2024-08-11</td><td>16</td><td>2024-08-11 16:00:00</td><td>132</td><td>&quot;Queens&quot;</td><td>124</td><td>&quot;Queens&quot;</td><td>&quot;Yellow Taxi&quot;</td><td>2</td><td>35.96</td></tr><tr><td>2024-08-13</td><td>7</td><td>2024-08-13 07:00:00</td><td>170</td><td>&quot;Manhattan&quot;</td><td>49</td><td>&quot;Brooklyn&quot;</td><td>&quot;Yellow Taxi&quot;</td><td>1</td><td>31.0</td></tr><tr><td>2024-08-02</td><td>12</td><td>2024-08-02 12:00:00</td><td>140</td><td>&quot;Manhattan&quot;</td><td>166</td><td>&quot;Manhattan&quot;</td><td>&quot;Yellow Taxi&quot;</td><td>2</td><td>37.175</td></tr></tbody></table></div>"
      ],
      "text/plain": [
       "shape: (5, 10)\n",
       "┌────────────┬──────────┬─────────────────────┬──────────────┬───┬───────────┬─────────────┬──────────┬──────────────┐\n",
       "│ txn_date   ┆ txn_hour ┆ timestamp_hour      ┆ PULocationID ┆ … ┆ DOBorough ┆ ride_type   ┆ num_txns ┆ total_amount │\n",
       "│ ---        ┆ ---      ┆ ---                 ┆ ---          ┆   ┆ ---       ┆ ---         ┆ ---      ┆ ---          │\n",
       "│ date       ┆ i8       ┆ datetime[ns]        ┆ i32          ┆   ┆ str       ┆ str         ┆ u32      ┆ f64          │\n",
       "╞════════════╪══════════╪═════════════════════╪══════════════╪═══╪═══════════╪═════════════╪══════════╪══════════════╡\n",
       "│ 2024-08-18 ┆ 20       ┆ 2024-08-18 20:00:00 ┆ 238          ┆ … ┆ Manhattan ┆ Yellow Taxi ┆ 2        ┆ 30.02        │\n",
       "│ 2024-08-26 ┆ 21       ┆ 2024-08-26 21:00:00 ┆ 163          ┆ … ┆ Manhattan ┆ Yellow Taxi ┆ 7        ┆ 17.168571    │\n",
       "│ 2024-08-11 ┆ 16       ┆ 2024-08-11 16:00:00 ┆ 132          ┆ … ┆ Queens    ┆ Yellow Taxi ┆ 2        ┆ 35.96        │\n",
       "│ 2024-08-13 ┆ 7        ┆ 2024-08-13 07:00:00 ┆ 170          ┆ … ┆ Brooklyn  ┆ Yellow Taxi ┆ 1        ┆ 31.0         │\n",
       "│ 2024-08-02 ┆ 12       ┆ 2024-08-02 12:00:00 ┆ 140          ┆ … ┆ Manhattan ┆ Yellow Taxi ┆ 2        ┆ 37.175       │\n",
       "└────────────┴──────────┴─────────────────────┴──────────────┴───┴───────────┴─────────────┴──────────┴──────────────┘"
      ]
     },
     "metadata": {},
     "output_type": "display_data"
    },
    {
     "data": {
      "text/html": [
       "<div><style>\n",
       ".dataframe > thead > tr,\n",
       ".dataframe > tbody > tr {\n",
       "  text-align: right;\n",
       "  white-space: pre-wrap;\n",
       "}\n",
       "</style>\n",
       "<small>shape: (0, 2)</small><table border=\"1\" class=\"dataframe\"><thead><tr><th>txn_date</th><th>num_hrs</th></tr><tr><td>date</td><td>u32</td></tr></thead><tbody></tbody></table></div>"
      ],
      "text/plain": [
       "shape: (0, 2)\n",
       "┌──────────┬─────────┐\n",
       "│ txn_date ┆ num_hrs │\n",
       "│ ---      ┆ ---     │\n",
       "│ date     ┆ u32     │\n",
       "╞══════════╪═════════╡\n",
       "└──────────┴─────────┘"
      ]
     },
     "execution_count": 3,
     "metadata": {},
     "output_type": "execute_result"
    }
   ],
   "source": [
    "ride_type = \"Yellow Taxi Trip Records\".replace(\" Trip Records\", \"\")\n",
    "timestamp_col = 'tpep_pickup_datetime'\n",
    "schema_overrides = {\n",
    "        timestamp_col: pl.Datetime, \n",
    "        'PULocationID': pl.Int32,\n",
    "        'DOLocationID': pl.Int32,\n",
    "        'payment_type': pl.Int32,\n",
    "        'total_amount': pl.Float64\n",
    "    }\n",
    "\n",
    "df = pl.read_parquet(\"https://d37ci6vzurychx.cloudfront.net/trip-data/yellow_tripdata_2024-08.parquet\",\n",
    "                           columns=[\"tpep_pickup_datetime\", \"PULocationID\", \"DOLocationID\", \n",
    "                                    \"payment_type\", \"total_amount\"])\n",
    "df = df.with_columns([pl.col(col).cast(dtype) for col, dtype in schema_overrides.items()])\n",
    "df = df.filter(pl.col(\"payment_type\") != 6)\n",
    "\n",
    " # Ride type column = Yellow Taxi\n",
    "df = df.with_columns(\n",
    "    pl.lit(ride_type).alias(\"ride_type\")\n",
    ")\n",
    "\n",
    "df = df.with_columns(\n",
    "    pl.col(timestamp_col).cast(pl.Datetime(\"ns\")).dt.truncate('1h').alias('timestamp_hour'),\n",
    "    pl.col(timestamp_col).cast(pl.Datetime(\"ns\")).dt.date().alias('txn_date'),\n",
    "    pl.col(timestamp_col).cast(pl.Datetime(\"ns\")).dt.hour().alias('txn_hour')\n",
    ")\n",
    "\n",
    "# Pickup Borough\n",
    "df = (\n",
    "    df\n",
    "    .join(df_loc_dict[[\"Borough\", \"LocationID\"]], \n",
    "          how=\"left\", \n",
    "          left_on=\"PULocationID\", right_on=\"LocationID\")\n",
    "    .rename({\"Borough\": \"PUBorough\"})\n",
    ")\n",
    "\n",
    "# Dropoff Borough\n",
    "df = (\n",
    "    df\n",
    "    .join(df_loc_dict[[\"Borough\", \"LocationID\"]], \n",
    "          how=\"left\", \n",
    "          left_on=\"DOLocationID\", right_on=\"LocationID\")\n",
    "    .rename({\"Borough\": \"DOBorough\"})\n",
    ")\n",
    "\n",
    "# Drop off the Location IDs\n",
    "df = (\n",
    "     df\n",
    "    .group_by([\"txn_date\", \"txn_hour\", \"timestamp_hour\", \"ride_type\", \"PUBorough\", \"DOBorough\", \"PULocationID\", \"DOLocationID\"])\n",
    "    .agg([\n",
    "        pl.len().alias(\"num_txns\"),\n",
    "        pl.col(\"total_amount\").mean().alias(\"total_amount\")\n",
    "    ])\n",
    ")\n",
    "\n",
    "# Arranging the columns\n",
    "df = df.select(['txn_date', 'txn_hour', 'timestamp_hour',\n",
    "                \"PULocationID\", 'PUBorough', \n",
    "                \"DOLocationID\", 'DOBorough',\n",
    "                'ride_type',\n",
    "                'num_txns','total_amount',\n",
    "                ])\n",
    "\n",
    "# Filter only august data\n",
    "df = df.filter(pl.col(\"txn_date\").dt.strftime(\"%B\") == \"August\")\n",
    "display(df.head())\n",
    "\n",
    "### Test if there are missing hours\n",
    "(\n",
    "    df\n",
    "    [[\"txn_date\", \"txn_hour\"]]\n",
    "    .group_by([\"txn_date\"])\n",
    "    .agg(\n",
    "        pl.col(\"txn_hour\").n_unique().alias(\"num_hrs\")\n",
    "    )\n",
    "    .sort(\"txn_date\")\n",
    ").filter(pl.col(\"num_hrs\") < 24)"
   ]
  },
  {
   "cell_type": "markdown",
   "id": "891fcbe7-1005-4828-8d70-698677da915e",
   "metadata": {},
   "source": [
    "# Green Taxi"
   ]
  },
  {
   "cell_type": "code",
   "execution_count": 4,
   "id": "a076d967-5da2-4f36-99c3-372b03ffc45e",
   "metadata": {},
   "outputs": [],
   "source": [
    "timestamp_col = \"lpep_pickup_datetime\"\n",
    "ride_type = \"Green Taxi Trip Records\".replace(\" Trip Records\", \"\")\n",
    "schema_overrides = {\n",
    "        timestamp_col: pl.Datetime, \n",
    "        'PULocationID': pl.Int32,\n",
    "        'DOLocationID': pl.Int32,\n",
    "        'payment_type': pl.Int32,\n",
    "        'total_amount': pl.Float64\n",
    "    }\n",
    "\n",
    "df = pl.read_parquet(\n",
    "    \"https://d37ci6vzurychx.cloudfront.net/trip-data/green_tripdata_2024-08.parquet\",\n",
    "    columns=[timestamp_col, \"PULocationID\", \"DOLocationID\", \"payment_type\", \"total_amount\"],\n",
    ")\n",
    "df = df.with_columns([pl.col(col).cast(dtype) for col, dtype in schema_overrides.items()])\n",
    "df = df.with_columns(pl.lit(ride_type).alias(\"ride_type\"))\n",
    "df = df.filter(pl.col(\"payment_type\") != 6)"
   ]
  },
  {
   "cell_type": "code",
   "execution_count": 5,
   "id": "d4a61968-4d7d-4348-9a4d-5c8b3ba8a046",
   "metadata": {},
   "outputs": [
    {
     "data": {
      "text/html": [
       "<div><style>\n",
       ".dataframe > thead > tr,\n",
       ".dataframe > tbody > tr {\n",
       "  text-align: right;\n",
       "  white-space: pre-wrap;\n",
       "}\n",
       "</style>\n",
       "<small>shape: (5, 10)</small><table border=\"1\" class=\"dataframe\"><thead><tr><th>txn_date</th><th>txn_hour</th><th>timestamp_hour</th><th>PULocationID</th><th>PUBorough</th><th>DOLocationID</th><th>DOBorough</th><th>ride_type</th><th>num_txns</th><th>total_amount</th></tr><tr><td>date</td><td>i8</td><td>datetime[ns]</td><td>i32</td><td>str</td><td>i32</td><td>str</td><td>str</td><td>u32</td><td>f64</td></tr></thead><tbody><tr><td>2024-08-12</td><td>19</td><td>2024-08-12 19:00:00</td><td>75</td><td>&quot;Manhattan&quot;</td><td>239</td><td>&quot;Manhattan&quot;</td><td>&quot;Green Taxi&quot;</td><td>1</td><td>19.75</td></tr><tr><td>2024-08-29</td><td>9</td><td>2024-08-29 09:00:00</td><td>29</td><td>&quot;Brooklyn&quot;</td><td>210</td><td>&quot;Brooklyn&quot;</td><td>&quot;Green Taxi&quot;</td><td>1</td><td>19.0</td></tr><tr><td>2024-08-26</td><td>6</td><td>2024-08-26 06:00:00</td><td>74</td><td>&quot;Manhattan&quot;</td><td>141</td><td>&quot;Manhattan&quot;</td><td>&quot;Green Taxi&quot;</td><td>1</td><td>23.82</td></tr><tr><td>2024-08-03</td><td>2</td><td>2024-08-03 02:00:00</td><td>265</td><td>&quot;N/A&quot;</td><td>265</td><td>&quot;N/A&quot;</td><td>&quot;Green Taxi&quot;</td><td>1</td><td>261.3</td></tr><tr><td>2024-08-26</td><td>10</td><td>2024-08-26 10:00:00</td><td>75</td><td>&quot;Manhattan&quot;</td><td>41</td><td>&quot;Manhattan&quot;</td><td>&quot;Green Taxi&quot;</td><td>2</td><td>11.6</td></tr></tbody></table></div>"
      ],
      "text/plain": [
       "shape: (5, 10)\n",
       "┌────────────┬──────────┬─────────────────────┬──────────────┬───┬───────────┬────────────┬──────────┬──────────────┐\n",
       "│ txn_date   ┆ txn_hour ┆ timestamp_hour      ┆ PULocationID ┆ … ┆ DOBorough ┆ ride_type  ┆ num_txns ┆ total_amount │\n",
       "│ ---        ┆ ---      ┆ ---                 ┆ ---          ┆   ┆ ---       ┆ ---        ┆ ---      ┆ ---          │\n",
       "│ date       ┆ i8       ┆ datetime[ns]        ┆ i32          ┆   ┆ str       ┆ str        ┆ u32      ┆ f64          │\n",
       "╞════════════╪══════════╪═════════════════════╪══════════════╪═══╪═══════════╪════════════╪══════════╪══════════════╡\n",
       "│ 2024-08-12 ┆ 19       ┆ 2024-08-12 19:00:00 ┆ 75           ┆ … ┆ Manhattan ┆ Green Taxi ┆ 1        ┆ 19.75        │\n",
       "│ 2024-08-29 ┆ 9        ┆ 2024-08-29 09:00:00 ┆ 29           ┆ … ┆ Brooklyn  ┆ Green Taxi ┆ 1        ┆ 19.0         │\n",
       "│ 2024-08-26 ┆ 6        ┆ 2024-08-26 06:00:00 ┆ 74           ┆ … ┆ Manhattan ┆ Green Taxi ┆ 1        ┆ 23.82        │\n",
       "│ 2024-08-03 ┆ 2        ┆ 2024-08-03 02:00:00 ┆ 265          ┆ … ┆ N/A       ┆ Green Taxi ┆ 1        ┆ 261.3        │\n",
       "│ 2024-08-26 ┆ 10       ┆ 2024-08-26 10:00:00 ┆ 75           ┆ … ┆ Manhattan ┆ Green Taxi ┆ 2        ┆ 11.6         │\n",
       "└────────────┴──────────┴─────────────────────┴──────────────┴───┴───────────┴────────────┴──────────┴──────────────┘"
      ]
     },
     "metadata": {},
     "output_type": "display_data"
    },
    {
     "data": {
      "text/html": [
       "<div><style>\n",
       ".dataframe > thead > tr,\n",
       ".dataframe > tbody > tr {\n",
       "  text-align: right;\n",
       "  white-space: pre-wrap;\n",
       "}\n",
       "</style>\n",
       "<small>shape: (0, 2)</small><table border=\"1\" class=\"dataframe\"><thead><tr><th>txn_date</th><th>num_hrs</th></tr><tr><td>date</td><td>u32</td></tr></thead><tbody></tbody></table></div>"
      ],
      "text/plain": [
       "shape: (0, 2)\n",
       "┌──────────┬─────────┐\n",
       "│ txn_date ┆ num_hrs │\n",
       "│ ---      ┆ ---     │\n",
       "│ date     ┆ u32     │\n",
       "╞══════════╪═════════╡\n",
       "└──────────┴─────────┘"
      ]
     },
     "execution_count": 5,
     "metadata": {},
     "output_type": "execute_result"
    }
   ],
   "source": [
    "df = df.with_columns(\n",
    "    pl.col(timestamp_col).cast(pl.Datetime(\"ns\")).dt.truncate('1h').alias('timestamp_hour'),\n",
    "    pl.col(timestamp_col).cast(pl.Datetime(\"ns\")).dt.date().alias('txn_date'),\n",
    "    pl.col(timestamp_col).cast(pl.Datetime(\"ns\")).dt.hour().alias('txn_hour')\n",
    ")\n",
    "\n",
    "# Pickup Borough\n",
    "df = (\n",
    "    df\n",
    "    .join(df_loc_dict[[\"Borough\", \"LocationID\"]], \n",
    "          how=\"left\", \n",
    "          left_on=\"PULocationID\", right_on=\"LocationID\")\n",
    "    .rename({\"Borough\": \"PUBorough\"})\n",
    ")\n",
    "\n",
    "# Dropoff Borough\n",
    "df = (\n",
    "    df\n",
    "    .join(df_loc_dict[[\"Borough\", \"LocationID\"]], \n",
    "          how=\"left\", \n",
    "          left_on=\"DOLocationID\", right_on=\"LocationID\")\n",
    "    .rename({\"Borough\": \"DOBorough\"})\n",
    ")\n",
    "\n",
    "# Aggregations\n",
    "df = (\n",
    "     df\n",
    "    .group_by([\"txn_date\", \"txn_hour\", \"timestamp_hour\", \"ride_type\", \"PUBorough\", \"DOBorough\", \"PULocationID\", \"DOLocationID\"])\n",
    "    .agg([\n",
    "        pl.len().alias(\"num_txns\"),\n",
    "        pl.col(\"total_amount\").mean().alias(\"total_amount\")\n",
    "    ])\n",
    ")\n",
    "\n",
    "# Arranging the columns\n",
    "df = df.select(['txn_date', 'txn_hour', 'timestamp_hour',\n",
    "                \"PULocationID\", 'PUBorough', \n",
    "                \"DOLocationID\", 'DOBorough',\n",
    "                'ride_type',\n",
    "                'num_txns','total_amount',\n",
    "                ])\n",
    "\n",
    "# Filter only august data\n",
    "df = df.filter(pl.col(\"txn_date\").dt.strftime(\"%B\") == \"August\")\n",
    "display(df.head())\n",
    "\n",
    "### Test if there are missing hours\n",
    "(\n",
    "    df\n",
    "    [[\"txn_date\", \"txn_hour\"]]\n",
    "    .group_by([\"txn_date\"])\n",
    "    .agg(\n",
    "        pl.col(\"txn_hour\").n_unique().alias(\"num_hrs\")\n",
    "    )\n",
    "    .sort(\"txn_date\")\n",
    ").filter(pl.col(\"num_hrs\") < 24)"
   ]
  },
  {
   "cell_type": "markdown",
   "id": "7045af25-b11e-46f4-ae51-5f5b3df9cedc",
   "metadata": {},
   "source": [
    "# FHV"
   ]
  },
  {
   "cell_type": "code",
   "execution_count": 6,
   "id": "8eb21825-7835-4c5b-a7b4-808d9c882bfc",
   "metadata": {},
   "outputs": [],
   "source": [
    "timestamp_col = \"pickup_datetime\"\n",
    "ride_type = \"For-Hire Vehicle Trip Records\".replace(\" Trip Records\", \"\")\n",
    "\n",
    "schema_overrides = {\n",
    "        timestamp_col: pl.Datetime, \n",
    "        'PULocationID': pl.Int32,\n",
    "        'DOLocationID': pl.Int32,\n",
    "        'total_amount': pl.Float64\n",
    "    }\n",
    "\n",
    "df = pl.read_parquet(\"https://d37ci6vzurychx.cloudfront.net/trip-data/fhv_tripdata_2024-08.parquet\",\n",
    "                    columns=[timestamp_col, \"PUlocationID\", \"DOlocationID\"])\n",
    "df = df.rename({\"PUlocationID\": \"PULocationID\", \"DOlocationID\": \"DOLocationID\"})\n",
    "df = df.with_columns([\n",
    "    pl.lit(None).cast(pl.Float64).alias(\"total_amount\")  # Add a blank column\n",
    "])\n",
    "df = df.with_columns([pl.col(col).cast(dtype) for col, dtype in schema_overrides.items()])\n",
    "df = df.with_columns(pl.lit(ride_type).alias(\"ride_type\"))"
   ]
  },
  {
   "cell_type": "code",
   "execution_count": 7,
   "id": "e16abd31-ad50-46f3-9bc1-c617ce1755da",
   "metadata": {},
   "outputs": [
    {
     "data": {
      "text/html": [
       "<div><style>\n",
       ".dataframe > thead > tr,\n",
       ".dataframe > tbody > tr {\n",
       "  text-align: right;\n",
       "  white-space: pre-wrap;\n",
       "}\n",
       "</style>\n",
       "<small>shape: (5, 10)</small><table border=\"1\" class=\"dataframe\"><thead><tr><th>txn_date</th><th>txn_hour</th><th>timestamp_hour</th><th>PULocationID</th><th>PUBorough</th><th>DOLocationID</th><th>DOBorough</th><th>ride_type</th><th>num_txns</th><th>total_amount</th></tr><tr><td>date</td><td>i8</td><td>datetime[ns]</td><td>i32</td><td>str</td><td>i32</td><td>str</td><td>str</td><td>u32</td><td>f64</td></tr></thead><tbody><tr><td>2024-08-03</td><td>15</td><td>2024-08-03 15:00:00</td><td>251</td><td>&quot;Staten Island&quot;</td><td>156</td><td>&quot;Staten Island&quot;</td><td>&quot;For-Hire Vehicle&quot;</td><td>1</td><td>null</td></tr><tr><td>2024-08-17</td><td>12</td><td>2024-08-17 12:00:00</td><td>null</td><td>null</td><td>4</td><td>&quot;Manhattan&quot;</td><td>&quot;For-Hire Vehicle&quot;</td><td>2</td><td>null</td></tr><tr><td>2024-08-13</td><td>22</td><td>2024-08-13 22:00:00</td><td>null</td><td>null</td><td>49</td><td>&quot;Brooklyn&quot;</td><td>&quot;For-Hire Vehicle&quot;</td><td>1</td><td>null</td></tr><tr><td>2024-08-15</td><td>9</td><td>2024-08-15 09:00:00</td><td>41</td><td>&quot;Manhattan&quot;</td><td>92</td><td>&quot;Queens&quot;</td><td>&quot;For-Hire Vehicle&quot;</td><td>1</td><td>null</td></tr><tr><td>2024-08-23</td><td>14</td><td>2024-08-23 14:00:00</td><td>214</td><td>&quot;Staten Island&quot;</td><td>156</td><td>&quot;Staten Island&quot;</td><td>&quot;For-Hire Vehicle&quot;</td><td>1</td><td>null</td></tr></tbody></table></div>"
      ],
      "text/plain": [
       "shape: (5, 10)\n",
       "┌────────────┬──────────┬─────────────────────┬──────────────┬───┬───────────────┬───────────┬──────────┬──────────────┐\n",
       "│ txn_date   ┆ txn_hour ┆ timestamp_hour      ┆ PULocationID ┆ … ┆ DOBorough     ┆ ride_type ┆ num_txns ┆ total_amount │\n",
       "│ ---        ┆ ---      ┆ ---                 ┆ ---          ┆   ┆ ---           ┆ ---       ┆ ---      ┆ ---          │\n",
       "│ date       ┆ i8       ┆ datetime[ns]        ┆ i32          ┆   ┆ str           ┆ str       ┆ u32      ┆ f64          │\n",
       "╞════════════╪══════════╪═════════════════════╪══════════════╪═══╪═══════════════╪═══════════╪══════════╪══════════════╡\n",
       "│ 2024-08-03 ┆ 15       ┆ 2024-08-03 15:00:00 ┆ 251          ┆ … ┆ Staten Island ┆ For-Hire  ┆ 1        ┆ null         │\n",
       "│            ┆          ┆                     ┆              ┆   ┆               ┆ Vehicle   ┆          ┆              │\n",
       "│ 2024-08-17 ┆ 12       ┆ 2024-08-17 12:00:00 ┆ null         ┆ … ┆ Manhattan     ┆ For-Hire  ┆ 2        ┆ null         │\n",
       "│            ┆          ┆                     ┆              ┆   ┆               ┆ Vehicle   ┆          ┆              │\n",
       "│ 2024-08-13 ┆ 22       ┆ 2024-08-13 22:00:00 ┆ null         ┆ … ┆ Brooklyn      ┆ For-Hire  ┆ 1        ┆ null         │\n",
       "│            ┆          ┆                     ┆              ┆   ┆               ┆ Vehicle   ┆          ┆              │\n",
       "│ 2024-08-15 ┆ 9        ┆ 2024-08-15 09:00:00 ┆ 41           ┆ … ┆ Queens        ┆ For-Hire  ┆ 1        ┆ null         │\n",
       "│            ┆          ┆                     ┆              ┆   ┆               ┆ Vehicle   ┆          ┆              │\n",
       "│ 2024-08-23 ┆ 14       ┆ 2024-08-23 14:00:00 ┆ 214          ┆ … ┆ Staten Island ┆ For-Hire  ┆ 1        ┆ null         │\n",
       "│            ┆          ┆                     ┆              ┆   ┆               ┆ Vehicle   ┆          ┆              │\n",
       "└────────────┴──────────┴─────────────────────┴──────────────┴───┴───────────────┴───────────┴──────────┴──────────────┘"
      ]
     },
     "metadata": {},
     "output_type": "display_data"
    },
    {
     "data": {
      "text/html": [
       "<div><style>\n",
       ".dataframe > thead > tr,\n",
       ".dataframe > tbody > tr {\n",
       "  text-align: right;\n",
       "  white-space: pre-wrap;\n",
       "}\n",
       "</style>\n",
       "<small>shape: (0, 2)</small><table border=\"1\" class=\"dataframe\"><thead><tr><th>txn_date</th><th>num_hrs</th></tr><tr><td>date</td><td>u32</td></tr></thead><tbody></tbody></table></div>"
      ],
      "text/plain": [
       "shape: (0, 2)\n",
       "┌──────────┬─────────┐\n",
       "│ txn_date ┆ num_hrs │\n",
       "│ ---      ┆ ---     │\n",
       "│ date     ┆ u32     │\n",
       "╞══════════╪═════════╡\n",
       "└──────────┴─────────┘"
      ]
     },
     "execution_count": 7,
     "metadata": {},
     "output_type": "execute_result"
    }
   ],
   "source": [
    "df = df.with_columns(\n",
    "    pl.col(timestamp_col).cast(pl.Datetime(\"ns\")).dt.truncate('1h').alias('timestamp_hour'),\n",
    "    pl.col(timestamp_col).cast(pl.Datetime(\"ns\")).dt.date().alias('txn_date'),\n",
    "    pl.col(timestamp_col).cast(pl.Datetime(\"ns\")).dt.hour().alias('txn_hour')\n",
    ")\n",
    "\n",
    "# Pickup Borough\n",
    "df = (\n",
    "    df\n",
    "    .join(df_loc_dict[[\"Borough\", \"LocationID\"]], \n",
    "          how=\"left\", \n",
    "          left_on=\"PULocationID\", right_on=\"LocationID\")\n",
    "    .rename({\"Borough\": \"PUBorough\"})\n",
    ")\n",
    "\n",
    "# Dropoff Borough\n",
    "df = (\n",
    "    df\n",
    "    .join(df_loc_dict[[\"Borough\", \"LocationID\"]], \n",
    "          how=\"left\", \n",
    "          left_on=\"DOLocationID\", right_on=\"LocationID\")\n",
    "    .rename({\"Borough\": \"DOBorough\"})\n",
    ")\n",
    "\n",
    "# Aggregations\n",
    "df = (\n",
    "     df\n",
    "    .group_by([\"txn_date\", \"txn_hour\", \"timestamp_hour\", \"ride_type\", \"PUBorough\", \"DOBorough\", \"PULocationID\", \"DOLocationID\"])\n",
    "    .agg([\n",
    "        pl.len().alias(\"num_txns\"),\n",
    "        pl.col(\"total_amount\").mean().alias(\"total_amount\")\n",
    "    ])\n",
    ")\n",
    "\n",
    "# Arranging the columns\n",
    "df = df.select(['txn_date', 'txn_hour', 'timestamp_hour',\n",
    "                \"PULocationID\", 'PUBorough', \n",
    "                \"DOLocationID\", 'DOBorough',\n",
    "                'ride_type',\n",
    "                'num_txns','total_amount',\n",
    "                ])\n",
    "\n",
    "# Filter only august data\n",
    "df = df.filter(pl.col(\"txn_date\").dt.strftime(\"%B\") == \"August\")\n",
    "display(df.head())\n",
    "\n",
    "### Test if there are missing hours\n",
    "(\n",
    "    df\n",
    "    [[\"txn_date\", \"txn_hour\"]]\n",
    "    .group_by([\"txn_date\"])\n",
    "    .agg(\n",
    "        pl.col(\"txn_hour\").n_unique().alias(\"num_hrs\")\n",
    "    )\n",
    "    .sort(\"txn_date\")\n",
    ").filter(pl.col(\"num_hrs\") < 24)"
   ]
  },
  {
   "cell_type": "markdown",
   "id": "72721cb1-b086-43b2-a1d0-ab81e5080c87",
   "metadata": {},
   "source": [
    "# HVFHV"
   ]
  },
  {
   "cell_type": "code",
   "execution_count": 8,
   "id": "d5b3249b-75a4-4c0f-8e33-755198e456f2",
   "metadata": {},
   "outputs": [],
   "source": [
    "hvfhs_mapping = {\n",
    "    \"HV0002\": \"Juno\",\n",
    "    \"HV0003\": \"Uber\",\n",
    "    \"HV0004\": \"Via\",\n",
    "    \"HV0005\": \"Lyft\"\n",
    "}"
   ]
  },
  {
   "cell_type": "code",
   "execution_count": 9,
   "id": "72b0ccf3-a42a-4960-b7fc-04b24dbcc633",
   "metadata": {},
   "outputs": [],
   "source": [
    "timestamp_col = 'request_datetime'\n",
    "df = pl.read_parquet(\"https://d37ci6vzurychx.cloudfront.net/trip-data/fhvhv_tripdata_2024-08.parquet\",\n",
    "                    columns=[\"hvfhs_license_num\", timestamp_col, \"PULocationID\", \"DOLocationID\", \n",
    "                             \"base_passenger_fare\", \"tolls\", \"bcf\", \"sales_tax\", \n",
    "                             \"congestion_surcharge\", \"airport_fee\", \"tips\"])\n",
    "\n",
    "# Create the total_amount column based on the other columns\n",
    "df = df.with_columns([\n",
    "    (pl.col(\"base_passenger_fare\") + pl.col(\"tolls\") + pl.col(\"bcf\") + \n",
    "     pl.col(\"sales_tax\") + pl.col(\"congestion_surcharge\") + pl.col(\"airport_fee\") + pl.col(\"tips\"))\n",
    "    .alias(\"total_amount\")\n",
    "])\n",
    "\n",
    "# Map the license num to uber, lyft, etc\n",
    "df = df.with_columns([\n",
    "    pl.col(\"hvfhs_license_num\").replace(hvfhs_mapping).alias(\"ride_type\")\n",
    "])\n",
    "\n",
    "# Drop unnecessary columns\n",
    "df = df.drop([\"hvfhs_license_num\", \"base_passenger_fare\", \"tolls\", \"bcf\", \n",
    "              \"sales_tax\", \"congestion_surcharge\", \"airport_fee\", \"tips\"])"
   ]
  },
  {
   "cell_type": "code",
   "execution_count": 10,
   "id": "27337d3f-88d2-4616-8032-e5de972ca734",
   "metadata": {},
   "outputs": [
    {
     "data": {
      "text/html": [
       "<div><style>\n",
       ".dataframe > thead > tr,\n",
       ".dataframe > tbody > tr {\n",
       "  text-align: right;\n",
       "  white-space: pre-wrap;\n",
       "}\n",
       "</style>\n",
       "<small>shape: (5, 10)</small><table border=\"1\" class=\"dataframe\"><thead><tr><th>txn_date</th><th>txn_hour</th><th>timestamp_hour</th><th>PULocationID</th><th>PUBorough</th><th>DOLocationID</th><th>DOBorough</th><th>ride_type</th><th>num_txns</th><th>total_amount</th></tr><tr><td>date</td><td>i8</td><td>datetime[ns]</td><td>i32</td><td>str</td><td>i32</td><td>str</td><td>str</td><td>u32</td><td>f64</td></tr></thead><tbody><tr><td>2024-08-13</td><td>10</td><td>2024-08-13 10:00:00</td><td>189</td><td>&quot;Brooklyn&quot;</td><td>62</td><td>&quot;Brooklyn&quot;</td><td>&quot;Uber&quot;</td><td>1</td><td>14.96</td></tr><tr><td>2024-08-18</td><td>21</td><td>2024-08-18 21:00:00</td><td>75</td><td>&quot;Manhattan&quot;</td><td>53</td><td>&quot;Queens&quot;</td><td>&quot;Lyft&quot;</td><td>1</td><td>48.88</td></tr><tr><td>2024-08-28</td><td>9</td><td>2024-08-28 09:00:00</td><td>61</td><td>&quot;Brooklyn&quot;</td><td>249</td><td>&quot;Manhattan&quot;</td><td>&quot;Uber&quot;</td><td>1</td><td>53.88</td></tr><tr><td>2024-08-07</td><td>18</td><td>2024-08-07 18:00:00</td><td>236</td><td>&quot;Manhattan&quot;</td><td>140</td><td>&quot;Manhattan&quot;</td><td>&quot;Lyft&quot;</td><td>1</td><td>20.09</td></tr><tr><td>2024-08-02</td><td>3</td><td>2024-08-02 03:00:00</td><td>219</td><td>&quot;Queens&quot;</td><td>203</td><td>&quot;Queens&quot;</td><td>&quot;Uber&quot;</td><td>2</td><td>9.45</td></tr></tbody></table></div>"
      ],
      "text/plain": [
       "shape: (5, 10)\n",
       "┌────────────┬──────────┬─────────────────────┬──────────────┬───┬───────────┬───────────┬──────────┬──────────────┐\n",
       "│ txn_date   ┆ txn_hour ┆ timestamp_hour      ┆ PULocationID ┆ … ┆ DOBorough ┆ ride_type ┆ num_txns ┆ total_amount │\n",
       "│ ---        ┆ ---      ┆ ---                 ┆ ---          ┆   ┆ ---       ┆ ---       ┆ ---      ┆ ---          │\n",
       "│ date       ┆ i8       ┆ datetime[ns]        ┆ i32          ┆   ┆ str       ┆ str       ┆ u32      ┆ f64          │\n",
       "╞════════════╪══════════╪═════════════════════╪══════════════╪═══╪═══════════╪═══════════╪══════════╪══════════════╡\n",
       "│ 2024-08-13 ┆ 10       ┆ 2024-08-13 10:00:00 ┆ 189          ┆ … ┆ Brooklyn  ┆ Uber      ┆ 1        ┆ 14.96        │\n",
       "│ 2024-08-18 ┆ 21       ┆ 2024-08-18 21:00:00 ┆ 75           ┆ … ┆ Queens    ┆ Lyft      ┆ 1        ┆ 48.88        │\n",
       "│ 2024-08-28 ┆ 9        ┆ 2024-08-28 09:00:00 ┆ 61           ┆ … ┆ Manhattan ┆ Uber      ┆ 1        ┆ 53.88        │\n",
       "│ 2024-08-07 ┆ 18       ┆ 2024-08-07 18:00:00 ┆ 236          ┆ … ┆ Manhattan ┆ Lyft      ┆ 1        ┆ 20.09        │\n",
       "│ 2024-08-02 ┆ 3        ┆ 2024-08-02 03:00:00 ┆ 219          ┆ … ┆ Queens    ┆ Uber      ┆ 2        ┆ 9.45         │\n",
       "└────────────┴──────────┴─────────────────────┴──────────────┴───┴───────────┴───────────┴──────────┴──────────────┘"
      ]
     },
     "metadata": {},
     "output_type": "display_data"
    },
    {
     "data": {
      "text/html": [
       "<div><style>\n",
       ".dataframe > thead > tr,\n",
       ".dataframe > tbody > tr {\n",
       "  text-align: right;\n",
       "  white-space: pre-wrap;\n",
       "}\n",
       "</style>\n",
       "<small>shape: (0, 2)</small><table border=\"1\" class=\"dataframe\"><thead><tr><th>txn_date</th><th>num_hrs</th></tr><tr><td>date</td><td>u32</td></tr></thead><tbody></tbody></table></div>"
      ],
      "text/plain": [
       "shape: (0, 2)\n",
       "┌──────────┬─────────┐\n",
       "│ txn_date ┆ num_hrs │\n",
       "│ ---      ┆ ---     │\n",
       "│ date     ┆ u32     │\n",
       "╞══════════╪═════════╡\n",
       "└──────────┴─────────┘"
      ]
     },
     "execution_count": 10,
     "metadata": {},
     "output_type": "execute_result"
    }
   ],
   "source": [
    "df = df.with_columns(\n",
    "    pl.col(timestamp_col).cast(pl.Datetime(\"ns\")).dt.truncate('1h').alias('timestamp_hour'),\n",
    "    pl.col(timestamp_col).cast(pl.Datetime(\"ns\")).dt.date().alias('txn_date'),\n",
    "    pl.col(timestamp_col).cast(pl.Datetime(\"ns\")).dt.hour().alias('txn_hour')\n",
    ")\n",
    "\n",
    "# Pickup Borough\n",
    "df = (\n",
    "    df\n",
    "    .join(df_loc_dict[[\"Borough\", \"LocationID\"]], \n",
    "          how=\"left\", \n",
    "          left_on=\"PULocationID\", right_on=\"LocationID\")\n",
    "    .rename({\"Borough\": \"PUBorough\"})\n",
    ")\n",
    "\n",
    "# Dropoff Borough\n",
    "df = (\n",
    "    df\n",
    "    .join(df_loc_dict[[\"Borough\", \"LocationID\"]], \n",
    "          how=\"left\", \n",
    "          left_on=\"DOLocationID\", right_on=\"LocationID\")\n",
    "    .rename({\"Borough\": \"DOBorough\"})\n",
    ")\n",
    "\n",
    "# Aggregations\n",
    "df = (\n",
    "     df\n",
    "    .group_by([\"txn_date\", \"txn_hour\", \"timestamp_hour\", \"ride_type\", \"PUBorough\", \"DOBorough\", \"PULocationID\", \"DOLocationID\"])\n",
    "    .agg([\n",
    "        pl.len().alias(\"num_txns\"),\n",
    "        pl.col(\"total_amount\").mean().alias(\"total_amount\")\n",
    "    ])\n",
    ")\n",
    "\n",
    "# Arranging the columns\n",
    "df = df.select(['txn_date', 'txn_hour', 'timestamp_hour',\n",
    "                \"PULocationID\", 'PUBorough', \n",
    "                \"DOLocationID\", 'DOBorough',\n",
    "                'ride_type',\n",
    "                'num_txns','total_amount',\n",
    "                ])\n",
    "\n",
    "# Filter only august data\n",
    "df = df.filter(pl.col(\"txn_date\").dt.strftime(\"%B\") == \"August\")\n",
    "display(df.head())\n",
    "\n",
    "### Test if there are missing hours\n",
    "(\n",
    "    df\n",
    "    [[\"txn_date\", \"txn_hour\"]]\n",
    "    .group_by([\"txn_date\"])\n",
    "    .agg(\n",
    "        pl.col(\"txn_hour\").n_unique().alias(\"num_hrs\")\n",
    "    )\n",
    "    .sort(\"txn_date\")\n",
    ").filter(pl.col(\"num_hrs\") < 24)"
   ]
  },
  {
   "cell_type": "markdown",
   "id": "ed7af9b2-7abd-4aec-b37a-524ac33d2b2d",
   "metadata": {},
   "source": [
    "# Combining all parquet files in a directory"
   ]
  },
  {
   "cell_type": "code",
   "execution_count": 29,
   "id": "a2d4d39c-7c52-4b7a-9fec-8f1330e20081",
   "metadata": {},
   "outputs": [],
   "source": [
    "import os\n",
    "\n",
    "# Directory name\n",
    "# Root directory\n",
    "root_dir = '../../data/monthly_aggregates'\n",
    "\n",
    "# Store the polars dataframes\n",
    "dfs = []\n",
    "\n",
    "for dirpath, dirnames, filenames in os.walk(absolute_path):\n",
    "    # Check for parquet.gz files in the current directory\n",
    "    for filename in filenames:\n",
    "        if filename.endswith('.parquet.gz'):\n",
    "            # Construct the full path of the parquet file\n",
    "            file_path = os.path.join(dirpath, filename)\n",
    "            # Read the parquet file and append to the list\n",
    "            dfs.append(pl.read_parquet(file_path))"
   ]
  },
  {
   "cell_type": "markdown",
   "id": "02a62e67-5bb3-49eb-b652-3d70b5a28777",
   "metadata": {},
   "source": [
    "# Reading the output"
   ]
  },
  {
   "cell_type": "code",
   "execution_count": 43,
   "id": "05caae17-17b4-4747-897c-ddad59d495bf",
   "metadata": {},
   "outputs": [
    {
     "data": {
      "text/html": [
       "<div><style>\n",
       ".dataframe > thead > tr,\n",
       ".dataframe > tbody > tr {\n",
       "  text-align: right;\n",
       "  white-space: pre-wrap;\n",
       "}\n",
       "</style>\n",
       "<small>shape: (5, 10)</small><table border=\"1\" class=\"dataframe\"><thead><tr><th>txn_date</th><th>txn_hour</th><th>timestamp_hour</th><th>PULocationID</th><th>PUBorough</th><th>DOLocationID</th><th>DOBorough</th><th>ride_type</th><th>num_txns</th><th>total_amount</th></tr><tr><td>date</td><td>i32</td><td>datetime[μs]</td><td>i32</td><td>str</td><td>i32</td><td>str</td><td>str</td><td>i32</td><td>f64</td></tr></thead><tbody><tr><td>2024-03-21</td><td>20</td><td>2024-03-21 20:00:00</td><td>191</td><td>&quot;Queens&quot;</td><td>198</td><td>&quot;Queens&quot;</td><td>&quot;For-Hire Vehicle Trip Records&quot;</td><td>1</td><td>null</td></tr><tr><td>2024-03-18</td><td>8</td><td>2024-03-18 08:00:00</td><td>95</td><td>&quot;Queens&quot;</td><td>92</td><td>&quot;Queens&quot;</td><td>&quot;For-Hire Vehicle Trip Records&quot;</td><td>1</td><td>null</td></tr><tr><td>2024-03-18</td><td>10</td><td>2024-03-18 10:00:00</td><td>null</td><td>null</td><td>66</td><td>&quot;Brooklyn&quot;</td><td>&quot;For-Hire Vehicle Trip Records&quot;</td><td>4</td><td>null</td></tr><tr><td>2024-03-26</td><td>18</td><td>2024-03-26 18:00:00</td><td>null</td><td>null</td><td>209</td><td>&quot;Manhattan&quot;</td><td>&quot;For-Hire Vehicle Trip Records&quot;</td><td>2</td><td>null</td></tr><tr><td>2024-03-18</td><td>12</td><td>2024-03-18 12:00:00</td><td>156</td><td>&quot;Staten Island&quot;</td><td>214</td><td>&quot;Staten Island&quot;</td><td>&quot;For-Hire Vehicle Trip Records&quot;</td><td>3</td><td>null</td></tr></tbody></table></div>"
      ],
      "text/plain": [
       "shape: (5, 10)\n",
       "┌────────────┬──────────┬────────────────┬──────────────┬───┬───────────────┬────────────────┬──────────┬──────────────┐\n",
       "│ txn_date   ┆ txn_hour ┆ timestamp_hour ┆ PULocationID ┆ … ┆ DOBorough     ┆ ride_type      ┆ num_txns ┆ total_amount │\n",
       "│ ---        ┆ ---      ┆ ---            ┆ ---          ┆   ┆ ---           ┆ ---            ┆ ---      ┆ ---          │\n",
       "│ date       ┆ i32      ┆ datetime[μs]   ┆ i32          ┆   ┆ str           ┆ str            ┆ i32      ┆ f64          │\n",
       "╞════════════╪══════════╪════════════════╪══════════════╪═══╪═══════════════╪════════════════╪══════════╪══════════════╡\n",
       "│ 2024-03-21 ┆ 20       ┆ 2024-03-21     ┆ 191          ┆ … ┆ Queens        ┆ For-Hire       ┆ 1        ┆ null         │\n",
       "│            ┆          ┆ 20:00:00       ┆              ┆   ┆               ┆ Vehicle Trip   ┆          ┆              │\n",
       "│            ┆          ┆                ┆              ┆   ┆               ┆ Records        ┆          ┆              │\n",
       "│ 2024-03-18 ┆ 8        ┆ 2024-03-18     ┆ 95           ┆ … ┆ Queens        ┆ For-Hire       ┆ 1        ┆ null         │\n",
       "│            ┆          ┆ 08:00:00       ┆              ┆   ┆               ┆ Vehicle Trip   ┆          ┆              │\n",
       "│            ┆          ┆                ┆              ┆   ┆               ┆ Records        ┆          ┆              │\n",
       "│ 2024-03-18 ┆ 10       ┆ 2024-03-18     ┆ null         ┆ … ┆ Brooklyn      ┆ For-Hire       ┆ 4        ┆ null         │\n",
       "│            ┆          ┆ 10:00:00       ┆              ┆   ┆               ┆ Vehicle Trip   ┆          ┆              │\n",
       "│            ┆          ┆                ┆              ┆   ┆               ┆ Records        ┆          ┆              │\n",
       "│ 2024-03-26 ┆ 18       ┆ 2024-03-26     ┆ null         ┆ … ┆ Manhattan     ┆ For-Hire       ┆ 2        ┆ null         │\n",
       "│            ┆          ┆ 18:00:00       ┆              ┆   ┆               ┆ Vehicle Trip   ┆          ┆              │\n",
       "│            ┆          ┆                ┆              ┆   ┆               ┆ Records        ┆          ┆              │\n",
       "│ 2024-03-18 ┆ 12       ┆ 2024-03-18     ┆ 156          ┆ … ┆ Staten Island ┆ For-Hire       ┆ 3        ┆ null         │\n",
       "│            ┆          ┆ 12:00:00       ┆              ┆   ┆               ┆ Vehicle Trip   ┆          ┆              │\n",
       "│            ┆          ┆                ┆              ┆   ┆               ┆ Records        ┆          ┆              │\n",
       "└────────────┴──────────┴────────────────┴──────────────┴───┴───────────────┴────────────────┴──────────┴──────────────┘"
      ]
     },
     "execution_count": 43,
     "metadata": {},
     "output_type": "execute_result"
    }
   ],
   "source": [
    "df = pl.read_parquet(r\"../../data/concatenated/2024/2024 Taxi and Ride Hailing Records.parquet.gz\")\n",
    "df.head()"
   ]
  },
  {
   "cell_type": "code",
   "execution_count": 45,
   "id": "27098059-5658-40f2-93b7-5b2143eb6759",
   "metadata": {},
   "outputs": [
    {
     "data": {
      "text/plain": [
       "31"
      ]
     },
     "execution_count": 45,
     "metadata": {},
     "output_type": "execute_result"
    }
   ],
   "source": [
    "len(df[\"txn_date\"].unique())"
   ]
  }
 ],
 "metadata": {
  "kernelspec": {
   "display_name": "Python 3 (ipykernel)",
   "language": "python",
   "name": "python3"
  },
  "language_info": {
   "codemirror_mode": {
    "name": "ipython",
    "version": 3
   },
   "file_extension": ".py",
   "mimetype": "text/x-python",
   "name": "python",
   "nbconvert_exporter": "python",
   "pygments_lexer": "ipython3",
   "version": "3.11.2"
  }
 },
 "nbformat": 4,
 "nbformat_minor": 5
}
