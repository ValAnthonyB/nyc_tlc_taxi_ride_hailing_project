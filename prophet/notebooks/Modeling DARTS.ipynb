{
 "cells": [
  {
   "cell_type": "code",
   "execution_count": 7,
   "id": "130ea594-63be-4e45-a29e-ee97fac4804e",
   "metadata": {
    "collapsed": true,
    "jupyter": {
     "outputs_hidden": true
    },
    "tags": []
   },
   "outputs": [
    {
     "name": "stdout",
     "output_type": "stream",
     "text": [
      "Requirement already satisfied: statsmodels in /opt/conda/lib/python3.11/site-packages (0.14.4)\n",
      "Requirement already satisfied: numpy<3,>=1.22.3 in /opt/conda/lib/python3.11/site-packages (from statsmodels) (1.26.4)\n",
      "Requirement already satisfied: scipy!=1.9.2,>=1.8 in /opt/conda/lib/python3.11/site-packages (from statsmodels) (1.13.1)\n",
      "Requirement already satisfied: pandas!=2.1.0,>=1.4 in /opt/conda/lib/python3.11/site-packages (from statsmodels) (2.2.2)\n",
      "Requirement already satisfied: patsy>=0.5.6 in /opt/conda/lib/python3.11/site-packages (from statsmodels) (1.0.1)\n",
      "Requirement already satisfied: packaging>=21.3 in /opt/conda/lib/python3.11/site-packages (from statsmodels) (23.2)\n",
      "Requirement already satisfied: python-dateutil>=2.8.2 in /opt/conda/lib/python3.11/site-packages (from pandas!=2.1.0,>=1.4->statsmodels) (2.9.0)\n",
      "Requirement already satisfied: pytz>=2020.1 in /opt/conda/lib/python3.11/site-packages (from pandas!=2.1.0,>=1.4->statsmodels) (2024.1)\n",
      "Requirement already satisfied: tzdata>=2022.7 in /opt/conda/lib/python3.11/site-packages (from pandas!=2.1.0,>=1.4->statsmodels) (2024.1)\n",
      "Requirement already satisfied: six>=1.5 in /opt/conda/lib/python3.11/site-packages (from python-dateutil>=2.8.2->pandas!=2.1.0,>=1.4->statsmodels) (1.16.0)\n",
      "\u001b[33mWARNING: Running pip as the 'root' user can result in broken permissions and conflicting behaviour with the system package manager. It is recommended to use a virtual environment instead: https://pip.pypa.io/warnings/venv\u001b[0m\u001b[33m\n",
      "\u001b[0mRequirement already satisfied: prophet in /opt/conda/lib/python3.11/site-packages (1.1.6)\n",
      "Requirement already satisfied: cmdstanpy>=1.0.4 in /opt/conda/lib/python3.11/site-packages (from prophet) (1.2.4)\n",
      "Requirement already satisfied: numpy>=1.15.4 in /opt/conda/lib/python3.11/site-packages (from prophet) (1.26.4)\n",
      "Requirement already satisfied: matplotlib>=2.0.0 in /opt/conda/lib/python3.11/site-packages (from prophet) (3.8.4)\n",
      "Requirement already satisfied: pandas>=1.0.4 in /opt/conda/lib/python3.11/site-packages (from prophet) (2.2.2)\n",
      "Requirement already satisfied: holidays<1,>=0.25 in /opt/conda/lib/python3.11/site-packages (from prophet) (0.61)\n",
      "Requirement already satisfied: tqdm>=4.36.1 in /opt/conda/lib/python3.11/site-packages (from prophet) (4.66.1)\n",
      "Requirement already satisfied: importlib-resources in /opt/conda/lib/python3.11/site-packages (from prophet) (6.4.0)\n",
      "Requirement already satisfied: stanio<2.0.0,>=0.4.0 in /opt/conda/lib/python3.11/site-packages (from cmdstanpy>=1.0.4->prophet) (0.5.1)\n",
      "Requirement already satisfied: python-dateutil in /opt/conda/lib/python3.11/site-packages (from holidays<1,>=0.25->prophet) (2.9.0)\n",
      "Requirement already satisfied: contourpy>=1.0.1 in /opt/conda/lib/python3.11/site-packages (from matplotlib>=2.0.0->prophet) (1.2.1)\n",
      "Requirement already satisfied: cycler>=0.10 in /opt/conda/lib/python3.11/site-packages (from matplotlib>=2.0.0->prophet) (0.12.1)\n",
      "Requirement already satisfied: fonttools>=4.22.0 in /opt/conda/lib/python3.11/site-packages (from matplotlib>=2.0.0->prophet) (4.53.0)\n",
      "Requirement already satisfied: kiwisolver>=1.3.1 in /opt/conda/lib/python3.11/site-packages (from matplotlib>=2.0.0->prophet) (1.4.5)\n",
      "Requirement already satisfied: packaging>=20.0 in /opt/conda/lib/python3.11/site-packages (from matplotlib>=2.0.0->prophet) (23.2)\n",
      "Requirement already satisfied: pillow>=8 in /opt/conda/lib/python3.11/site-packages (from matplotlib>=2.0.0->prophet) (10.3.0)\n",
      "Requirement already satisfied: pyparsing>=2.3.1 in /opt/conda/lib/python3.11/site-packages (from matplotlib>=2.0.0->prophet) (3.1.2)\n",
      "Requirement already satisfied: pytz>=2020.1 in /opt/conda/lib/python3.11/site-packages (from pandas>=1.0.4->prophet) (2024.1)\n",
      "Requirement already satisfied: tzdata>=2022.7 in /opt/conda/lib/python3.11/site-packages (from pandas>=1.0.4->prophet) (2024.1)\n",
      "Requirement already satisfied: six>=1.5 in /opt/conda/lib/python3.11/site-packages (from python-dateutil->holidays<1,>=0.25->prophet) (1.16.0)\n",
      "\u001b[33mWARNING: Running pip as the 'root' user can result in broken permissions and conflicting behaviour with the system package manager. It is recommended to use a virtual environment instead: https://pip.pypa.io/warnings/venv\u001b[0m\u001b[33m\n",
      "\u001b[0mCollecting u8darts\n",
      "  Downloading u8darts-0.31.0-py3-none-any.whl.metadata (53 kB)\n",
      "\u001b[2K     \u001b[90m━━━━━━━━━━━━━━━━━━━━━━━━━━━━━━━━━━━━━━━\u001b[0m \u001b[32m53.6/53.6 kB\u001b[0m \u001b[31m610.0 kB/s\u001b[0m eta \u001b[36m0:00:00\u001b[0ma \u001b[36m0:00:01\u001b[0m\n",
      "\u001b[?25hRequirement already satisfied: holidays>=0.11.1 in /opt/conda/lib/python3.11/site-packages (from u8darts) (0.61)\n",
      "Requirement already satisfied: joblib>=0.16.0 in /opt/conda/lib/python3.11/site-packages (from u8darts) (1.4.2)\n",
      "Requirement already satisfied: matplotlib>=3.3.0 in /opt/conda/lib/python3.11/site-packages (from u8darts) (3.8.4)\n",
      "Requirement already satisfied: nfoursid>=1.0.0 in /opt/conda/lib/python3.11/site-packages (from u8darts) (1.0.1)\n",
      "Requirement already satisfied: numpy<2.0.0,>=1.19.0 in /opt/conda/lib/python3.11/site-packages (from u8darts) (1.26.4)\n",
      "Requirement already satisfied: pmdarima>=1.8.0 in /opt/conda/lib/python3.11/site-packages (from u8darts) (2.0.4)\n",
      "Requirement already satisfied: pyod>=0.9.5 in /opt/conda/lib/python3.11/site-packages (from u8darts) (2.0.2)\n",
      "Requirement already satisfied: requests>=2.22.0 in /opt/conda/lib/python3.11/site-packages (from u8darts) (2.31.0)\n",
      "Requirement already satisfied: scikit-learn>=1.0.1 in /opt/conda/lib/python3.11/site-packages (from u8darts) (1.5.0)\n",
      "Requirement already satisfied: scipy>=1.3.2 in /opt/conda/lib/python3.11/site-packages (from u8darts) (1.13.1)\n",
      "Requirement already satisfied: shap>=0.40.0 in /opt/conda/lib/python3.11/site-packages (from u8darts) (0.46.0)\n",
      "Requirement already satisfied: statsforecast>=1.4 in /opt/conda/lib/python3.11/site-packages (from u8darts) (1.7.8)\n",
      "Requirement already satisfied: statsmodels>=0.14.0 in /opt/conda/lib/python3.11/site-packages (from u8darts) (0.14.4)\n",
      "Requirement already satisfied: tbats>=1.1.0 in /opt/conda/lib/python3.11/site-packages (from u8darts) (1.1.3)\n",
      "Requirement already satisfied: tqdm>=4.60.0 in /opt/conda/lib/python3.11/site-packages (from u8darts) (4.66.1)\n",
      "Requirement already satisfied: typing-extensions in /opt/conda/lib/python3.11/site-packages (from u8darts) (4.12.2)\n",
      "Requirement already satisfied: xarray>=0.17.0 in /opt/conda/lib/python3.11/site-packages (from u8darts) (2024.11.0)\n",
      "Requirement already satisfied: xgboost>=1.6.0 in /opt/conda/lib/python3.11/site-packages (from u8darts) (2.1.2)\n",
      "Requirement already satisfied: pandas>=1.0.5 in /opt/conda/lib/python3.11/site-packages (from u8darts) (2.2.2)\n",
      "Requirement already satisfied: python-dateutil in /opt/conda/lib/python3.11/site-packages (from holidays>=0.11.1->u8darts) (2.9.0)\n",
      "Requirement already satisfied: contourpy>=1.0.1 in /opt/conda/lib/python3.11/site-packages (from matplotlib>=3.3.0->u8darts) (1.2.1)\n",
      "Requirement already satisfied: cycler>=0.10 in /opt/conda/lib/python3.11/site-packages (from matplotlib>=3.3.0->u8darts) (0.12.1)\n",
      "Requirement already satisfied: fonttools>=4.22.0 in /opt/conda/lib/python3.11/site-packages (from matplotlib>=3.3.0->u8darts) (4.53.0)\n",
      "Requirement already satisfied: kiwisolver>=1.3.1 in /opt/conda/lib/python3.11/site-packages (from matplotlib>=3.3.0->u8darts) (1.4.5)\n",
      "Requirement already satisfied: packaging>=20.0 in /opt/conda/lib/python3.11/site-packages (from matplotlib>=3.3.0->u8darts) (23.2)\n",
      "Requirement already satisfied: pillow>=8 in /opt/conda/lib/python3.11/site-packages (from matplotlib>=3.3.0->u8darts) (10.3.0)\n",
      "Requirement already satisfied: pyparsing>=2.3.1 in /opt/conda/lib/python3.11/site-packages (from matplotlib>=3.3.0->u8darts) (3.1.2)\n",
      "Requirement already satisfied: pytz>=2020.1 in /opt/conda/lib/python3.11/site-packages (from pandas>=1.0.5->u8darts) (2024.1)\n",
      "Requirement already satisfied: tzdata>=2022.7 in /opt/conda/lib/python3.11/site-packages (from pandas>=1.0.5->u8darts) (2024.1)\n",
      "Requirement already satisfied: Cython!=0.29.18,!=0.29.31,>=0.29 in /opt/conda/lib/python3.11/site-packages (from pmdarima>=1.8.0->u8darts) (3.0.11)\n",
      "Requirement already satisfied: urllib3 in /opt/conda/lib/python3.11/site-packages (from pmdarima>=1.8.0->u8darts) (2.1.0)\n",
      "Requirement already satisfied: setuptools!=50.0.0,>=38.6.0 in /opt/conda/lib/python3.11/site-packages (from pmdarima>=1.8.0->u8darts) (68.2.2)\n",
      "Requirement already satisfied: numba>=0.51 in /opt/conda/lib/python3.11/site-packages (from pyod>=0.9.5->u8darts) (0.60.0)\n",
      "Requirement already satisfied: charset-normalizer<4,>=2 in /opt/conda/lib/python3.11/site-packages (from requests>=2.22.0->u8darts) (3.3.2)\n",
      "Requirement already satisfied: idna<4,>=2.5 in /opt/conda/lib/python3.11/site-packages (from requests>=2.22.0->u8darts) (3.7)\n",
      "Requirement already satisfied: certifi>=2017.4.17 in /opt/conda/lib/python3.11/site-packages (from requests>=2.22.0->u8darts) (2024.6.2)\n",
      "Requirement already satisfied: threadpoolctl>=3.1.0 in /opt/conda/lib/python3.11/site-packages (from scikit-learn>=1.0.1->u8darts) (3.5.0)\n",
      "Requirement already satisfied: slicer==0.0.8 in /opt/conda/lib/python3.11/site-packages (from shap>=0.40.0->u8darts) (0.0.8)\n",
      "Requirement already satisfied: cloudpickle in /opt/conda/lib/python3.11/site-packages (from shap>=0.40.0->u8darts) (2.2.1)\n",
      "Requirement already satisfied: coreforecast>=0.0.12 in /opt/conda/lib/python3.11/site-packages (from statsforecast>=1.4->u8darts) (0.0.15)\n",
      "Requirement already satisfied: fugue>=0.8.1 in /opt/conda/lib/python3.11/site-packages (from statsforecast>=1.4->u8darts) (0.9.1)\n",
      "Requirement already satisfied: utilsforecast>=0.1.4 in /opt/conda/lib/python3.11/site-packages (from statsforecast>=1.4->u8darts) (0.2.9)\n",
      "Requirement already satisfied: patsy>=0.5.6 in /opt/conda/lib/python3.11/site-packages (from statsmodels>=0.14.0->u8darts) (1.0.1)\n",
      "Requirement already satisfied: nvidia-nccl-cu12 in /opt/conda/lib/python3.11/site-packages (from xgboost>=1.6.0->u8darts) (2.21.5)\n",
      "Requirement already satisfied: triad>=0.9.7 in /opt/conda/lib/python3.11/site-packages (from fugue>=0.8.1->statsforecast>=1.4->u8darts) (0.9.8)\n",
      "Requirement already satisfied: adagio>=0.2.4 in /opt/conda/lib/python3.11/site-packages (from fugue>=0.8.1->statsforecast>=1.4->u8darts) (0.2.6)\n",
      "Requirement already satisfied: llvmlite<0.44,>=0.43.0dev0 in /opt/conda/lib/python3.11/site-packages (from numba>=0.51->pyod>=0.9.5->u8darts) (0.43.0)\n",
      "Requirement already satisfied: six>=1.5 in /opt/conda/lib/python3.11/site-packages (from python-dateutil->holidays>=0.11.1->u8darts) (1.16.0)\n",
      "Requirement already satisfied: pyarrow>=6.0.1 in /opt/conda/lib/python3.11/site-packages (from triad>=0.9.7->fugue>=0.8.1->statsforecast>=1.4->u8darts) (16.1.0)\n",
      "Requirement already satisfied: fsspec>=2022.5.0 in /opt/conda/lib/python3.11/site-packages (from triad>=0.9.7->fugue>=0.8.1->statsforecast>=1.4->u8darts) (2024.6.0)\n",
      "Requirement already satisfied: fs in /opt/conda/lib/python3.11/site-packages (from triad>=0.9.7->fugue>=0.8.1->statsforecast>=1.4->u8darts) (2.4.16)\n",
      "Requirement already satisfied: appdirs~=1.4.3 in /opt/conda/lib/python3.11/site-packages (from fs->triad>=0.9.7->fugue>=0.8.1->statsforecast>=1.4->u8darts) (1.4.4)\n",
      "Downloading u8darts-0.31.0-py3-none-any.whl (934 kB)\n",
      "\u001b[2K   \u001b[90m━━━━━━━━━━━━━━━━━━━━━━━━━━━━━━━━━━━━━━━━\u001b[0m \u001b[32m934.4/934.4 kB\u001b[0m \u001b[31m6.8 MB/s\u001b[0m eta \u001b[36m0:00:00\u001b[0m:00:01\u001b[0m\n",
      "\u001b[?25hInstalling collected packages: u8darts\n",
      "Successfully installed u8darts-0.31.0\n",
      "\u001b[33mWARNING: Running pip as the 'root' user can result in broken permissions and conflicting behaviour with the system package manager. It is recommended to use a virtual environment instead: https://pip.pypa.io/warnings/venv\u001b[0m\u001b[33m\n",
      "\u001b[0m"
     ]
    }
   ],
   "source": [
    "!pip install statsmodels\n",
    "!pip install prophet\n",
    "!pip install u8darts"
   ]
  },
  {
   "cell_type": "code",
   "execution_count": 8,
   "id": "e5675d1c-f94a-4fd6-a200-c3881dfa8288",
   "metadata": {
    "tags": []
   },
   "outputs": [
    {
     "name": "stdout",
     "output_type": "stream",
     "text": [
      "The autoreload extension is already loaded. To reload it, use:\n",
      "  %reload_ext autoreload\n"
     ]
    }
   ],
   "source": [
    "%load_ext autoreload\n",
    "%autoreload 2"
   ]
  },
  {
   "cell_type": "code",
   "execution_count": 320,
   "id": "889b87de-3cba-449a-845b-163f869049a3",
   "metadata": {
    "tags": []
   },
   "outputs": [],
   "source": [
    "import pandas as pd\n",
    "import matplotlib.pyplot as plt\n",
    "import utils.helpers as helpers\n",
    "from darts import TimeSeries\n",
    "from darts.models import RNNModel, AutoARIMA\n",
    "from sklearn.preprocessing import StandardScaler"
   ]
  },
  {
   "cell_type": "code",
   "execution_count": 271,
   "id": "89d4831f-5cda-4408-8c5d-8cab5eb8390a",
   "metadata": {
    "tags": []
   },
   "outputs": [
    {
     "data": {
      "text/html": [
       "<div>\n",
       "<style scoped>\n",
       "    .dataframe tbody tr th:only-of-type {\n",
       "        vertical-align: middle;\n",
       "    }\n",
       "\n",
       "    .dataframe tbody tr th {\n",
       "        vertical-align: top;\n",
       "    }\n",
       "\n",
       "    .dataframe thead th {\n",
       "        text-align: right;\n",
       "    }\n",
       "</style>\n",
       "<table border=\"1\" class=\"dataframe\">\n",
       "  <thead>\n",
       "    <tr style=\"text-align: right;\">\n",
       "      <th></th>\n",
       "      <th>txn_date</th>\n",
       "      <th>quarter</th>\n",
       "      <th>month</th>\n",
       "      <th>day_of_month</th>\n",
       "      <th>txn_hour</th>\n",
       "      <th>week_day</th>\n",
       "      <th>is_weekend</th>\n",
       "      <th>is_monday</th>\n",
       "      <th>is_friday</th>\n",
       "      <th>is_holiday</th>\n",
       "      <th>...</th>\n",
       "      <th>lag_139</th>\n",
       "      <th>lag_140</th>\n",
       "      <th>lag_141</th>\n",
       "      <th>lag_142</th>\n",
       "      <th>lag_143</th>\n",
       "      <th>lag_145</th>\n",
       "      <th>rolling_avg_24_48_72_lags</th>\n",
       "      <th>std_24_48_72_lags</th>\n",
       "      <th>rolling_avg_w1-w4_lags</th>\n",
       "      <th>std_w1-w4_lags</th>\n",
       "    </tr>\n",
       "    <tr>\n",
       "      <th>timestamp_hour</th>\n",
       "      <th></th>\n",
       "      <th></th>\n",
       "      <th></th>\n",
       "      <th></th>\n",
       "      <th></th>\n",
       "      <th></th>\n",
       "      <th></th>\n",
       "      <th></th>\n",
       "      <th></th>\n",
       "      <th></th>\n",
       "      <th></th>\n",
       "      <th></th>\n",
       "      <th></th>\n",
       "      <th></th>\n",
       "      <th></th>\n",
       "      <th></th>\n",
       "      <th></th>\n",
       "      <th></th>\n",
       "      <th></th>\n",
       "      <th></th>\n",
       "      <th></th>\n",
       "    </tr>\n",
       "  </thead>\n",
       "  <tbody>\n",
       "    <tr>\n",
       "      <th>2019-02-01 00:00:00</th>\n",
       "      <td>2019-02-01</td>\n",
       "      <td>1</td>\n",
       "      <td>2</td>\n",
       "      <td>1</td>\n",
       "      <td>0</td>\n",
       "      <td>5</td>\n",
       "      <td>1</td>\n",
       "      <td>0</td>\n",
       "      <td>0</td>\n",
       "      <td>0</td>\n",
       "      <td>...</td>\n",
       "      <td>NaN</td>\n",
       "      <td>NaN</td>\n",
       "      <td>NaN</td>\n",
       "      <td>NaN</td>\n",
       "      <td>NaN</td>\n",
       "      <td>NaN</td>\n",
       "      <td>NaN</td>\n",
       "      <td>NaN</td>\n",
       "      <td>NaN</td>\n",
       "      <td>NaN</td>\n",
       "    </tr>\n",
       "    <tr>\n",
       "      <th>2019-02-01 01:00:00</th>\n",
       "      <td>2019-02-01</td>\n",
       "      <td>1</td>\n",
       "      <td>2</td>\n",
       "      <td>1</td>\n",
       "      <td>1</td>\n",
       "      <td>5</td>\n",
       "      <td>1</td>\n",
       "      <td>0</td>\n",
       "      <td>0</td>\n",
       "      <td>0</td>\n",
       "      <td>...</td>\n",
       "      <td>NaN</td>\n",
       "      <td>NaN</td>\n",
       "      <td>NaN</td>\n",
       "      <td>NaN</td>\n",
       "      <td>NaN</td>\n",
       "      <td>NaN</td>\n",
       "      <td>NaN</td>\n",
       "      <td>NaN</td>\n",
       "      <td>NaN</td>\n",
       "      <td>NaN</td>\n",
       "    </tr>\n",
       "    <tr>\n",
       "      <th>2019-02-01 02:00:00</th>\n",
       "      <td>2019-02-01</td>\n",
       "      <td>1</td>\n",
       "      <td>2</td>\n",
       "      <td>1</td>\n",
       "      <td>2</td>\n",
       "      <td>5</td>\n",
       "      <td>1</td>\n",
       "      <td>0</td>\n",
       "      <td>0</td>\n",
       "      <td>0</td>\n",
       "      <td>...</td>\n",
       "      <td>NaN</td>\n",
       "      <td>NaN</td>\n",
       "      <td>NaN</td>\n",
       "      <td>NaN</td>\n",
       "      <td>NaN</td>\n",
       "      <td>NaN</td>\n",
       "      <td>NaN</td>\n",
       "      <td>NaN</td>\n",
       "      <td>NaN</td>\n",
       "      <td>NaN</td>\n",
       "    </tr>\n",
       "    <tr>\n",
       "      <th>2019-02-01 03:00:00</th>\n",
       "      <td>2019-02-01</td>\n",
       "      <td>1</td>\n",
       "      <td>2</td>\n",
       "      <td>1</td>\n",
       "      <td>3</td>\n",
       "      <td>5</td>\n",
       "      <td>1</td>\n",
       "      <td>0</td>\n",
       "      <td>0</td>\n",
       "      <td>0</td>\n",
       "      <td>...</td>\n",
       "      <td>NaN</td>\n",
       "      <td>NaN</td>\n",
       "      <td>NaN</td>\n",
       "      <td>NaN</td>\n",
       "      <td>NaN</td>\n",
       "      <td>NaN</td>\n",
       "      <td>NaN</td>\n",
       "      <td>NaN</td>\n",
       "      <td>NaN</td>\n",
       "      <td>NaN</td>\n",
       "    </tr>\n",
       "    <tr>\n",
       "      <th>2019-02-01 04:00:00</th>\n",
       "      <td>2019-02-01</td>\n",
       "      <td>1</td>\n",
       "      <td>2</td>\n",
       "      <td>1</td>\n",
       "      <td>4</td>\n",
       "      <td>5</td>\n",
       "      <td>1</td>\n",
       "      <td>0</td>\n",
       "      <td>0</td>\n",
       "      <td>0</td>\n",
       "      <td>...</td>\n",
       "      <td>NaN</td>\n",
       "      <td>NaN</td>\n",
       "      <td>NaN</td>\n",
       "      <td>NaN</td>\n",
       "      <td>NaN</td>\n",
       "      <td>NaN</td>\n",
       "      <td>NaN</td>\n",
       "      <td>NaN</td>\n",
       "      <td>NaN</td>\n",
       "      <td>NaN</td>\n",
       "    </tr>\n",
       "  </tbody>\n",
       "</table>\n",
       "<p>5 rows × 69 columns</p>\n",
       "</div>"
      ],
      "text/plain": [
       "                      txn_date  quarter  month  day_of_month  txn_hour  \\\n",
       "timestamp_hour                                                           \n",
       "2019-02-01 00:00:00 2019-02-01        1      2             1         0   \n",
       "2019-02-01 01:00:00 2019-02-01        1      2             1         1   \n",
       "2019-02-01 02:00:00 2019-02-01        1      2             1         2   \n",
       "2019-02-01 03:00:00 2019-02-01        1      2             1         3   \n",
       "2019-02-01 04:00:00 2019-02-01        1      2             1         4   \n",
       "\n",
       "                     week_day  is_weekend  is_monday  is_friday  is_holiday  \\\n",
       "timestamp_hour                                                                \n",
       "2019-02-01 00:00:00         5           1          0          0           0   \n",
       "2019-02-01 01:00:00         5           1          0          0           0   \n",
       "2019-02-01 02:00:00         5           1          0          0           0   \n",
       "2019-02-01 03:00:00         5           1          0          0           0   \n",
       "2019-02-01 04:00:00         5           1          0          0           0   \n",
       "\n",
       "                     ...  lag_139  lag_140  lag_141  lag_142  lag_143  \\\n",
       "timestamp_hour       ...                                                \n",
       "2019-02-01 00:00:00  ...      NaN      NaN      NaN      NaN      NaN   \n",
       "2019-02-01 01:00:00  ...      NaN      NaN      NaN      NaN      NaN   \n",
       "2019-02-01 02:00:00  ...      NaN      NaN      NaN      NaN      NaN   \n",
       "2019-02-01 03:00:00  ...      NaN      NaN      NaN      NaN      NaN   \n",
       "2019-02-01 04:00:00  ...      NaN      NaN      NaN      NaN      NaN   \n",
       "\n",
       "                     lag_145  rolling_avg_24_48_72_lags  std_24_48_72_lags  \\\n",
       "timestamp_hour                                                               \n",
       "2019-02-01 00:00:00      NaN                        NaN                NaN   \n",
       "2019-02-01 01:00:00      NaN                        NaN                NaN   \n",
       "2019-02-01 02:00:00      NaN                        NaN                NaN   \n",
       "2019-02-01 03:00:00      NaN                        NaN                NaN   \n",
       "2019-02-01 04:00:00      NaN                        NaN                NaN   \n",
       "\n",
       "                     rolling_avg_w1-w4_lags  std_w1-w4_lags  \n",
       "timestamp_hour                                               \n",
       "2019-02-01 00:00:00                     NaN             NaN  \n",
       "2019-02-01 01:00:00                     NaN             NaN  \n",
       "2019-02-01 02:00:00                     NaN             NaN  \n",
       "2019-02-01 03:00:00                     NaN             NaN  \n",
       "2019-02-01 04:00:00                     NaN             NaN  \n",
       "\n",
       "[5 rows x 69 columns]"
      ]
     },
     "execution_count": 271,
     "metadata": {},
     "output_type": "execute_result"
    }
   ],
   "source": [
    "bronx = pd.read_parquet('../data/Bronx - all txns.parquet.gz')\n",
    "bronx.index = pd.to_datetime(bronx.index)\n",
    "#bronx = bronx.reset_index()\n",
    "#bronx['timestamp_hour'] = pd.to_datetime(bronx['timestamp_hour'])\n",
    "bronx = bronx.sort_values(by = 'timestamp_hour')\n",
    "bronx = bronx.rename(columns = {'num_txns_All': 'Rides', 'timestamp_hour': 'DateTime'})\n",
    "bronx.head()"
   ]
  },
  {
   "cell_type": "code",
   "execution_count": 272,
   "id": "30114044-4f13-418f-b24d-643626b2418b",
   "metadata": {
    "tags": []
   },
   "outputs": [],
   "source": [
    "target_cols = ['Rides']\n",
    "covariates_cols = ['month', 'day_of_month', 'txn_hour', 'week_day',\n",
    "       'is_weekend', 'is_monday', 'is_friday', 'is_holiday',\n",
    "       'is_holiday_next_day', 'is_holiday_previous_day', 'is_long_weekend',\n",
    "       'is_rush_hour', 'is_business_hour', 'is_night_hour', 'sin_hour',\n",
    "       'cos_hour', 'rolling_avg_w1-w4_lags']\n",
    "columns = target_cols + covariates_cols"
   ]
  },
  {
   "cell_type": "code",
   "execution_count": 273,
   "id": "ca51523d-d6ab-4ec4-9cb7-dde81bde7df6",
   "metadata": {
    "tags": []
   },
   "outputs": [
    {
     "name": "stderr",
     "output_type": "stream",
     "text": [
      "/tmp/ipykernel_18/1061286425.py:2: FutureWarning: DataFrame.fillna with 'method' is deprecated and will raise in a future version. Use obj.ffill() or obj.bfill() instead.\n",
      "  bronx = bronx.fillna(method='ffill')  # Forward fill to handle missing values\n"
     ]
    }
   ],
   "source": [
    "bronx = bronx.asfreq('h')\n",
    "bronx = bronx.fillna(method='ffill')  # Forward fill to handle missing values"
   ]
  },
  {
   "cell_type": "code",
   "execution_count": 274,
   "id": "740abc8e-ca84-458d-8d4c-1700bbb0a137",
   "metadata": {
    "tags": []
   },
   "outputs": [
    {
     "data": {
      "text/plain": [
       "(48936, 69)"
      ]
     },
     "execution_count": 274,
     "metadata": {},
     "output_type": "execute_result"
    }
   ],
   "source": [
    "bronx.shape"
   ]
  },
  {
   "cell_type": "code",
   "execution_count": 275,
   "id": "757f529b-6719-4616-a0c5-dd074fa605e2",
   "metadata": {
    "tags": []
   },
   "outputs": [],
   "source": [
    "bronx = bronx.drop(['txn_date'], axis = 1)\n",
    "X = bronx[covariates_cols]\n",
    "y = bronx[target_cols]"
   ]
  },
  {
   "cell_type": "code",
   "execution_count": 285,
   "id": "dc9c0b0d-44c8-47b5-b0a8-5e2e0b7805f1",
   "metadata": {
    "tags": []
   },
   "outputs": [],
   "source": [
    "scaler = StandardScaler()\n",
    "X_scaled = pd.DataFrame(scaler.fit_transform(X), columns = covariates_cols, index = X.index)\n",
    "bronx_scaled = pd.concat([y, X_scaled], axis = 1)"
   ]
  },
  {
   "cell_type": "code",
   "execution_count": 286,
   "id": "fa05d47e-2c5c-4aa4-85c0-8c5789f5880e",
   "metadata": {
    "tags": []
   },
   "outputs": [],
   "source": [
    "bronx_scaled = TimeSeries.from_dataframe(bronx_scaled)"
   ]
  },
  {
   "cell_type": "code",
   "execution_count": 287,
   "id": "f9f16442-5b30-4ca9-9369-b66cdf2de550",
   "metadata": {
    "tags": []
   },
   "outputs": [
    {
     "data": {
      "text/plain": [
       "((5112, 18, 1), (744, 18, 1))"
      ]
     },
     "execution_count": 287,
     "metadata": {},
     "output_type": "execute_result"
    }
   ],
   "source": [
    "#bronx_scaled = bronx_scaled[pd.to_datetime('2024-01-01'):]\n",
    "bronx_hist = bronx_scaled[pd.to_datetime('2024-01-01'):pd.to_datetime('2024-07-31 23:59:59')]\n",
    "bronx_test = bronx_scaled[pd.to_datetime('2024-08-01'):]\n",
    "bronx_hist.shape, bronx_test.shape"
   ]
  },
  {
   "cell_type": "code",
   "execution_count": 315,
   "id": "f1e0b1e0-7645-4ad3-b7f7-3d52c3e56a13",
   "metadata": {
    "tags": []
   },
   "outputs": [],
   "source": [
    "model = RNNModel(\n",
    "    model=\"LSTM\",  # Specify LSTM as the RNN type\n",
    "    input_chunk_length= 24,\n",
    "    training_length= 48,\n",
    "    hidden_dim= 3,\n",
    "    dropout = 0,\n",
    "    batch_size = 50,\n",
    "    n_rnn_layers= 3,\n",
    "    random_state = 42,\n",
    "    n_epochs = 10,\n",
    "    log_tensorboard=True\n",
    ")"
   ]
  },
  {
   "cell_type": "code",
   "execution_count": null,
   "id": "7aee2ec0-68ff-446f-b25c-339c92b00a30",
   "metadata": {},
   "outputs": [],
   "source": [
    "model=\"LSTM\",\n",
    "    hidden_dim=20,\n",
    "    dropout=0,\n",
    "    batch_size=16,\n",
    "    n_epochs=300,\n",
    "    optimizer_kwargs={\"lr\": 1e-3},\n",
    "    model_name=\"Air_RNN\",\n",
    "    log_tensorboard=True,\n",
    "    random_state=42,\n",
    "    training_length=20,\n",
    "    input_chunk_length=14,\n",
    "    force_reset=True,\n",
    "    save_checkpoints=True,"
   ]
  },
  {
   "cell_type": "code",
   "execution_count": 308,
   "id": "ff9c61a4-11c0-4db0-9cfb-76d5e7f4172f",
   "metadata": {
    "tags": []
   },
   "outputs": [
    {
     "name": "stderr",
     "output_type": "stream",
     "text": [
      "GPU available: False, used: False\n",
      "TPU available: False, using: 0 TPU cores\n",
      "HPU available: False, using: 0 HPUs\n",
      "\n",
      "  | Name            | Type             | Params | Mode \n",
      "-------------------------------------------------------------\n",
      "0 | criterion       | MSELoss          | 0      | train\n",
      "1 | train_criterion | MSELoss          | 0      | train\n",
      "2 | val_criterion   | MSELoss          | 0      | train\n",
      "3 | train_metrics   | MetricCollection | 0      | train\n",
      "4 | val_metrics     | MetricCollection | 0      | train\n",
      "5 | rnn             | LSTM             | 9.9 K  | train\n",
      "6 | V               | Linear           | 21     | train\n",
      "-------------------------------------------------------------\n",
      "9.9 K     Trainable params\n",
      "0         Non-trainable params\n",
      "9.9 K     Total params\n",
      "0.040     Total estimated model params size (MB)\n",
      "7         Modules in train mode\n",
      "0         Modules in eval mode\n"
     ]
    },
    {
     "data": {
      "application/vnd.jupyter.widget-view+json": {
       "model_id": "2b051b8b85ec4d05805186b9ebf7a6c0",
       "version_major": 2,
       "version_minor": 0
      },
      "text/plain": [
       "Training: |          | 0/? [00:00<?, ?it/s]"
      ]
     },
     "metadata": {},
     "output_type": "display_data"
    },
    {
     "name": "stderr",
     "output_type": "stream",
     "text": [
      "`Trainer.fit` stopped: `max_epochs=10` reached.\n",
      "GPU available: False, used: False\n",
      "TPU available: False, using: 0 TPU cores\n",
      "HPU available: False, using: 0 HPUs\n"
     ]
    },
    {
     "data": {
      "application/vnd.jupyter.widget-view+json": {
       "model_id": "a6492d4ad9914821a4d0e93d5cfd7a47",
       "version_major": 2,
       "version_minor": 0
      },
      "text/plain": [
       "Predicting: |          | 0/? [00:00<?, ?it/s]"
      ]
     },
     "metadata": {},
     "output_type": "display_data"
    }
   ],
   "source": [
    "model.fit(bronx_hist[target_cols], future_covariates=bronx_scaled[covariates_cols])\n",
    "forecast = model.predict(len(bronx_test), future_covariates=bronx_scaled[covariates_cols])"
   ]
  },
  {
   "cell_type": "code",
   "execution_count": 316,
   "id": "a64a1f02-5d74-4bcf-9445-84549a7d8e04",
   "metadata": {
    "tags": []
   },
   "outputs": [
    {
     "name": "stderr",
     "output_type": "stream",
     "text": [
      "GPU available: False, used: False\n",
      "TPU available: False, using: 0 TPU cores\n",
      "HPU available: False, using: 0 HPUs\n",
      "\n",
      "  | Name            | Type             | Params | Mode \n",
      "-------------------------------------------------------------\n",
      "0 | criterion       | MSELoss          | 0      | train\n",
      "1 | train_criterion | MSELoss          | 0      | train\n",
      "2 | val_criterion   | MSELoss          | 0      | train\n",
      "3 | train_metrics   | MetricCollection | 0      | train\n",
      "4 | val_metrics     | MetricCollection | 0      | train\n",
      "5 | rnn             | LSTM             | 264    | train\n",
      "6 | V               | Linear           | 4      | train\n",
      "-------------------------------------------------------------\n",
      "268       Trainable params\n",
      "0         Non-trainable params\n",
      "268       Total params\n",
      "0.001     Total estimated model params size (MB)\n",
      "7         Modules in train mode\n",
      "0         Modules in eval mode\n"
     ]
    },
    {
     "data": {
      "application/vnd.jupyter.widget-view+json": {
       "model_id": "d46298363e0645bdbcce3e219824bf91",
       "version_major": 2,
       "version_minor": 0
      },
      "text/plain": [
       "Training: |          | 0/? [00:00<?, ?it/s]"
      ]
     },
     "metadata": {},
     "output_type": "display_data"
    },
    {
     "name": "stderr",
     "output_type": "stream",
     "text": [
      "`Trainer.fit` stopped: `max_epochs=10` reached.\n",
      "GPU available: False, used: False\n",
      "TPU available: False, using: 0 TPU cores\n",
      "HPU available: False, using: 0 HPUs\n"
     ]
    },
    {
     "data": {
      "application/vnd.jupyter.widget-view+json": {
       "model_id": "ca1ddae6833b4c2ba4a90981f10e7f57",
       "version_major": 2,
       "version_minor": 0
      },
      "text/plain": [
       "Predicting: |          | 0/? [00:00<?, ?it/s]"
      ]
     },
     "metadata": {},
     "output_type": "display_data"
    }
   ],
   "source": [
    "model.fit(bronx_hist[target_cols])\n",
    "forecast = model.predict(len(bronx_test))"
   ]
  },
  {
   "cell_type": "code",
   "execution_count": 309,
   "id": "9eac4f4d-e16e-46a1-aab8-a2dd648b8b4a",
   "metadata": {
    "tags": []
   },
   "outputs": [
    {
     "name": "stdout",
     "output_type": "stream",
     "text": [
      "MAE: 3252.00\n",
      "MAPE: 97.32%\n",
      "RMSE: 3508.71\n",
      "R2: -6.09\n"
     ]
    }
   ],
   "source": [
    "__ = helpers.performance_metrics(bronx_test['Rides'].values(),forecast.values())"
   ]
  },
  {
   "cell_type": "code",
   "execution_count": null,
   "id": "6bd1eba0-fa1b-4bd0-89b9-24fcbd6c0397",
   "metadata": {
    "tags": []
   },
   "outputs": [],
   "source": [
    "forecast"
   ]
  },
  {
   "cell_type": "code",
   "execution_count": 318,
   "id": "7f3a9752-c41d-4e6b-bca6-ca8b478030c1",
   "metadata": {
    "tags": []
   },
   "outputs": [
    {
     "data": {
      "text/plain": [
       "744"
      ]
     },
     "execution_count": 318,
     "metadata": {},
     "output_type": "execute_result"
    }
   ],
   "source": [
    "len(bronx_test)"
   ]
  },
  {
   "cell_type": "code",
   "execution_count": 323,
   "id": "aa51eb44-ee37-4afc-8d85-071f0a3088f8",
   "metadata": {
    "tags": []
   },
   "outputs": [],
   "source": [
    "model = AutoARIMA(start_p=1, max_p=24, start_q=1)\n",
    "model.fit(bronx_hist['Rides'])\n",
    "forecast = model.predict(len(bronx_test))"
   ]
  },
  {
   "cell_type": "code",
   "execution_count": 325,
   "id": "e7bd2c38-7a9e-4b56-a29f-46b12d0fab4d",
   "metadata": {
    "tags": []
   },
   "outputs": [
    {
     "name": "stdout",
     "output_type": "stream",
     "text": [
      "MAE: 1030.76\n",
      "MAPE: 55.62%\n",
      "RMSE: 1312.32\n",
      "R2: 0.01\n"
     ]
    }
   ],
   "source": [
    "__ = helpers.performance_metrics(bronx_test['Rides'].values(),forecast.values())"
   ]
  },
  {
   "cell_type": "code",
   "execution_count": null,
   "id": "ddedcfeb-a4dc-4d61-9b4a-aedd3937c23f",
   "metadata": {},
   "outputs": [],
   "source": []
  }
 ],
 "metadata": {
  "availableInstances": [
   {
    "_defaultOrder": 0,
    "_isFastLaunch": true,
    "category": "General purpose",
    "gpuNum": 0,
    "hideHardwareSpecs": false,
    "memoryGiB": 4,
    "name": "ml.t3.medium",
    "vcpuNum": 2
   },
   {
    "_defaultOrder": 1,
    "_isFastLaunch": false,
    "category": "General purpose",
    "gpuNum": 0,
    "hideHardwareSpecs": false,
    "memoryGiB": 8,
    "name": "ml.t3.large",
    "vcpuNum": 2
   },
   {
    "_defaultOrder": 2,
    "_isFastLaunch": false,
    "category": "General purpose",
    "gpuNum": 0,
    "hideHardwareSpecs": false,
    "memoryGiB": 16,
    "name": "ml.t3.xlarge",
    "vcpuNum": 4
   },
   {
    "_defaultOrder": 3,
    "_isFastLaunch": false,
    "category": "General purpose",
    "gpuNum": 0,
    "hideHardwareSpecs": false,
    "memoryGiB": 32,
    "name": "ml.t3.2xlarge",
    "vcpuNum": 8
   },
   {
    "_defaultOrder": 4,
    "_isFastLaunch": true,
    "category": "General purpose",
    "gpuNum": 0,
    "hideHardwareSpecs": false,
    "memoryGiB": 8,
    "name": "ml.m5.large",
    "vcpuNum": 2
   },
   {
    "_defaultOrder": 5,
    "_isFastLaunch": false,
    "category": "General purpose",
    "gpuNum": 0,
    "hideHardwareSpecs": false,
    "memoryGiB": 16,
    "name": "ml.m5.xlarge",
    "vcpuNum": 4
   },
   {
    "_defaultOrder": 6,
    "_isFastLaunch": false,
    "category": "General purpose",
    "gpuNum": 0,
    "hideHardwareSpecs": false,
    "memoryGiB": 32,
    "name": "ml.m5.2xlarge",
    "vcpuNum": 8
   },
   {
    "_defaultOrder": 7,
    "_isFastLaunch": false,
    "category": "General purpose",
    "gpuNum": 0,
    "hideHardwareSpecs": false,
    "memoryGiB": 64,
    "name": "ml.m5.4xlarge",
    "vcpuNum": 16
   },
   {
    "_defaultOrder": 8,
    "_isFastLaunch": false,
    "category": "General purpose",
    "gpuNum": 0,
    "hideHardwareSpecs": false,
    "memoryGiB": 128,
    "name": "ml.m5.8xlarge",
    "vcpuNum": 32
   },
   {
    "_defaultOrder": 9,
    "_isFastLaunch": false,
    "category": "General purpose",
    "gpuNum": 0,
    "hideHardwareSpecs": false,
    "memoryGiB": 192,
    "name": "ml.m5.12xlarge",
    "vcpuNum": 48
   },
   {
    "_defaultOrder": 10,
    "_isFastLaunch": false,
    "category": "General purpose",
    "gpuNum": 0,
    "hideHardwareSpecs": false,
    "memoryGiB": 256,
    "name": "ml.m5.16xlarge",
    "vcpuNum": 64
   },
   {
    "_defaultOrder": 11,
    "_isFastLaunch": false,
    "category": "General purpose",
    "gpuNum": 0,
    "hideHardwareSpecs": false,
    "memoryGiB": 384,
    "name": "ml.m5.24xlarge",
    "vcpuNum": 96
   },
   {
    "_defaultOrder": 12,
    "_isFastLaunch": false,
    "category": "General purpose",
    "gpuNum": 0,
    "hideHardwareSpecs": false,
    "memoryGiB": 8,
    "name": "ml.m5d.large",
    "vcpuNum": 2
   },
   {
    "_defaultOrder": 13,
    "_isFastLaunch": false,
    "category": "General purpose",
    "gpuNum": 0,
    "hideHardwareSpecs": false,
    "memoryGiB": 16,
    "name": "ml.m5d.xlarge",
    "vcpuNum": 4
   },
   {
    "_defaultOrder": 14,
    "_isFastLaunch": false,
    "category": "General purpose",
    "gpuNum": 0,
    "hideHardwareSpecs": false,
    "memoryGiB": 32,
    "name": "ml.m5d.2xlarge",
    "vcpuNum": 8
   },
   {
    "_defaultOrder": 15,
    "_isFastLaunch": false,
    "category": "General purpose",
    "gpuNum": 0,
    "hideHardwareSpecs": false,
    "memoryGiB": 64,
    "name": "ml.m5d.4xlarge",
    "vcpuNum": 16
   },
   {
    "_defaultOrder": 16,
    "_isFastLaunch": false,
    "category": "General purpose",
    "gpuNum": 0,
    "hideHardwareSpecs": false,
    "memoryGiB": 128,
    "name": "ml.m5d.8xlarge",
    "vcpuNum": 32
   },
   {
    "_defaultOrder": 17,
    "_isFastLaunch": false,
    "category": "General purpose",
    "gpuNum": 0,
    "hideHardwareSpecs": false,
    "memoryGiB": 192,
    "name": "ml.m5d.12xlarge",
    "vcpuNum": 48
   },
   {
    "_defaultOrder": 18,
    "_isFastLaunch": false,
    "category": "General purpose",
    "gpuNum": 0,
    "hideHardwareSpecs": false,
    "memoryGiB": 256,
    "name": "ml.m5d.16xlarge",
    "vcpuNum": 64
   },
   {
    "_defaultOrder": 19,
    "_isFastLaunch": false,
    "category": "General purpose",
    "gpuNum": 0,
    "hideHardwareSpecs": false,
    "memoryGiB": 384,
    "name": "ml.m5d.24xlarge",
    "vcpuNum": 96
   },
   {
    "_defaultOrder": 20,
    "_isFastLaunch": false,
    "category": "General purpose",
    "gpuNum": 0,
    "hideHardwareSpecs": true,
    "memoryGiB": 0,
    "name": "ml.geospatial.interactive",
    "supportedImageNames": [
     "sagemaker-geospatial-v1-0"
    ],
    "vcpuNum": 0
   },
   {
    "_defaultOrder": 21,
    "_isFastLaunch": true,
    "category": "Compute optimized",
    "gpuNum": 0,
    "hideHardwareSpecs": false,
    "memoryGiB": 4,
    "name": "ml.c5.large",
    "vcpuNum": 2
   },
   {
    "_defaultOrder": 22,
    "_isFastLaunch": false,
    "category": "Compute optimized",
    "gpuNum": 0,
    "hideHardwareSpecs": false,
    "memoryGiB": 8,
    "name": "ml.c5.xlarge",
    "vcpuNum": 4
   },
   {
    "_defaultOrder": 23,
    "_isFastLaunch": false,
    "category": "Compute optimized",
    "gpuNum": 0,
    "hideHardwareSpecs": false,
    "memoryGiB": 16,
    "name": "ml.c5.2xlarge",
    "vcpuNum": 8
   },
   {
    "_defaultOrder": 24,
    "_isFastLaunch": false,
    "category": "Compute optimized",
    "gpuNum": 0,
    "hideHardwareSpecs": false,
    "memoryGiB": 32,
    "name": "ml.c5.4xlarge",
    "vcpuNum": 16
   },
   {
    "_defaultOrder": 25,
    "_isFastLaunch": false,
    "category": "Compute optimized",
    "gpuNum": 0,
    "hideHardwareSpecs": false,
    "memoryGiB": 72,
    "name": "ml.c5.9xlarge",
    "vcpuNum": 36
   },
   {
    "_defaultOrder": 26,
    "_isFastLaunch": false,
    "category": "Compute optimized",
    "gpuNum": 0,
    "hideHardwareSpecs": false,
    "memoryGiB": 96,
    "name": "ml.c5.12xlarge",
    "vcpuNum": 48
   },
   {
    "_defaultOrder": 27,
    "_isFastLaunch": false,
    "category": "Compute optimized",
    "gpuNum": 0,
    "hideHardwareSpecs": false,
    "memoryGiB": 144,
    "name": "ml.c5.18xlarge",
    "vcpuNum": 72
   },
   {
    "_defaultOrder": 28,
    "_isFastLaunch": false,
    "category": "Compute optimized",
    "gpuNum": 0,
    "hideHardwareSpecs": false,
    "memoryGiB": 192,
    "name": "ml.c5.24xlarge",
    "vcpuNum": 96
   },
   {
    "_defaultOrder": 29,
    "_isFastLaunch": true,
    "category": "Accelerated computing",
    "gpuNum": 1,
    "hideHardwareSpecs": false,
    "memoryGiB": 16,
    "name": "ml.g4dn.xlarge",
    "vcpuNum": 4
   },
   {
    "_defaultOrder": 30,
    "_isFastLaunch": false,
    "category": "Accelerated computing",
    "gpuNum": 1,
    "hideHardwareSpecs": false,
    "memoryGiB": 32,
    "name": "ml.g4dn.2xlarge",
    "vcpuNum": 8
   },
   {
    "_defaultOrder": 31,
    "_isFastLaunch": false,
    "category": "Accelerated computing",
    "gpuNum": 1,
    "hideHardwareSpecs": false,
    "memoryGiB": 64,
    "name": "ml.g4dn.4xlarge",
    "vcpuNum": 16
   },
   {
    "_defaultOrder": 32,
    "_isFastLaunch": false,
    "category": "Accelerated computing",
    "gpuNum": 1,
    "hideHardwareSpecs": false,
    "memoryGiB": 128,
    "name": "ml.g4dn.8xlarge",
    "vcpuNum": 32
   },
   {
    "_defaultOrder": 33,
    "_isFastLaunch": false,
    "category": "Accelerated computing",
    "gpuNum": 4,
    "hideHardwareSpecs": false,
    "memoryGiB": 192,
    "name": "ml.g4dn.12xlarge",
    "vcpuNum": 48
   },
   {
    "_defaultOrder": 34,
    "_isFastLaunch": false,
    "category": "Accelerated computing",
    "gpuNum": 1,
    "hideHardwareSpecs": false,
    "memoryGiB": 256,
    "name": "ml.g4dn.16xlarge",
    "vcpuNum": 64
   },
   {
    "_defaultOrder": 35,
    "_isFastLaunch": false,
    "category": "Accelerated computing",
    "gpuNum": 1,
    "hideHardwareSpecs": false,
    "memoryGiB": 61,
    "name": "ml.p3.2xlarge",
    "vcpuNum": 8
   },
   {
    "_defaultOrder": 36,
    "_isFastLaunch": false,
    "category": "Accelerated computing",
    "gpuNum": 4,
    "hideHardwareSpecs": false,
    "memoryGiB": 244,
    "name": "ml.p3.8xlarge",
    "vcpuNum": 32
   },
   {
    "_defaultOrder": 37,
    "_isFastLaunch": false,
    "category": "Accelerated computing",
    "gpuNum": 8,
    "hideHardwareSpecs": false,
    "memoryGiB": 488,
    "name": "ml.p3.16xlarge",
    "vcpuNum": 64
   },
   {
    "_defaultOrder": 38,
    "_isFastLaunch": false,
    "category": "Accelerated computing",
    "gpuNum": 8,
    "hideHardwareSpecs": false,
    "memoryGiB": 768,
    "name": "ml.p3dn.24xlarge",
    "vcpuNum": 96
   },
   {
    "_defaultOrder": 39,
    "_isFastLaunch": false,
    "category": "Memory Optimized",
    "gpuNum": 0,
    "hideHardwareSpecs": false,
    "memoryGiB": 16,
    "name": "ml.r5.large",
    "vcpuNum": 2
   },
   {
    "_defaultOrder": 40,
    "_isFastLaunch": false,
    "category": "Memory Optimized",
    "gpuNum": 0,
    "hideHardwareSpecs": false,
    "memoryGiB": 32,
    "name": "ml.r5.xlarge",
    "vcpuNum": 4
   },
   {
    "_defaultOrder": 41,
    "_isFastLaunch": false,
    "category": "Memory Optimized",
    "gpuNum": 0,
    "hideHardwareSpecs": false,
    "memoryGiB": 64,
    "name": "ml.r5.2xlarge",
    "vcpuNum": 8
   },
   {
    "_defaultOrder": 42,
    "_isFastLaunch": false,
    "category": "Memory Optimized",
    "gpuNum": 0,
    "hideHardwareSpecs": false,
    "memoryGiB": 128,
    "name": "ml.r5.4xlarge",
    "vcpuNum": 16
   },
   {
    "_defaultOrder": 43,
    "_isFastLaunch": false,
    "category": "Memory Optimized",
    "gpuNum": 0,
    "hideHardwareSpecs": false,
    "memoryGiB": 256,
    "name": "ml.r5.8xlarge",
    "vcpuNum": 32
   },
   {
    "_defaultOrder": 44,
    "_isFastLaunch": false,
    "category": "Memory Optimized",
    "gpuNum": 0,
    "hideHardwareSpecs": false,
    "memoryGiB": 384,
    "name": "ml.r5.12xlarge",
    "vcpuNum": 48
   },
   {
    "_defaultOrder": 45,
    "_isFastLaunch": false,
    "category": "Memory Optimized",
    "gpuNum": 0,
    "hideHardwareSpecs": false,
    "memoryGiB": 512,
    "name": "ml.r5.16xlarge",
    "vcpuNum": 64
   },
   {
    "_defaultOrder": 46,
    "_isFastLaunch": false,
    "category": "Memory Optimized",
    "gpuNum": 0,
    "hideHardwareSpecs": false,
    "memoryGiB": 768,
    "name": "ml.r5.24xlarge",
    "vcpuNum": 96
   },
   {
    "_defaultOrder": 47,
    "_isFastLaunch": false,
    "category": "Accelerated computing",
    "gpuNum": 1,
    "hideHardwareSpecs": false,
    "memoryGiB": 16,
    "name": "ml.g5.xlarge",
    "vcpuNum": 4
   },
   {
    "_defaultOrder": 48,
    "_isFastLaunch": false,
    "category": "Accelerated computing",
    "gpuNum": 1,
    "hideHardwareSpecs": false,
    "memoryGiB": 32,
    "name": "ml.g5.2xlarge",
    "vcpuNum": 8
   },
   {
    "_defaultOrder": 49,
    "_isFastLaunch": false,
    "category": "Accelerated computing",
    "gpuNum": 1,
    "hideHardwareSpecs": false,
    "memoryGiB": 64,
    "name": "ml.g5.4xlarge",
    "vcpuNum": 16
   },
   {
    "_defaultOrder": 50,
    "_isFastLaunch": false,
    "category": "Accelerated computing",
    "gpuNum": 1,
    "hideHardwareSpecs": false,
    "memoryGiB": 128,
    "name": "ml.g5.8xlarge",
    "vcpuNum": 32
   },
   {
    "_defaultOrder": 51,
    "_isFastLaunch": false,
    "category": "Accelerated computing",
    "gpuNum": 1,
    "hideHardwareSpecs": false,
    "memoryGiB": 256,
    "name": "ml.g5.16xlarge",
    "vcpuNum": 64
   },
   {
    "_defaultOrder": 52,
    "_isFastLaunch": false,
    "category": "Accelerated computing",
    "gpuNum": 4,
    "hideHardwareSpecs": false,
    "memoryGiB": 192,
    "name": "ml.g5.12xlarge",
    "vcpuNum": 48
   },
   {
    "_defaultOrder": 53,
    "_isFastLaunch": false,
    "category": "Accelerated computing",
    "gpuNum": 4,
    "hideHardwareSpecs": false,
    "memoryGiB": 384,
    "name": "ml.g5.24xlarge",
    "vcpuNum": 96
   },
   {
    "_defaultOrder": 54,
    "_isFastLaunch": false,
    "category": "Accelerated computing",
    "gpuNum": 8,
    "hideHardwareSpecs": false,
    "memoryGiB": 768,
    "name": "ml.g5.48xlarge",
    "vcpuNum": 192
   },
   {
    "_defaultOrder": 55,
    "_isFastLaunch": false,
    "category": "Accelerated computing",
    "gpuNum": 8,
    "hideHardwareSpecs": false,
    "memoryGiB": 1152,
    "name": "ml.p4d.24xlarge",
    "vcpuNum": 96
   },
   {
    "_defaultOrder": 56,
    "_isFastLaunch": false,
    "category": "Accelerated computing",
    "gpuNum": 8,
    "hideHardwareSpecs": false,
    "memoryGiB": 1152,
    "name": "ml.p4de.24xlarge",
    "vcpuNum": 96
   },
   {
    "_defaultOrder": 57,
    "_isFastLaunch": false,
    "category": "Accelerated computing",
    "gpuNum": 0,
    "hideHardwareSpecs": false,
    "memoryGiB": 32,
    "name": "ml.trn1.2xlarge",
    "vcpuNum": 8
   },
   {
    "_defaultOrder": 58,
    "_isFastLaunch": false,
    "category": "Accelerated computing",
    "gpuNum": 0,
    "hideHardwareSpecs": false,
    "memoryGiB": 512,
    "name": "ml.trn1.32xlarge",
    "vcpuNum": 128
   },
   {
    "_defaultOrder": 59,
    "_isFastLaunch": false,
    "category": "Accelerated computing",
    "gpuNum": 0,
    "hideHardwareSpecs": false,
    "memoryGiB": 512,
    "name": "ml.trn1n.32xlarge",
    "vcpuNum": 128
   }
  ],
  "instance_type": "ml.t3.xlarge",
  "kernelspec": {
   "display_name": "Python 3 (Data Science 4.0)",
   "language": "python",
   "name": "python3__SAGEMAKER_INTERNAL__arn:aws:sagemaker:ap-southeast-1:492261229750:image/sagemaker-data-science-311-v1"
  },
  "language_info": {
   "codemirror_mode": {
    "name": "ipython",
    "version": 3
   },
   "file_extension": ".py",
   "mimetype": "text/x-python",
   "name": "python",
   "nbconvert_exporter": "python",
   "pygments_lexer": "ipython3",
   "version": "3.11.9"
  }
 },
 "nbformat": 4,
 "nbformat_minor": 5
}
