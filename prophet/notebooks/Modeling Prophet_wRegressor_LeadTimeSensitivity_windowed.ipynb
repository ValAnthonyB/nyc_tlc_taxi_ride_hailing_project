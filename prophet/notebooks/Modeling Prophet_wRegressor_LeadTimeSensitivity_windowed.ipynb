{
 "cells": [
  {
   "cell_type": "code",
   "execution_count": 24,
   "id": "e5675d1c-f94a-4fd6-a200-c3881dfa8288",
   "metadata": {
    "execution": {
     "iopub.execute_input": "2024-11-26T09:01:45.662197Z",
     "iopub.status.busy": "2024-11-26T09:01:45.661406Z",
     "iopub.status.idle": "2024-11-26T09:01:45.747479Z",
     "shell.execute_reply": "2024-11-26T09:01:45.746132Z",
     "shell.execute_reply.started": "2024-11-26T09:01:45.662120Z"
    },
    "tags": []
   },
   "outputs": [
    {
     "name": "stdout",
     "output_type": "stream",
     "text": [
      "The autoreload extension is already loaded. To reload it, use:\n",
      "  %reload_ext autoreload\n"
     ]
    }
   ],
   "source": [
    "%load_ext autoreload\n",
    "%autoreload 2"
   ]
  },
  {
   "cell_type": "code",
   "execution_count": 25,
   "id": "889b87de-3cba-449a-845b-163f869049a3",
   "metadata": {
    "execution": {
     "iopub.execute_input": "2024-11-26T09:01:46.867300Z",
     "iopub.status.busy": "2024-11-26T09:01:46.866868Z",
     "iopub.status.idle": "2024-11-26T09:01:46.915265Z",
     "shell.execute_reply": "2024-11-26T09:01:46.914062Z",
     "shell.execute_reply.started": "2024-11-26T09:01:46.867260Z"
    },
    "tags": []
   },
   "outputs": [],
   "source": [
    "import pandas as pd\n",
    "import matplotlib.pyplot as plt\n",
    "import utils.helpers as helpers\n",
    "import joblib\n",
    "from prophet import Prophet\n",
    "import pendulum"
   ]
  },
  {
   "cell_type": "code",
   "execution_count": 26,
   "id": "a2ad933c-d0d5-4eb7-9e3b-c6e7ae031c58",
   "metadata": {
    "execution": {
     "iopub.execute_input": "2024-11-26T09:02:19.097019Z",
     "iopub.status.busy": "2024-11-26T09:02:19.096251Z",
     "iopub.status.idle": "2024-11-26T09:02:19.145882Z",
     "shell.execute_reply": "2024-11-26T09:02:19.144633Z",
     "shell.execute_reply.started": "2024-11-26T09:02:19.096976Z"
    },
    "tags": []
   },
   "outputs": [],
   "source": [
    "boroughs = [\n",
    "            #'Bronx','Brooklyn', 'EWR', \n",
    "            'Manhattan'\n",
    "            #, 'Queens', 'Staten Island'\n",
    "]"
   ]
  },
  {
   "cell_type": "code",
   "execution_count": 27,
   "id": "1411097a-fc2f-4290-8148-27e1a4a8af57",
   "metadata": {
    "execution": {
     "iopub.execute_input": "2024-11-26T09:02:21.350341Z",
     "iopub.status.busy": "2024-11-26T09:02:21.349856Z",
     "iopub.status.idle": "2024-11-26T09:02:21.401505Z",
     "shell.execute_reply": "2024-11-26T09:02:21.400380Z",
     "shell.execute_reply.started": "2024-11-26T09:02:21.350298Z"
    }
   },
   "outputs": [
    {
     "data": {
      "text/plain": [
       "DateTime(2024, 8, 1, 0, 0, 0, tzinfo=Timezone('UTC'))"
      ]
     },
     "execution_count": 27,
     "metadata": {},
     "output_type": "execute_result"
    }
   ],
   "source": [
    "pendulum.parse('2024-08-01')"
   ]
  },
  {
   "cell_type": "code",
   "execution_count": 28,
   "id": "9773c13f-e9ae-4e52-86dc-2a7dc301fc6e",
   "metadata": {
    "execution": {
     "iopub.execute_input": "2024-11-26T09:02:23.284607Z",
     "iopub.status.busy": "2024-11-26T09:02:23.283711Z",
     "iopub.status.idle": "2024-11-26T09:02:23.337425Z",
     "shell.execute_reply": "2024-11-26T09:02:23.336241Z",
     "shell.execute_reply.started": "2024-11-26T09:02:23.284562Z"
    }
   },
   "outputs": [],
   "source": [
    "test_dt = pendulum.parse('2024-08-01')\n",
    "h1_dt = test_dt.subtract(hours = 1)\n",
    "lead_dt = [test_dt]\n",
    "for i in range(1,90):\n",
    "    lead_dt.append(test_dt.subtract(days = i))"
   ]
  },
  {
   "cell_type": "code",
   "execution_count": 29,
   "id": "94b11994-6c93-465f-a8a1-798f9c44ca2d",
   "metadata": {
    "execution": {
     "iopub.execute_input": "2024-11-26T09:02:24.014699Z",
     "iopub.status.busy": "2024-11-26T09:02:24.013756Z",
     "iopub.status.idle": "2024-11-26T09:02:24.066489Z",
     "shell.execute_reply": "2024-11-26T09:02:24.065218Z",
     "shell.execute_reply.started": "2024-11-26T09:02:24.014654Z"
    }
   },
   "outputs": [
    {
     "data": {
      "text/plain": [
       "'Manhattan'"
      ]
     },
     "execution_count": 29,
     "metadata": {},
     "output_type": "execute_result"
    }
   ],
   "source": [
    "b = boroughs[0]\n",
    "b"
   ]
  },
  {
   "cell_type": "code",
   "execution_count": 30,
   "id": "89d4831f-5cda-4408-8c5d-8cab5eb8390a",
   "metadata": {
    "execution": {
     "iopub.execute_input": "2024-11-26T09:03:02.596111Z",
     "iopub.status.busy": "2024-11-26T09:03:02.595633Z",
     "iopub.status.idle": "2024-11-26T09:40:32.053419Z",
     "shell.execute_reply": "2024-11-26T09:40:32.052494Z",
     "shell.execute_reply.started": "2024-11-26T09:03:02.596068Z"
    },
    "tags": []
   },
   "outputs": [
    {
     "name": "stdout",
     "output_type": "stream",
     "text": [
      "Prophet w Regressor: Manhattan, Predict Aug 2024 by looking at historical data 0 days before\n"
     ]
    },
    {
     "name": "stderr",
     "output_type": "stream",
     "text": [
      "09:03:04 - cmdstanpy - INFO - Chain [1] start processing\n",
      "09:03:24 - cmdstanpy - INFO - Chain [1] done processing\n"
     ]
    },
    {
     "name": "stdout",
     "output_type": "stream",
     "text": [
      "MAE: 1584.61\n",
      "MAPE: 7.74%\n",
      "RMSE: 2469.67\n",
      "R2: 0.94\n",
      "Prophet w Regressor: Manhattan, Predict Aug 2024 by looking at historical data 1 days before\n"
     ]
    },
    {
     "name": "stderr",
     "output_type": "stream",
     "text": [
      "09:03:27 - cmdstanpy - INFO - Chain [1] start processing\n",
      "09:03:54 - cmdstanpy - INFO - Chain [1] done processing\n"
     ]
    },
    {
     "name": "stdout",
     "output_type": "stream",
     "text": [
      "MAE: 1584.04\n",
      "MAPE: 7.61%\n",
      "RMSE: 2467.78\n",
      "R2: 0.94\n",
      "Prophet w Regressor: Manhattan, Predict Aug 2024 by looking at historical data 2 days before\n"
     ]
    },
    {
     "name": "stderr",
     "output_type": "stream",
     "text": [
      "09:03:56 - cmdstanpy - INFO - Chain [1] start processing\n",
      "09:04:20 - cmdstanpy - INFO - Chain [1] done processing\n"
     ]
    },
    {
     "name": "stdout",
     "output_type": "stream",
     "text": [
      "MAE: 1581.11\n",
      "MAPE: 7.51%\n",
      "RMSE: 2464.35\n",
      "R2: 0.94\n",
      "Prophet w Regressor: Manhattan, Predict Aug 2024 by looking at historical data 3 days before\n"
     ]
    },
    {
     "name": "stderr",
     "output_type": "stream",
     "text": [
      "09:04:22 - cmdstanpy - INFO - Chain [1] start processing\n",
      "09:04:47 - cmdstanpy - INFO - Chain [1] done processing\n"
     ]
    },
    {
     "name": "stdout",
     "output_type": "stream",
     "text": [
      "MAE: 1576.37\n",
      "MAPE: 7.43%\n",
      "RMSE: 2458.64\n",
      "R2: 0.94\n",
      "Prophet w Regressor: Manhattan, Predict Aug 2024 by looking at historical data 4 days before\n"
     ]
    },
    {
     "name": "stderr",
     "output_type": "stream",
     "text": [
      "09:04:49 - cmdstanpy - INFO - Chain [1] start processing\n",
      "09:05:13 - cmdstanpy - INFO - Chain [1] done processing\n"
     ]
    },
    {
     "name": "stdout",
     "output_type": "stream",
     "text": [
      "MAE: 1582.53\n",
      "MAPE: 7.36%\n",
      "RMSE: 2464.66\n",
      "R2: 0.94\n",
      "Prophet w Regressor: Manhattan, Predict Aug 2024 by looking at historical data 5 days before\n"
     ]
    },
    {
     "name": "stderr",
     "output_type": "stream",
     "text": [
      "09:05:15 - cmdstanpy - INFO - Chain [1] start processing\n",
      "09:05:43 - cmdstanpy - INFO - Chain [1] done processing\n"
     ]
    },
    {
     "name": "stdout",
     "output_type": "stream",
     "text": [
      "MAE: 1578.30\n",
      "MAPE: 7.32%\n",
      "RMSE: 2460.36\n",
      "R2: 0.94\n",
      "Prophet w Regressor: Manhattan, Predict Aug 2024 by looking at historical data 6 days before\n"
     ]
    },
    {
     "name": "stderr",
     "output_type": "stream",
     "text": [
      "09:05:45 - cmdstanpy - INFO - Chain [1] start processing\n",
      "09:06:05 - cmdstanpy - INFO - Chain [1] done processing\n"
     ]
    },
    {
     "name": "stdout",
     "output_type": "stream",
     "text": [
      "MAE: 1588.84\n",
      "MAPE: 7.26%\n",
      "RMSE: 2471.17\n",
      "R2: 0.94\n",
      "Prophet w Regressor: Manhattan, Predict Aug 2024 by looking at historical data 7 days before\n"
     ]
    },
    {
     "name": "stderr",
     "output_type": "stream",
     "text": [
      "09:06:07 - cmdstanpy - INFO - Chain [1] start processing\n",
      "09:06:31 - cmdstanpy - INFO - Chain [1] done processing\n"
     ]
    },
    {
     "name": "stdout",
     "output_type": "stream",
     "text": [
      "MAE: 1597.04\n",
      "MAPE: 7.22%\n",
      "RMSE: 2478.15\n",
      "R2: 0.94\n",
      "Prophet w Regressor: Manhattan, Predict Aug 2024 by looking at historical data 8 days before\n"
     ]
    },
    {
     "name": "stderr",
     "output_type": "stream",
     "text": [
      "09:06:33 - cmdstanpy - INFO - Chain [1] start processing\n",
      "09:06:53 - cmdstanpy - INFO - Chain [1] done processing\n"
     ]
    },
    {
     "name": "stdout",
     "output_type": "stream",
     "text": [
      "MAE: 1611.99\n",
      "MAPE: 7.20%\n",
      "RMSE: 2489.93\n",
      "R2: 0.94\n",
      "Prophet w Regressor: Manhattan, Predict Aug 2024 by looking at historical data 9 days before\n"
     ]
    },
    {
     "name": "stderr",
     "output_type": "stream",
     "text": [
      "09:06:55 - cmdstanpy - INFO - Chain [1] start processing\n",
      "09:07:12 - cmdstanpy - INFO - Chain [1] done processing\n"
     ]
    },
    {
     "name": "stdout",
     "output_type": "stream",
     "text": [
      "MAE: 1639.49\n",
      "MAPE: 7.25%\n",
      "RMSE: 2513.09\n",
      "R2: 0.94\n",
      "Prophet w Regressor: Manhattan, Predict Aug 2024 by looking at historical data 10 days before\n"
     ]
    },
    {
     "name": "stderr",
     "output_type": "stream",
     "text": [
      "09:07:14 - cmdstanpy - INFO - Chain [1] start processing\n",
      "09:07:37 - cmdstanpy - INFO - Chain [1] done processing\n"
     ]
    },
    {
     "name": "stdout",
     "output_type": "stream",
     "text": [
      "MAE: 1672.20\n",
      "MAPE: 7.35%\n",
      "RMSE: 2537.99\n",
      "R2: 0.93\n",
      "Prophet w Regressor: Manhattan, Predict Aug 2024 by looking at historical data 11 days before\n"
     ]
    },
    {
     "name": "stderr",
     "output_type": "stream",
     "text": [
      "09:07:40 - cmdstanpy - INFO - Chain [1] start processing\n",
      "09:08:07 - cmdstanpy - INFO - Chain [1] done processing\n"
     ]
    },
    {
     "name": "stdout",
     "output_type": "stream",
     "text": [
      "MAE: 1749.25\n",
      "MAPE: 7.68%\n",
      "RMSE: 2595.17\n",
      "R2: 0.93\n",
      "Prophet w Regressor: Manhattan, Predict Aug 2024 by looking at historical data 12 days before\n"
     ]
    },
    {
     "name": "stderr",
     "output_type": "stream",
     "text": [
      "09:08:09 - cmdstanpy - INFO - Chain [1] start processing\n",
      "09:08:27 - cmdstanpy - INFO - Chain [1] done processing\n"
     ]
    },
    {
     "name": "stdout",
     "output_type": "stream",
     "text": [
      "MAE: 1870.10\n",
      "MAPE: 8.27%\n",
      "RMSE: 2687.04\n",
      "R2: 0.93\n",
      "Prophet w Regressor: Manhattan, Predict Aug 2024 by looking at historical data 13 days before\n"
     ]
    },
    {
     "name": "stderr",
     "output_type": "stream",
     "text": [
      "09:08:29 - cmdstanpy - INFO - Chain [1] start processing\n",
      "09:08:49 - cmdstanpy - INFO - Chain [1] done processing\n"
     ]
    },
    {
     "name": "stdout",
     "output_type": "stream",
     "text": [
      "MAE: 1847.12\n",
      "MAPE: 8.16%\n",
      "RMSE: 2668.30\n",
      "R2: 0.93\n",
      "Prophet w Regressor: Manhattan, Predict Aug 2024 by looking at historical data 14 days before\n"
     ]
    },
    {
     "name": "stderr",
     "output_type": "stream",
     "text": [
      "09:08:51 - cmdstanpy - INFO - Chain [1] start processing\n",
      "09:09:13 - cmdstanpy - INFO - Chain [1] done processing\n"
     ]
    },
    {
     "name": "stdout",
     "output_type": "stream",
     "text": [
      "MAE: 1834.54\n",
      "MAPE: 8.09%\n",
      "RMSE: 2659.52\n",
      "R2: 0.93\n",
      "Prophet w Regressor: Manhattan, Predict Aug 2024 by looking at historical data 15 days before\n"
     ]
    },
    {
     "name": "stderr",
     "output_type": "stream",
     "text": [
      "09:09:15 - cmdstanpy - INFO - Chain [1] start processing\n",
      "09:09:46 - cmdstanpy - INFO - Chain [1] done processing\n"
     ]
    },
    {
     "name": "stdout",
     "output_type": "stream",
     "text": [
      "MAE: 1717.46\n",
      "MAPE: 7.54%\n",
      "RMSE: 2571.54\n",
      "R2: 0.93\n",
      "Prophet w Regressor: Manhattan, Predict Aug 2024 by looking at historical data 16 days before\n"
     ]
    },
    {
     "name": "stderr",
     "output_type": "stream",
     "text": [
      "09:09:48 - cmdstanpy - INFO - Chain [1] start processing\n",
      "09:10:13 - cmdstanpy - INFO - Chain [1] done processing\n"
     ]
    },
    {
     "name": "stdout",
     "output_type": "stream",
     "text": [
      "MAE: 1674.22\n",
      "MAPE: 7.35%\n",
      "RMSE: 2541.92\n",
      "R2: 0.93\n",
      "Prophet w Regressor: Manhattan, Predict Aug 2024 by looking at historical data 17 days before\n"
     ]
    },
    {
     "name": "stderr",
     "output_type": "stream",
     "text": [
      "09:10:15 - cmdstanpy - INFO - Chain [1] start processing\n",
      "09:10:41 - cmdstanpy - INFO - Chain [1] done processing\n"
     ]
    },
    {
     "name": "stdout",
     "output_type": "stream",
     "text": [
      "MAE: 1632.46\n",
      "MAPE: 7.23%\n",
      "RMSE: 2508.89\n",
      "R2: 0.94\n",
      "Prophet w Regressor: Manhattan, Predict Aug 2024 by looking at historical data 18 days before\n"
     ]
    },
    {
     "name": "stderr",
     "output_type": "stream",
     "text": [
      "09:10:43 - cmdstanpy - INFO - Chain [1] start processing\n",
      "09:11:10 - cmdstanpy - INFO - Chain [1] done processing\n"
     ]
    },
    {
     "name": "stdout",
     "output_type": "stream",
     "text": [
      "MAE: 1622.23\n",
      "MAPE: 7.21%\n",
      "RMSE: 2502.45\n",
      "R2: 0.94\n",
      "Prophet w Regressor: Manhattan, Predict Aug 2024 by looking at historical data 19 days before\n"
     ]
    },
    {
     "name": "stderr",
     "output_type": "stream",
     "text": [
      "09:11:12 - cmdstanpy - INFO - Chain [1] start processing\n",
      "09:11:36 - cmdstanpy - INFO - Chain [1] done processing\n"
     ]
    },
    {
     "name": "stdout",
     "output_type": "stream",
     "text": [
      "MAE: 1595.49\n",
      "MAPE: 7.19%\n",
      "RMSE: 2481.34\n",
      "R2: 0.94\n",
      "Prophet w Regressor: Manhattan, Predict Aug 2024 by looking at historical data 20 days before\n"
     ]
    },
    {
     "name": "stderr",
     "output_type": "stream",
     "text": [
      "09:11:39 - cmdstanpy - INFO - Chain [1] start processing\n",
      "09:12:09 - cmdstanpy - INFO - Chain [1] done processing\n"
     ]
    },
    {
     "name": "stdout",
     "output_type": "stream",
     "text": [
      "MAE: 1599.16\n",
      "MAPE: 7.19%\n",
      "RMSE: 2486.29\n",
      "R2: 0.94\n",
      "Prophet w Regressor: Manhattan, Predict Aug 2024 by looking at historical data 21 days before\n"
     ]
    },
    {
     "name": "stderr",
     "output_type": "stream",
     "text": [
      "09:12:11 - cmdstanpy - INFO - Chain [1] start processing\n",
      "09:12:43 - cmdstanpy - INFO - Chain [1] done processing\n"
     ]
    },
    {
     "name": "stdout",
     "output_type": "stream",
     "text": [
      "MAE: 1584.39\n",
      "MAPE: 7.23%\n",
      "RMSE: 2475.04\n",
      "R2: 0.94\n",
      "Prophet w Regressor: Manhattan, Predict Aug 2024 by looking at historical data 22 days before\n"
     ]
    },
    {
     "name": "stderr",
     "output_type": "stream",
     "text": [
      "09:12:45 - cmdstanpy - INFO - Chain [1] start processing\n",
      "09:13:11 - cmdstanpy - INFO - Chain [1] done processing\n"
     ]
    },
    {
     "name": "stdout",
     "output_type": "stream",
     "text": [
      "MAE: 1579.74\n",
      "MAPE: 7.45%\n",
      "RMSE: 2476.25\n",
      "R2: 0.94\n",
      "Prophet w Regressor: Manhattan, Predict Aug 2024 by looking at historical data 23 days before\n"
     ]
    },
    {
     "name": "stderr",
     "output_type": "stream",
     "text": [
      "09:13:13 - cmdstanpy - INFO - Chain [1] start processing\n",
      "09:13:38 - cmdstanpy - INFO - Chain [1] done processing\n"
     ]
    },
    {
     "name": "stdout",
     "output_type": "stream",
     "text": [
      "MAE: 1593.67\n",
      "MAPE: 7.53%\n",
      "RMSE: 2493.64\n",
      "R2: 0.94\n",
      "Prophet w Regressor: Manhattan, Predict Aug 2024 by looking at historical data 24 days before\n"
     ]
    },
    {
     "name": "stderr",
     "output_type": "stream",
     "text": [
      "09:13:41 - cmdstanpy - INFO - Chain [1] start processing\n",
      "09:13:51 - cmdstanpy - INFO - Chain [1] done processing\n"
     ]
    },
    {
     "name": "stdout",
     "output_type": "stream",
     "text": [
      "MAE: 1597.82\n",
      "MAPE: 7.80%\n",
      "RMSE: 2500.36\n",
      "R2: 0.94\n",
      "Prophet w Regressor: Manhattan, Predict Aug 2024 by looking at historical data 25 days before\n"
     ]
    },
    {
     "name": "stderr",
     "output_type": "stream",
     "text": [
      "09:13:53 - cmdstanpy - INFO - Chain [1] start processing\n",
      "09:14:24 - cmdstanpy - INFO - Chain [1] done processing\n"
     ]
    },
    {
     "name": "stdout",
     "output_type": "stream",
     "text": [
      "MAE: 1599.48\n",
      "MAPE: 7.51%\n",
      "RMSE: 2499.87\n",
      "R2: 0.94\n",
      "Prophet w Regressor: Manhattan, Predict Aug 2024 by looking at historical data 26 days before\n"
     ]
    },
    {
     "name": "stderr",
     "output_type": "stream",
     "text": [
      "09:14:26 - cmdstanpy - INFO - Chain [1] start processing\n",
      "09:14:48 - cmdstanpy - INFO - Chain [1] done processing\n"
     ]
    },
    {
     "name": "stdout",
     "output_type": "stream",
     "text": [
      "MAE: 1630.06\n",
      "MAPE: 7.21%\n",
      "RMSE: 2521.54\n",
      "R2: 0.94\n",
      "Prophet w Regressor: Manhattan, Predict Aug 2024 by looking at historical data 27 days before\n"
     ]
    },
    {
     "name": "stderr",
     "output_type": "stream",
     "text": [
      "09:14:50 - cmdstanpy - INFO - Chain [1] start processing\n",
      "09:15:04 - cmdstanpy - INFO - Chain [1] done processing\n"
     ]
    },
    {
     "name": "stdout",
     "output_type": "stream",
     "text": [
      "MAE: 1728.70\n",
      "MAPE: 7.49%\n",
      "RMSE: 2597.34\n",
      "R2: 0.93\n",
      "Prophet w Regressor: Manhattan, Predict Aug 2024 by looking at historical data 28 days before\n"
     ]
    },
    {
     "name": "stderr",
     "output_type": "stream",
     "text": [
      "09:15:06 - cmdstanpy - INFO - Chain [1] start processing\n",
      "09:15:28 - cmdstanpy - INFO - Chain [1] done processing\n"
     ]
    },
    {
     "name": "stdout",
     "output_type": "stream",
     "text": [
      "MAE: 1976.32\n",
      "MAPE: 8.71%\n",
      "RMSE: 2784.53\n",
      "R2: 0.92\n",
      "Prophet w Regressor: Manhattan, Predict Aug 2024 by looking at historical data 29 days before\n"
     ]
    },
    {
     "name": "stderr",
     "output_type": "stream",
     "text": [
      "09:15:30 - cmdstanpy - INFO - Chain [1] start processing\n",
      "09:15:51 - cmdstanpy - INFO - Chain [1] done processing\n"
     ]
    },
    {
     "name": "stdout",
     "output_type": "stream",
     "text": [
      "MAE: 2117.00\n",
      "MAPE: 9.58%\n",
      "RMSE: 2892.02\n",
      "R2: 0.91\n",
      "Prophet w Regressor: Manhattan, Predict Aug 2024 by looking at historical data 30 days before\n"
     ]
    },
    {
     "name": "stderr",
     "output_type": "stream",
     "text": [
      "09:15:53 - cmdstanpy - INFO - Chain [1] start processing\n",
      "09:16:07 - cmdstanpy - INFO - Chain [1] done processing\n"
     ]
    },
    {
     "name": "stdout",
     "output_type": "stream",
     "text": [
      "MAE: 2228.07\n",
      "MAPE: 10.30%\n",
      "RMSE: 2977.20\n",
      "R2: 0.91\n",
      "Prophet w Regressor: Manhattan, Predict Aug 2024 by looking at historical data 31 days before\n"
     ]
    },
    {
     "name": "stderr",
     "output_type": "stream",
     "text": [
      "09:16:10 - cmdstanpy - INFO - Chain [1] start processing\n",
      "09:16:32 - cmdstanpy - INFO - Chain [1] done processing\n"
     ]
    },
    {
     "name": "stdout",
     "output_type": "stream",
     "text": [
      "MAE: 2294.41\n",
      "MAPE: 10.73%\n",
      "RMSE: 3029.46\n",
      "R2: 0.91\n",
      "Prophet w Regressor: Manhattan, Predict Aug 2024 by looking at historical data 32 days before\n"
     ]
    },
    {
     "name": "stderr",
     "output_type": "stream",
     "text": [
      "09:16:35 - cmdstanpy - INFO - Chain [1] start processing\n",
      "09:16:52 - cmdstanpy - INFO - Chain [1] done processing\n"
     ]
    },
    {
     "name": "stdout",
     "output_type": "stream",
     "text": [
      "MAE: 2293.34\n",
      "MAPE: 10.72%\n",
      "RMSE: 3029.60\n",
      "R2: 0.91\n",
      "Prophet w Regressor: Manhattan, Predict Aug 2024 by looking at historical data 33 days before\n"
     ]
    },
    {
     "name": "stderr",
     "output_type": "stream",
     "text": [
      "09:16:54 - cmdstanpy - INFO - Chain [1] start processing\n",
      "09:17:10 - cmdstanpy - INFO - Chain [1] done processing\n"
     ]
    },
    {
     "name": "stdout",
     "output_type": "stream",
     "text": [
      "MAE: 2163.25\n",
      "MAPE: 9.88%\n",
      "RMSE: 2927.97\n",
      "R2: 0.91\n",
      "Prophet w Regressor: Manhattan, Predict Aug 2024 by looking at historical data 34 days before\n"
     ]
    },
    {
     "name": "stderr",
     "output_type": "stream",
     "text": [
      "09:17:12 - cmdstanpy - INFO - Chain [1] start processing\n",
      "09:17:32 - cmdstanpy - INFO - Chain [1] done processing\n"
     ]
    },
    {
     "name": "stdout",
     "output_type": "stream",
     "text": [
      "MAE: 2067.78\n",
      "MAPE: 9.26%\n",
      "RMSE: 2853.80\n",
      "R2: 0.92\n",
      "Prophet w Regressor: Manhattan, Predict Aug 2024 by looking at historical data 35 days before\n"
     ]
    },
    {
     "name": "stderr",
     "output_type": "stream",
     "text": [
      "09:17:34 - cmdstanpy - INFO - Chain [1] start processing\n",
      "09:17:51 - cmdstanpy - INFO - Chain [1] done processing\n"
     ]
    },
    {
     "name": "stdout",
     "output_type": "stream",
     "text": [
      "MAE: 1973.58\n",
      "MAPE: 8.69%\n",
      "RMSE: 2780.45\n",
      "R2: 0.92\n",
      "Prophet w Regressor: Manhattan, Predict Aug 2024 by looking at historical data 36 days before\n"
     ]
    },
    {
     "name": "stderr",
     "output_type": "stream",
     "text": [
      "09:17:53 - cmdstanpy - INFO - Chain [1] start processing\n",
      "09:18:08 - cmdstanpy - INFO - Chain [1] done processing\n"
     ]
    },
    {
     "name": "stdout",
     "output_type": "stream",
     "text": [
      "MAE: 1803.12\n",
      "MAPE: 7.78%\n",
      "RMSE: 2651.12\n",
      "R2: 0.93\n",
      "Prophet w Regressor: Manhattan, Predict Aug 2024 by looking at historical data 37 days before\n"
     ]
    },
    {
     "name": "stderr",
     "output_type": "stream",
     "text": [
      "09:18:10 - cmdstanpy - INFO - Chain [1] start processing\n",
      "09:18:34 - cmdstanpy - INFO - Chain [1] done processing\n"
     ]
    },
    {
     "name": "stdout",
     "output_type": "stream",
     "text": [
      "MAE: 1653.07\n",
      "MAPE: 7.17%\n",
      "RMSE: 2538.53\n",
      "R2: 0.93\n",
      "Prophet w Regressor: Manhattan, Predict Aug 2024 by looking at historical data 38 days before\n"
     ]
    },
    {
     "name": "stderr",
     "output_type": "stream",
     "text": [
      "09:18:37 - cmdstanpy - INFO - Chain [1] start processing\n",
      "09:19:02 - cmdstanpy - INFO - Chain [1] done processing\n"
     ]
    },
    {
     "name": "stdout",
     "output_type": "stream",
     "text": [
      "MAE: 1619.97\n",
      "MAPE: 7.12%\n",
      "RMSE: 2512.72\n",
      "R2: 0.94\n",
      "Prophet w Regressor: Manhattan, Predict Aug 2024 by looking at historical data 39 days before\n"
     ]
    },
    {
     "name": "stderr",
     "output_type": "stream",
     "text": [
      "09:19:04 - cmdstanpy - INFO - Chain [1] start processing\n",
      "09:19:28 - cmdstanpy - INFO - Chain [1] done processing\n"
     ]
    },
    {
     "name": "stdout",
     "output_type": "stream",
     "text": [
      "MAE: 1600.72\n",
      "MAPE: 7.17%\n",
      "RMSE: 2498.29\n",
      "R2: 0.94\n",
      "Prophet w Regressor: Manhattan, Predict Aug 2024 by looking at historical data 40 days before\n"
     ]
    },
    {
     "name": "stderr",
     "output_type": "stream",
     "text": [
      "09:19:31 - cmdstanpy - INFO - Chain [1] start processing\n",
      "09:19:49 - cmdstanpy - INFO - Chain [1] done processing\n"
     ]
    },
    {
     "name": "stdout",
     "output_type": "stream",
     "text": [
      "MAE: 1592.71\n",
      "MAPE: 7.50%\n",
      "RMSE: 2494.62\n",
      "R2: 0.94\n",
      "Prophet w Regressor: Manhattan, Predict Aug 2024 by looking at historical data 41 days before\n"
     ]
    },
    {
     "name": "stderr",
     "output_type": "stream",
     "text": [
      "09:19:51 - cmdstanpy - INFO - Chain [1] start processing\n",
      "09:20:12 - cmdstanpy - INFO - Chain [1] done processing\n"
     ]
    },
    {
     "name": "stdout",
     "output_type": "stream",
     "text": [
      "MAE: 1593.96\n",
      "MAPE: 7.48%\n",
      "RMSE: 2495.29\n",
      "R2: 0.94\n",
      "Prophet w Regressor: Manhattan, Predict Aug 2024 by looking at historical data 42 days before\n"
     ]
    },
    {
     "name": "stderr",
     "output_type": "stream",
     "text": [
      "09:20:14 - cmdstanpy - INFO - Chain [1] start processing\n",
      "09:20:33 - cmdstanpy - INFO - Chain [1] done processing\n"
     ]
    },
    {
     "name": "stdout",
     "output_type": "stream",
     "text": [
      "MAE: 1596.82\n",
      "MAPE: 7.40%\n",
      "RMSE: 2498.64\n",
      "R2: 0.94\n",
      "Prophet w Regressor: Manhattan, Predict Aug 2024 by looking at historical data 43 days before\n"
     ]
    },
    {
     "name": "stderr",
     "output_type": "stream",
     "text": [
      "09:20:36 - cmdstanpy - INFO - Chain [1] start processing\n",
      "09:21:00 - cmdstanpy - INFO - Chain [1] done processing\n"
     ]
    },
    {
     "name": "stdout",
     "output_type": "stream",
     "text": [
      "MAE: 1594.04\n",
      "MAPE: 7.25%\n",
      "RMSE: 2493.25\n",
      "R2: 0.94\n",
      "Prophet w Regressor: Manhattan, Predict Aug 2024 by looking at historical data 44 days before\n"
     ]
    },
    {
     "name": "stderr",
     "output_type": "stream",
     "text": [
      "09:21:02 - cmdstanpy - INFO - Chain [1] start processing\n",
      "09:21:20 - cmdstanpy - INFO - Chain [1] done processing\n"
     ]
    },
    {
     "name": "stdout",
     "output_type": "stream",
     "text": [
      "MAE: 1594.66\n",
      "MAPE: 7.32%\n",
      "RMSE: 2495.27\n",
      "R2: 0.94\n",
      "Prophet w Regressor: Manhattan, Predict Aug 2024 by looking at historical data 45 days before\n"
     ]
    },
    {
     "name": "stderr",
     "output_type": "stream",
     "text": [
      "09:21:22 - cmdstanpy - INFO - Chain [1] start processing\n",
      "09:21:40 - cmdstanpy - INFO - Chain [1] done processing\n"
     ]
    },
    {
     "name": "stdout",
     "output_type": "stream",
     "text": [
      "MAE: 1591.50\n",
      "MAPE: 7.31%\n",
      "RMSE: 2491.82\n",
      "R2: 0.94\n",
      "Prophet w Regressor: Manhattan, Predict Aug 2024 by looking at historical data 46 days before\n"
     ]
    },
    {
     "name": "stderr",
     "output_type": "stream",
     "text": [
      "09:21:42 - cmdstanpy - INFO - Chain [1] start processing\n",
      "09:22:02 - cmdstanpy - INFO - Chain [1] done processing\n"
     ]
    },
    {
     "name": "stdout",
     "output_type": "stream",
     "text": [
      "MAE: 1662.26\n",
      "MAPE: 7.24%\n",
      "RMSE: 2552.81\n",
      "R2: 0.93\n",
      "Prophet w Regressor: Manhattan, Predict Aug 2024 by looking at historical data 47 days before\n"
     ]
    },
    {
     "name": "stderr",
     "output_type": "stream",
     "text": [
      "09:22:04 - cmdstanpy - INFO - Chain [1] start processing\n",
      "09:22:34 - cmdstanpy - INFO - Chain [1] done processing\n"
     ]
    },
    {
     "name": "stdout",
     "output_type": "stream",
     "text": [
      "MAE: 1642.52\n",
      "MAPE: 7.19%\n",
      "RMSE: 2535.48\n",
      "R2: 0.93\n",
      "Prophet w Regressor: Manhattan, Predict Aug 2024 by looking at historical data 48 days before\n"
     ]
    },
    {
     "name": "stderr",
     "output_type": "stream",
     "text": [
      "09:22:36 - cmdstanpy - INFO - Chain [1] start processing\n",
      "09:22:52 - cmdstanpy - INFO - Chain [1] done processing\n"
     ]
    },
    {
     "name": "stdout",
     "output_type": "stream",
     "text": [
      "MAE: 1616.80\n",
      "MAPE: 7.17%\n",
      "RMSE: 2513.95\n",
      "R2: 0.94\n",
      "Prophet w Regressor: Manhattan, Predict Aug 2024 by looking at historical data 49 days before\n"
     ]
    },
    {
     "name": "stderr",
     "output_type": "stream",
     "text": [
      "09:22:54 - cmdstanpy - INFO - Chain [1] start processing\n",
      "09:23:23 - cmdstanpy - INFO - Chain [1] done processing\n"
     ]
    },
    {
     "name": "stdout",
     "output_type": "stream",
     "text": [
      "MAE: 1641.60\n",
      "MAPE: 7.19%\n",
      "RMSE: 2536.50\n",
      "R2: 0.93\n",
      "Prophet w Regressor: Manhattan, Predict Aug 2024 by looking at historical data 50 days before\n"
     ]
    },
    {
     "name": "stderr",
     "output_type": "stream",
     "text": [
      "09:23:26 - cmdstanpy - INFO - Chain [1] start processing\n",
      "09:23:51 - cmdstanpy - INFO - Chain [1] done processing\n"
     ]
    },
    {
     "name": "stdout",
     "output_type": "stream",
     "text": [
      "MAE: 1766.96\n",
      "MAPE: 7.64%\n",
      "RMSE: 2627.48\n",
      "R2: 0.93\n",
      "Prophet w Regressor: Manhattan, Predict Aug 2024 by looking at historical data 51 days before\n"
     ]
    },
    {
     "name": "stderr",
     "output_type": "stream",
     "text": [
      "09:23:55 - cmdstanpy - INFO - Chain [1] start processing\n",
      "09:24:24 - cmdstanpy - INFO - Chain [1] done processing\n"
     ]
    },
    {
     "name": "stdout",
     "output_type": "stream",
     "text": [
      "MAE: 1815.68\n",
      "MAPE: 7.87%\n",
      "RMSE: 2662.32\n",
      "R2: 0.93\n",
      "Prophet w Regressor: Manhattan, Predict Aug 2024 by looking at historical data 52 days before\n"
     ]
    },
    {
     "name": "stderr",
     "output_type": "stream",
     "text": [
      "09:24:26 - cmdstanpy - INFO - Chain [1] start processing\n",
      "09:24:46 - cmdstanpy - INFO - Chain [1] done processing\n"
     ]
    },
    {
     "name": "stdout",
     "output_type": "stream",
     "text": [
      "MAE: 1783.45\n",
      "MAPE: 7.71%\n",
      "RMSE: 2638.73\n",
      "R2: 0.93\n",
      "Prophet w Regressor: Manhattan, Predict Aug 2024 by looking at historical data 53 days before\n"
     ]
    },
    {
     "name": "stderr",
     "output_type": "stream",
     "text": [
      "09:24:48 - cmdstanpy - INFO - Chain [1] start processing\n",
      "09:25:15 - cmdstanpy - INFO - Chain [1] done processing\n"
     ]
    },
    {
     "name": "stdout",
     "output_type": "stream",
     "text": [
      "MAE: 1894.00\n",
      "MAPE: 8.28%\n",
      "RMSE: 2719.94\n",
      "R2: 0.92\n",
      "Prophet w Regressor: Manhattan, Predict Aug 2024 by looking at historical data 54 days before\n"
     ]
    },
    {
     "name": "stderr",
     "output_type": "stream",
     "text": [
      "09:25:17 - cmdstanpy - INFO - Chain [1] start processing\n",
      "09:25:47 - cmdstanpy - INFO - Chain [1] done processing\n"
     ]
    },
    {
     "name": "stdout",
     "output_type": "stream",
     "text": [
      "MAE: 2007.81\n",
      "MAPE: 8.92%\n",
      "RMSE: 2808.15\n",
      "R2: 0.92\n",
      "Prophet w Regressor: Manhattan, Predict Aug 2024 by looking at historical data 55 days before\n"
     ]
    },
    {
     "name": "stderr",
     "output_type": "stream",
     "text": [
      "09:25:49 - cmdstanpy - INFO - Chain [1] start processing\n",
      "09:26:14 - cmdstanpy - INFO - Chain [1] done processing\n"
     ]
    },
    {
     "name": "stdout",
     "output_type": "stream",
     "text": [
      "MAE: 1918.26\n",
      "MAPE: 8.41%\n",
      "RMSE: 2739.32\n",
      "R2: 0.92\n",
      "Prophet w Regressor: Manhattan, Predict Aug 2024 by looking at historical data 56 days before\n"
     ]
    },
    {
     "name": "stderr",
     "output_type": "stream",
     "text": [
      "09:26:16 - cmdstanpy - INFO - Chain [1] start processing\n",
      "09:26:43 - cmdstanpy - INFO - Chain [1] done processing\n"
     ]
    },
    {
     "name": "stdout",
     "output_type": "stream",
     "text": [
      "MAE: 1823.19\n",
      "MAPE: 7.90%\n",
      "RMSE: 2671.57\n",
      "R2: 0.93\n",
      "Prophet w Regressor: Manhattan, Predict Aug 2024 by looking at historical data 57 days before\n"
     ]
    },
    {
     "name": "stderr",
     "output_type": "stream",
     "text": [
      "09:26:45 - cmdstanpy - INFO - Chain [1] start processing\n",
      "09:27:06 - cmdstanpy - INFO - Chain [1] done processing\n"
     ]
    },
    {
     "name": "stdout",
     "output_type": "stream",
     "text": [
      "MAE: 1892.59\n",
      "MAPE: 8.26%\n",
      "RMSE: 2722.74\n",
      "R2: 0.92\n",
      "Prophet w Regressor: Manhattan, Predict Aug 2024 by looking at historical data 58 days before\n"
     ]
    },
    {
     "name": "stderr",
     "output_type": "stream",
     "text": [
      "09:27:08 - cmdstanpy - INFO - Chain [1] start processing\n",
      "09:27:26 - cmdstanpy - INFO - Chain [1] done processing\n"
     ]
    },
    {
     "name": "stdout",
     "output_type": "stream",
     "text": [
      "MAE: 1867.26\n",
      "MAPE: 8.13%\n",
      "RMSE: 2701.93\n",
      "R2: 0.93\n",
      "Prophet w Regressor: Manhattan, Predict Aug 2024 by looking at historical data 59 days before\n"
     ]
    },
    {
     "name": "stderr",
     "output_type": "stream",
     "text": [
      "09:27:28 - cmdstanpy - INFO - Chain [1] start processing\n",
      "09:27:50 - cmdstanpy - INFO - Chain [1] done processing\n"
     ]
    },
    {
     "name": "stdout",
     "output_type": "stream",
     "text": [
      "MAE: 1771.34\n",
      "MAPE: 7.66%\n",
      "RMSE: 2637.30\n",
      "R2: 0.93\n",
      "Prophet w Regressor: Manhattan, Predict Aug 2024 by looking at historical data 60 days before\n"
     ]
    },
    {
     "name": "stderr",
     "output_type": "stream",
     "text": [
      "09:27:52 - cmdstanpy - INFO - Chain [1] start processing\n",
      "09:28:09 - cmdstanpy - INFO - Chain [1] done processing\n"
     ]
    },
    {
     "name": "stdout",
     "output_type": "stream",
     "text": [
      "MAE: 1647.20\n",
      "MAPE: 7.23%\n",
      "RMSE: 2545.64\n",
      "R2: 0.93\n",
      "Prophet w Regressor: Manhattan, Predict Aug 2024 by looking at historical data 61 days before\n"
     ]
    },
    {
     "name": "stderr",
     "output_type": "stream",
     "text": [
      "09:28:12 - cmdstanpy - INFO - Chain [1] start processing\n",
      "09:28:38 - cmdstanpy - INFO - Chain [1] done processing\n"
     ]
    },
    {
     "name": "stdout",
     "output_type": "stream",
     "text": [
      "MAE: 1679.18\n",
      "MAPE: 7.31%\n",
      "RMSE: 2568.02\n",
      "R2: 0.93\n",
      "Prophet w Regressor: Manhattan, Predict Aug 2024 by looking at historical data 62 days before\n"
     ]
    },
    {
     "name": "stderr",
     "output_type": "stream",
     "text": [
      "09:28:41 - cmdstanpy - INFO - Chain [1] start processing\n",
      "09:29:03 - cmdstanpy - INFO - Chain [1] done processing\n"
     ]
    },
    {
     "name": "stdout",
     "output_type": "stream",
     "text": [
      "MAE: 1678.47\n",
      "MAPE: 7.31%\n",
      "RMSE: 2566.13\n",
      "R2: 0.93\n",
      "Prophet w Regressor: Manhattan, Predict Aug 2024 by looking at historical data 63 days before\n"
     ]
    },
    {
     "name": "stderr",
     "output_type": "stream",
     "text": [
      "09:29:05 - cmdstanpy - INFO - Chain [1] start processing\n",
      "09:29:30 - cmdstanpy - INFO - Chain [1] done processing\n"
     ]
    },
    {
     "name": "stdout",
     "output_type": "stream",
     "text": [
      "MAE: 1722.56\n",
      "MAPE: 7.47%\n",
      "RMSE: 2596.38\n",
      "R2: 0.93\n",
      "Prophet w Regressor: Manhattan, Predict Aug 2024 by looking at historical data 64 days before\n"
     ]
    },
    {
     "name": "stderr",
     "output_type": "stream",
     "text": [
      "09:29:32 - cmdstanpy - INFO - Chain [1] start processing\n",
      "09:29:58 - cmdstanpy - INFO - Chain [1] done processing\n"
     ]
    },
    {
     "name": "stdout",
     "output_type": "stream",
     "text": [
      "MAE: 1663.87\n",
      "MAPE: 7.26%\n",
      "RMSE: 2552.22\n",
      "R2: 0.93\n",
      "Prophet w Regressor: Manhattan, Predict Aug 2024 by looking at historical data 65 days before\n"
     ]
    },
    {
     "name": "stderr",
     "output_type": "stream",
     "text": [
      "09:30:00 - cmdstanpy - INFO - Chain [1] start processing\n",
      "09:30:17 - cmdstanpy - INFO - Chain [1] done processing\n"
     ]
    },
    {
     "name": "stdout",
     "output_type": "stream",
     "text": [
      "MAE: 1696.24\n",
      "MAPE: 7.36%\n",
      "RMSE: 2574.79\n",
      "R2: 0.93\n",
      "Prophet w Regressor: Manhattan, Predict Aug 2024 by looking at historical data 66 days before\n"
     ]
    },
    {
     "name": "stderr",
     "output_type": "stream",
     "text": [
      "09:30:19 - cmdstanpy - INFO - Chain [1] start processing\n",
      "09:30:39 - cmdstanpy - INFO - Chain [1] done processing\n"
     ]
    },
    {
     "name": "stdout",
     "output_type": "stream",
     "text": [
      "MAE: 1787.76\n",
      "MAPE: 7.74%\n",
      "RMSE: 2641.32\n",
      "R2: 0.93\n",
      "Prophet w Regressor: Manhattan, Predict Aug 2024 by looking at historical data 67 days before\n"
     ]
    },
    {
     "name": "stderr",
     "output_type": "stream",
     "text": [
      "09:30:41 - cmdstanpy - INFO - Chain [1] start processing\n",
      "09:31:00 - cmdstanpy - INFO - Chain [1] done processing\n"
     ]
    },
    {
     "name": "stdout",
     "output_type": "stream",
     "text": [
      "MAE: 1706.77\n",
      "MAPE: 7.39%\n",
      "RMSE: 2582.26\n",
      "R2: 0.93\n",
      "Prophet w Regressor: Manhattan, Predict Aug 2024 by looking at historical data 68 days before\n"
     ]
    },
    {
     "name": "stderr",
     "output_type": "stream",
     "text": [
      "09:31:02 - cmdstanpy - INFO - Chain [1] start processing\n",
      "09:31:27 - cmdstanpy - INFO - Chain [1] done processing\n"
     ]
    },
    {
     "name": "stdout",
     "output_type": "stream",
     "text": [
      "MAE: 1922.29\n",
      "MAPE: 8.46%\n",
      "RMSE: 2736.45\n",
      "R2: 0.92\n",
      "Prophet w Regressor: Manhattan, Predict Aug 2024 by looking at historical data 69 days before\n"
     ]
    },
    {
     "name": "stderr",
     "output_type": "stream",
     "text": [
      "09:31:30 - cmdstanpy - INFO - Chain [1] start processing\n",
      "09:31:54 - cmdstanpy - INFO - Chain [1] done processing\n"
     ]
    },
    {
     "name": "stdout",
     "output_type": "stream",
     "text": [
      "MAE: 1970.76\n",
      "MAPE: 8.73%\n",
      "RMSE: 2773.38\n",
      "R2: 0.92\n",
      "Prophet w Regressor: Manhattan, Predict Aug 2024 by looking at historical data 70 days before\n"
     ]
    },
    {
     "name": "stderr",
     "output_type": "stream",
     "text": [
      "09:31:56 - cmdstanpy - INFO - Chain [1] start processing\n",
      "09:32:27 - cmdstanpy - INFO - Chain [1] done processing\n"
     ]
    },
    {
     "name": "stdout",
     "output_type": "stream",
     "text": [
      "MAE: 1987.02\n",
      "MAPE: 8.83%\n",
      "RMSE: 2785.06\n",
      "R2: 0.92\n",
      "Prophet w Regressor: Manhattan, Predict Aug 2024 by looking at historical data 71 days before\n"
     ]
    },
    {
     "name": "stderr",
     "output_type": "stream",
     "text": [
      "09:32:29 - cmdstanpy - INFO - Chain [1] start processing\n",
      "09:32:50 - cmdstanpy - INFO - Chain [1] done processing\n"
     ]
    },
    {
     "name": "stdout",
     "output_type": "stream",
     "text": [
      "MAE: 1976.67\n",
      "MAPE: 8.77%\n",
      "RMSE: 2776.71\n",
      "R2: 0.92\n",
      "Prophet w Regressor: Manhattan, Predict Aug 2024 by looking at historical data 72 days before\n"
     ]
    },
    {
     "name": "stderr",
     "output_type": "stream",
     "text": [
      "09:32:52 - cmdstanpy - INFO - Chain [1] start processing\n",
      "09:33:15 - cmdstanpy - INFO - Chain [1] done processing\n"
     ]
    },
    {
     "name": "stdout",
     "output_type": "stream",
     "text": [
      "MAE: 1732.03\n",
      "MAPE: 7.48%\n",
      "RMSE: 2594.65\n",
      "R2: 0.93\n",
      "Prophet w Regressor: Manhattan, Predict Aug 2024 by looking at historical data 73 days before\n"
     ]
    },
    {
     "name": "stderr",
     "output_type": "stream",
     "text": [
      "09:33:18 - cmdstanpy - INFO - Chain [1] start processing\n",
      "09:33:49 - cmdstanpy - INFO - Chain [1] done processing\n"
     ]
    },
    {
     "name": "stdout",
     "output_type": "stream",
     "text": [
      "MAE: 1690.98\n",
      "MAPE: 7.31%\n",
      "RMSE: 2565.14\n",
      "R2: 0.93\n",
      "Prophet w Regressor: Manhattan, Predict Aug 2024 by looking at historical data 74 days before\n"
     ]
    },
    {
     "name": "stderr",
     "output_type": "stream",
     "text": [
      "09:33:51 - cmdstanpy - INFO - Chain [1] start processing\n",
      "09:34:09 - cmdstanpy - INFO - Chain [1] done processing\n"
     ]
    },
    {
     "name": "stdout",
     "output_type": "stream",
     "text": [
      "MAE: 1718.01\n",
      "MAPE: 7.42%\n",
      "RMSE: 2585.22\n",
      "R2: 0.93\n",
      "Prophet w Regressor: Manhattan, Predict Aug 2024 by looking at historical data 75 days before\n"
     ]
    },
    {
     "name": "stderr",
     "output_type": "stream",
     "text": [
      "09:34:11 - cmdstanpy - INFO - Chain [1] start processing\n",
      "09:34:41 - cmdstanpy - INFO - Chain [1] done processing\n"
     ]
    },
    {
     "name": "stdout",
     "output_type": "stream",
     "text": [
      "MAE: 1617.25\n",
      "MAPE: 7.13%\n",
      "RMSE: 2510.53\n",
      "R2: 0.94\n",
      "Prophet w Regressor: Manhattan, Predict Aug 2024 by looking at historical data 76 days before\n"
     ]
    },
    {
     "name": "stderr",
     "output_type": "stream",
     "text": [
      "09:34:43 - cmdstanpy - INFO - Chain [1] start processing\n",
      "09:35:03 - cmdstanpy - INFO - Chain [1] done processing\n"
     ]
    },
    {
     "name": "stdout",
     "output_type": "stream",
     "text": [
      "MAE: 1689.07\n",
      "MAPE: 7.30%\n",
      "RMSE: 2567.32\n",
      "R2: 0.93\n",
      "Prophet w Regressor: Manhattan, Predict Aug 2024 by looking at historical data 77 days before\n"
     ]
    },
    {
     "name": "stderr",
     "output_type": "stream",
     "text": [
      "09:35:06 - cmdstanpy - INFO - Chain [1] start processing\n",
      "09:35:22 - cmdstanpy - INFO - Chain [1] done processing\n"
     ]
    },
    {
     "name": "stdout",
     "output_type": "stream",
     "text": [
      "MAE: 1620.60\n",
      "MAPE: 7.14%\n",
      "RMSE: 2515.99\n",
      "R2: 0.94\n",
      "Prophet w Regressor: Manhattan, Predict Aug 2024 by looking at historical data 78 days before\n"
     ]
    },
    {
     "name": "stderr",
     "output_type": "stream",
     "text": [
      "09:35:24 - cmdstanpy - INFO - Chain [1] start processing\n",
      "09:35:41 - cmdstanpy - INFO - Chain [1] done processing\n"
     ]
    },
    {
     "name": "stdout",
     "output_type": "stream",
     "text": [
      "MAE: 1596.51\n",
      "MAPE: 7.31%\n",
      "RMSE: 2497.92\n",
      "R2: 0.94\n",
      "Prophet w Regressor: Manhattan, Predict Aug 2024 by looking at historical data 79 days before\n"
     ]
    },
    {
     "name": "stderr",
     "output_type": "stream",
     "text": [
      "09:35:43 - cmdstanpy - INFO - Chain [1] start processing\n",
      "09:36:03 - cmdstanpy - INFO - Chain [1] done processing\n"
     ]
    },
    {
     "name": "stdout",
     "output_type": "stream",
     "text": [
      "MAE: 1608.49\n",
      "MAPE: 7.69%\n",
      "RMSE: 2516.25\n",
      "R2: 0.94\n",
      "Prophet w Regressor: Manhattan, Predict Aug 2024 by looking at historical data 80 days before\n"
     ]
    },
    {
     "name": "stderr",
     "output_type": "stream",
     "text": [
      "09:36:06 - cmdstanpy - INFO - Chain [1] start processing\n",
      "09:36:22 - cmdstanpy - INFO - Chain [1] done processing\n"
     ]
    },
    {
     "name": "stdout",
     "output_type": "stream",
     "text": [
      "MAE: 1624.23\n",
      "MAPE: 7.93%\n",
      "RMSE: 2533.94\n",
      "R2: 0.93\n",
      "Prophet w Regressor: Manhattan, Predict Aug 2024 by looking at historical data 81 days before\n"
     ]
    },
    {
     "name": "stderr",
     "output_type": "stream",
     "text": [
      "09:36:25 - cmdstanpy - INFO - Chain [1] start processing\n",
      "09:36:43 - cmdstanpy - INFO - Chain [1] done processing\n"
     ]
    },
    {
     "name": "stdout",
     "output_type": "stream",
     "text": [
      "MAE: 1614.46\n",
      "MAPE: 7.76%\n",
      "RMSE: 2524.35\n",
      "R2: 0.94\n",
      "Prophet w Regressor: Manhattan, Predict Aug 2024 by looking at historical data 82 days before\n"
     ]
    },
    {
     "name": "stderr",
     "output_type": "stream",
     "text": [
      "09:36:45 - cmdstanpy - INFO - Chain [1] start processing\n",
      "09:37:11 - cmdstanpy - INFO - Chain [1] done processing\n"
     ]
    },
    {
     "name": "stdout",
     "output_type": "stream",
     "text": [
      "MAE: 1666.80\n",
      "MAPE: 8.49%\n",
      "RMSE: 2571.86\n",
      "R2: 0.93\n",
      "Prophet w Regressor: Manhattan, Predict Aug 2024 by looking at historical data 83 days before\n"
     ]
    },
    {
     "name": "stderr",
     "output_type": "stream",
     "text": [
      "09:37:13 - cmdstanpy - INFO - Chain [1] start processing\n",
      "09:37:41 - cmdstanpy - INFO - Chain [1] done processing\n"
     ]
    },
    {
     "name": "stdout",
     "output_type": "stream",
     "text": [
      "MAE: 1716.48\n",
      "MAPE: 8.98%\n",
      "RMSE: 2617.57\n",
      "R2: 0.93\n",
      "Prophet w Regressor: Manhattan, Predict Aug 2024 by looking at historical data 84 days before\n"
     ]
    },
    {
     "name": "stderr",
     "output_type": "stream",
     "text": [
      "09:37:43 - cmdstanpy - INFO - Chain [1] start processing\n",
      "09:38:03 - cmdstanpy - INFO - Chain [1] done processing\n"
     ]
    },
    {
     "name": "stdout",
     "output_type": "stream",
     "text": [
      "MAE: 1637.92\n",
      "MAPE: 8.12%\n",
      "RMSE: 2548.46\n",
      "R2: 0.93\n",
      "Prophet w Regressor: Manhattan, Predict Aug 2024 by looking at historical data 85 days before\n"
     ]
    },
    {
     "name": "stderr",
     "output_type": "stream",
     "text": [
      "09:38:05 - cmdstanpy - INFO - Chain [1] start processing\n",
      "09:38:34 - cmdstanpy - INFO - Chain [1] done processing\n"
     ]
    },
    {
     "name": "stdout",
     "output_type": "stream",
     "text": [
      "MAE: 1907.11\n",
      "MAPE: 10.64%\n",
      "RMSE: 2769.33\n",
      "R2: 0.92\n",
      "Prophet w Regressor: Manhattan, Predict Aug 2024 by looking at historical data 86 days before\n"
     ]
    },
    {
     "name": "stderr",
     "output_type": "stream",
     "text": [
      "09:38:36 - cmdstanpy - INFO - Chain [1] start processing\n",
      "09:39:07 - cmdstanpy - INFO - Chain [1] done processing\n"
     ]
    },
    {
     "name": "stdout",
     "output_type": "stream",
     "text": [
      "MAE: 1946.91\n",
      "MAPE: 10.92%\n",
      "RMSE: 2806.49\n",
      "R2: 0.92\n",
      "Prophet w Regressor: Manhattan, Predict Aug 2024 by looking at historical data 87 days before\n"
     ]
    },
    {
     "name": "stderr",
     "output_type": "stream",
     "text": [
      "09:39:09 - cmdstanpy - INFO - Chain [1] start processing\n",
      "09:39:30 - cmdstanpy - INFO - Chain [1] done processing\n"
     ]
    },
    {
     "name": "stdout",
     "output_type": "stream",
     "text": [
      "MAE: 1721.45\n",
      "MAPE: 9.01%\n",
      "RMSE: 2623.91\n",
      "R2: 0.93\n",
      "Prophet w Regressor: Manhattan, Predict Aug 2024 by looking at historical data 88 days before\n"
     ]
    },
    {
     "name": "stderr",
     "output_type": "stream",
     "text": [
      "09:39:33 - cmdstanpy - INFO - Chain [1] start processing\n",
      "09:39:59 - cmdstanpy - INFO - Chain [1] done processing\n"
     ]
    },
    {
     "name": "stdout",
     "output_type": "stream",
     "text": [
      "MAE: 1954.46\n",
      "MAPE: 10.96%\n",
      "RMSE: 2815.51\n",
      "R2: 0.92\n",
      "Prophet w Regressor: Manhattan, Predict Aug 2024 by looking at historical data 89 days before\n"
     ]
    },
    {
     "name": "stderr",
     "output_type": "stream",
     "text": [
      "09:40:02 - cmdstanpy - INFO - Chain [1] start processing\n",
      "09:40:31 - cmdstanpy - INFO - Chain [1] done processing\n"
     ]
    },
    {
     "name": "stdout",
     "output_type": "stream",
     "text": [
      "MAE: 2184.09\n",
      "MAPE: 12.66%\n",
      "RMSE: 3005.49\n",
      "R2: 0.91\n"
     ]
    }
   ],
   "source": [
    "mae = []\n",
    "mape = []\n",
    "rmse = []\n",
    "r2 = []\n",
    "for i, dt in enumerate(lead_dt):\n",
    "    print(f\"Prophet w Regressor: {b}, Predict Aug 2024 by looking at historical data {i} days before\")\n",
    "\n",
    "    dt_start = dt.subtract(years=3)\n",
    "    \n",
    "    dt = dt.strftime('%Y-%m-%d %H:%M:%S')\n",
    "    dt_start = dt_start.strftime('%Y-%m-%d %H:%M:%S')\n",
    "    \n",
    "    df = pd.read_parquet(f'../data/{b} - all txns.parquet.gz')\n",
    "    df = df.reset_index()\n",
    "    df['timestamp_hour'] = pd.to_datetime(df['timestamp_hour'])\n",
    "    df = df.sort_values(by = 'timestamp_hour')\n",
    "    df = df.rename(columns = {'num_txns_All': 'y', 'timestamp_hour': 'ds'})\n",
    "\n",
    "    df = df[['ds', 'y', \n",
    "                   'rolling_avg_w1-w4_lags', \n",
    "                   #'is_long_weekend',\n",
    "                   # 'is_rush_hour', \n",
    "                   #'is_business_hour', \n",
    "                   #'lag_168'\n",
    "            ]]\n",
    "    \n",
    "    df_hist = df[(df['ds'] < str(dt)) & (df['ds']>=dt_start)]\n",
    "    df_test = df[df['ds']>= '2024-08-01']\n",
    "    \n",
    "    df_hist = df_hist.dropna()\n",
    "\n",
    "    best = joblib.load(f'../models/{b}_Prophet.joblib')\n",
    "    \n",
    "    model = Prophet(changepoint_prior_scale=best.changepoint_prior_scale,\n",
    "                seasonality_prior_scale=best.seasonality_prior_scale,\n",
    "                holidays_prior_scale=best.holidays_prior_scale,\n",
    "                seasonality_mode=best.seasonality_mode,\n",
    "                yearly_seasonality=best.yearly_seasonality,\n",
    "                weekly_seasonality=best.weekly_seasonality,\n",
    "                daily_seasonality=best.daily_seasonality)\n",
    "\n",
    "    # Add exogenous variables as regressors\n",
    "    model.add_regressor('rolling_avg_w1-w4_lags')\n",
    "\n",
    "    # Add custom hourly seasonality (you can adjust the period if needed)\n",
    "    model.add_seasonality(name='hourly', period=24, fourier_order = 8)\n",
    "\n",
    "    # Fit the model\n",
    "    model.fit(df_hist)\n",
    "\n",
    "    future = pd.DataFrame({'ds': df_test['ds']})\n",
    "    forecast = model.predict(df_test)\n",
    "    results = helpers.performance_metrics(df_test['y'], forecast['yhat'])\n",
    "\n",
    "    mae.append(results['mae'])\n",
    "    mape.append(results['mape'])\n",
    "    rmse.append(results['rmse'])\n",
    "    r2.append(results['r2'])\n",
    "    \n",
    "    #model_loc = f'../models/{b}_Prophet_wRegressor.joblib'\n",
    "    forecast_loc = f'../data/forecasts/{b}_Aug2024_forecasts_wRegressor_wLeadTime_windowed{dt}.csv'\n",
    "    \n",
    "    #joblib.dump(model, model_loc)\n",
    "    forecast.to_csv(forecast_loc)"
   ]
  },
  {
   "cell_type": "code",
   "execution_count": 31,
   "id": "7d21d740-0615-42e2-8150-f790d7a02eca",
   "metadata": {
    "execution": {
     "iopub.execute_input": "2024-11-26T09:40:32.055122Z",
     "iopub.status.busy": "2024-11-26T09:40:32.054857Z",
     "iopub.status.idle": "2024-11-26T09:40:32.275203Z",
     "shell.execute_reply": "2024-11-26T09:40:32.274460Z",
     "shell.execute_reply.started": "2024-11-26T09:40:32.055097Z"
    }
   },
   "outputs": [
    {
     "data": {
      "text/plain": [
       "[<matplotlib.lines.Line2D at 0x7feb6b60de90>]"
      ]
     },
     "execution_count": 31,
     "metadata": {},
     "output_type": "execute_result"
    },
    {
     "data": {
      "image/png": "[encoded data removed]",
      "text/plain": [
       "<Figure size 640x480 with 1 Axes>"
      ]
     },
     "metadata": {},
     "output_type": "display_data"
    }
   ],
   "source": [
    "plt.plot(r2)"
   ]
  },
  {
   "cell_type": "code",
   "execution_count": 32,
   "id": "cfca49dd-f91f-4c2c-be36-62d81133427f",
   "metadata": {
    "execution": {
     "iopub.execute_input": "2024-11-26T09:40:32.276462Z",
     "iopub.status.busy": "2024-11-26T09:40:32.276192Z",
     "iopub.status.idle": "2024-11-26T09:40:32.467467Z",
     "shell.execute_reply": "2024-11-26T09:40:32.466729Z",
     "shell.execute_reply.started": "2024-11-26T09:40:32.276436Z"
    }
   },
   "outputs": [
    {
     "data": {
      "text/plain": [
       "[<matplotlib.lines.Line2D at 0x7febacd25090>]"
      ]
     },
     "execution_count": 32,
     "metadata": {},
     "output_type": "execute_result"
    },
    {
     "data": {
      "image/png": "[encoded data removed]",
      "text/plain": [
       "<Figure size 640x480 with 1 Axes>"
      ]
     },
     "metadata": {},
     "output_type": "display_data"
    }
   ],
   "source": [
    "plt.plot(mape)"
   ]
  },
  {
   "cell_type": "code",
   "execution_count": null,
   "id": "62497fa5-8965-4c7f-a9ae-204082d3f660",
   "metadata": {},
   "outputs": [],
   "source": []
  }
 ],
 "metadata": {
  "availableInstances": [
   {
    "_defaultOrder": 0,
    "_isFastLaunch": true,
    "category": "General purpose",
    "gpuNum": 0,
    "hideHardwareSpecs": false,
    "memoryGiB": 4,
    "name": "ml.t3.medium",
    "vcpuNum": 2
   },
   {
    "_defaultOrder": 1,
    "_isFastLaunch": false,
    "category": "General purpose",
    "gpuNum": 0,
    "hideHardwareSpecs": false,
    "memoryGiB": 8,
    "name": "ml.t3.large",
    "vcpuNum": 2
   },
   {
    "_defaultOrder": 2,
    "_isFastLaunch": false,
    "category": "General purpose",
    "gpuNum": 0,
    "hideHardwareSpecs": false,
    "memoryGiB": 16,
    "name": "ml.t3.xlarge",
    "vcpuNum": 4
   },
   {
    "_defaultOrder": 3,
    "_isFastLaunch": false,
    "category": "General purpose",
    "gpuNum": 0,
    "hideHardwareSpecs": false,
    "memoryGiB": 32,
    "name": "ml.t3.2xlarge",
    "vcpuNum": 8
   },
   {
    "_defaultOrder": 4,
    "_isFastLaunch": true,
    "category": "General purpose",
    "gpuNum": 0,
    "hideHardwareSpecs": false,
    "memoryGiB": 8,
    "name": "ml.m5.large",
    "vcpuNum": 2
   },
   {
    "_defaultOrder": 5,
    "_isFastLaunch": false,
    "category": "General purpose",
    "gpuNum": 0,
    "hideHardwareSpecs": false,
    "memoryGiB": 16,
    "name": "ml.m5.xlarge",
    "vcpuNum": 4
   },
   {
    "_defaultOrder": 6,
    "_isFastLaunch": false,
    "category": "General purpose",
    "gpuNum": 0,
    "hideHardwareSpecs": false,
    "memoryGiB": 32,
    "name": "ml.m5.2xlarge",
    "vcpuNum": 8
   },
   {
    "_defaultOrder": 7,
    "_isFastLaunch": false,
    "category": "General purpose",
    "gpuNum": 0,
    "hideHardwareSpecs": false,
    "memoryGiB": 64,
    "name": "ml.m5.4xlarge",
    "vcpuNum": 16
   },
   {
    "_defaultOrder": 8,
    "_isFastLaunch": false,
    "category": "General purpose",
    "gpuNum": 0,
    "hideHardwareSpecs": false,
    "memoryGiB": 128,
    "name": "ml.m5.8xlarge",
    "vcpuNum": 32
   },
   {
    "_defaultOrder": 9,
    "_isFastLaunch": false,
    "category": "General purpose",
    "gpuNum": 0,
    "hideHardwareSpecs": false,
    "memoryGiB": 192,
    "name": "ml.m5.12xlarge",
    "vcpuNum": 48
   },
   {
    "_defaultOrder": 10,
    "_isFastLaunch": false,
    "category": "General purpose",
    "gpuNum": 0,
    "hideHardwareSpecs": false,
    "memoryGiB": 256,
    "name": "ml.m5.16xlarge",
    "vcpuNum": 64
   },
   {
    "_defaultOrder": 11,
    "_isFastLaunch": false,
    "category": "General purpose",
    "gpuNum": 0,
    "hideHardwareSpecs": false,
    "memoryGiB": 384,
    "name": "ml.m5.24xlarge",
    "vcpuNum": 96
   },
   {
    "_defaultOrder": 12,
    "_isFastLaunch": false,
    "category": "General purpose",
    "gpuNum": 0,
    "hideHardwareSpecs": false,
    "memoryGiB": 8,
    "name": "ml.m5d.large",
    "vcpuNum": 2
   },
   {
    "_defaultOrder": 13,
    "_isFastLaunch": false,
    "category": "General purpose",
    "gpuNum": 0,
    "hideHardwareSpecs": false,
    "memoryGiB": 16,
    "name": "ml.m5d.xlarge",
    "vcpuNum": 4
   },
   {
    "_defaultOrder": 14,
    "_isFastLaunch": false,
    "category": "General purpose",
    "gpuNum": 0,
    "hideHardwareSpecs": false,
    "memoryGiB": 32,
    "name": "ml.m5d.2xlarge",
    "vcpuNum": 8
   },
   {
    "_defaultOrder": 15,
    "_isFastLaunch": false,
    "category": "General purpose",
    "gpuNum": 0,
    "hideHardwareSpecs": false,
    "memoryGiB": 64,
    "name": "ml.m5d.4xlarge",
    "vcpuNum": 16
   },
   {
    "_defaultOrder": 16,
    "_isFastLaunch": false,
    "category": "General purpose",
    "gpuNum": 0,
    "hideHardwareSpecs": false,
    "memoryGiB": 128,
    "name": "ml.m5d.8xlarge",
    "vcpuNum": 32
   },
   {
    "_defaultOrder": 17,
    "_isFastLaunch": false,
    "category": "General purpose",
    "gpuNum": 0,
    "hideHardwareSpecs": false,
    "memoryGiB": 192,
    "name": "ml.m5d.12xlarge",
    "vcpuNum": 48
   },
   {
    "_defaultOrder": 18,
    "_isFastLaunch": false,
    "category": "General purpose",
    "gpuNum": 0,
    "hideHardwareSpecs": false,
    "memoryGiB": 256,
    "name": "ml.m5d.16xlarge",
    "vcpuNum": 64
   },
   {
    "_defaultOrder": 19,
    "_isFastLaunch": false,
    "category": "General purpose",
    "gpuNum": 0,
    "hideHardwareSpecs": false,
    "memoryGiB": 384,
    "name": "ml.m5d.24xlarge",
    "vcpuNum": 96
   },
   {
    "_defaultOrder": 20,
    "_isFastLaunch": false,
    "category": "General purpose",
    "gpuNum": 0,
    "hideHardwareSpecs": true,
    "memoryGiB": 0,
    "name": "ml.geospatial.interactive",
    "supportedImageNames": [
     "sagemaker-geospatial-v1-0"
    ],
    "vcpuNum": 0
   },
   {
    "_defaultOrder": 21,
    "_isFastLaunch": true,
    "category": "Compute optimized",
    "gpuNum": 0,
    "hideHardwareSpecs": false,
    "memoryGiB": 4,
    "name": "ml.c5.large",
    "vcpuNum": 2
   },
   {
    "_defaultOrder": 22,
    "_isFastLaunch": false,
    "category": "Compute optimized",
    "gpuNum": 0,
    "hideHardwareSpecs": false,
    "memoryGiB": 8,
    "name": "ml.c5.xlarge",
    "vcpuNum": 4
   },
   {
    "_defaultOrder": 23,
    "_isFastLaunch": false,
    "category": "Compute optimized",
    "gpuNum": 0,
    "hideHardwareSpecs": false,
    "memoryGiB": 16,
    "name": "ml.c5.2xlarge",
    "vcpuNum": 8
   },
   {
    "_defaultOrder": 24,
    "_isFastLaunch": false,
    "category": "Compute optimized",
    "gpuNum": 0,
    "hideHardwareSpecs": false,
    "memoryGiB": 32,
    "name": "ml.c5.4xlarge",
    "vcpuNum": 16
   },
   {
    "_defaultOrder": 25,
    "_isFastLaunch": false,
    "category": "Compute optimized",
    "gpuNum": 0,
    "hideHardwareSpecs": false,
    "memoryGiB": 72,
    "name": "ml.c5.9xlarge",
    "vcpuNum": 36
   },
   {
    "_defaultOrder": 26,
    "_isFastLaunch": false,
    "category": "Compute optimized",
    "gpuNum": 0,
    "hideHardwareSpecs": false,
    "memoryGiB": 96,
    "name": "ml.c5.12xlarge",
    "vcpuNum": 48
   },
   {
    "_defaultOrder": 27,
    "_isFastLaunch": false,
    "category": "Compute optimized",
    "gpuNum": 0,
    "hideHardwareSpecs": false,
    "memoryGiB": 144,
    "name": "ml.c5.18xlarge",
    "vcpuNum": 72
   },
   {
    "_defaultOrder": 28,
    "_isFastLaunch": false,
    "category": "Compute optimized",
    "gpuNum": 0,
    "hideHardwareSpecs": false,
    "memoryGiB": 192,
    "name": "ml.c5.24xlarge",
    "vcpuNum": 96
   },
   {
    "_defaultOrder": 29,
    "_isFastLaunch": true,
    "category": "Accelerated computing",
    "gpuNum": 1,
    "hideHardwareSpecs": false,
    "memoryGiB": 16,
    "name": "ml.g4dn.xlarge",
    "vcpuNum": 4
   },
   {
    "_defaultOrder": 30,
    "_isFastLaunch": false,
    "category": "Accelerated computing",
    "gpuNum": 1,
    "hideHardwareSpecs": false,
    "memoryGiB": 32,
    "name": "ml.g4dn.2xlarge",
    "vcpuNum": 8
   },
   {
    "_defaultOrder": 31,
    "_isFastLaunch": false,
    "category": "Accelerated computing",
    "gpuNum": 1,
    "hideHardwareSpecs": false,
    "memoryGiB": 64,
    "name": "ml.g4dn.4xlarge",
    "vcpuNum": 16
   },
   {
    "_defaultOrder": 32,
    "_isFastLaunch": false,
    "category": "Accelerated computing",
    "gpuNum": 1,
    "hideHardwareSpecs": false,
    "memoryGiB": 128,
    "name": "ml.g4dn.8xlarge",
    "vcpuNum": 32
   },
   {
    "_defaultOrder": 33,
    "_isFastLaunch": false,
    "category": "Accelerated computing",
    "gpuNum": 4,
    "hideHardwareSpecs": false,
    "memoryGiB": 192,
    "name": "ml.g4dn.12xlarge",
    "vcpuNum": 48
   },
   {
    "_defaultOrder": 34,
    "_isFastLaunch": false,
    "category": "Accelerated computing",
    "gpuNum": 1,
    "hideHardwareSpecs": false,
    "memoryGiB": 256,
    "name": "ml.g4dn.16xlarge",
    "vcpuNum": 64
   },
   {
    "_defaultOrder": 35,
    "_isFastLaunch": false,
    "category": "Accelerated computing",
    "gpuNum": 1,
    "hideHardwareSpecs": false,
    "memoryGiB": 61,
    "name": "ml.p3.2xlarge",
    "vcpuNum": 8
   },
   {
    "_defaultOrder": 36,
    "_isFastLaunch": false,
    "category": "Accelerated computing",
    "gpuNum": 4,
    "hideHardwareSpecs": false,
    "memoryGiB": 244,
    "name": "ml.p3.8xlarge",
    "vcpuNum": 32
   },
   {
    "_defaultOrder": 37,
    "_isFastLaunch": false,
    "category": "Accelerated computing",
    "gpuNum": 8,
    "hideHardwareSpecs": false,
    "memoryGiB": 488,
    "name": "ml.p3.16xlarge",
    "vcpuNum": 64
   },
   {
    "_defaultOrder": 38,
    "_isFastLaunch": false,
    "category": "Accelerated computing",
    "gpuNum": 8,
    "hideHardwareSpecs": false,
    "memoryGiB": 768,
    "name": "ml.p3dn.24xlarge",
    "vcpuNum": 96
   },
   {
    "_defaultOrder": 39,
    "_isFastLaunch": false,
    "category": "Memory Optimized",
    "gpuNum": 0,
    "hideHardwareSpecs": false,
    "memoryGiB": 16,
    "name": "ml.r5.large",
    "vcpuNum": 2
   },
   {
    "_defaultOrder": 40,
    "_isFastLaunch": false,
    "category": "Memory Optimized",
    "gpuNum": 0,
    "hideHardwareSpecs": false,
    "memoryGiB": 32,
    "name": "ml.r5.xlarge",
    "vcpuNum": 4
   },
   {
    "_defaultOrder": 41,
    "_isFastLaunch": false,
    "category": "Memory Optimized",
    "gpuNum": 0,
    "hideHardwareSpecs": false,
    "memoryGiB": 64,
    "name": "ml.r5.2xlarge",
    "vcpuNum": 8
   },
   {
    "_defaultOrder": 42,
    "_isFastLaunch": false,
    "category": "Memory Optimized",
    "gpuNum": 0,
    "hideHardwareSpecs": false,
    "memoryGiB": 128,
    "name": "ml.r5.4xlarge",
    "vcpuNum": 16
   },
   {
    "_defaultOrder": 43,
    "_isFastLaunch": false,
    "category": "Memory Optimized",
    "gpuNum": 0,
    "hideHardwareSpecs": false,
    "memoryGiB": 256,
    "name": "ml.r5.8xlarge",
    "vcpuNum": 32
   },
   {
    "_defaultOrder": 44,
    "_isFastLaunch": false,
    "category": "Memory Optimized",
    "gpuNum": 0,
    "hideHardwareSpecs": false,
    "memoryGiB": 384,
    "name": "ml.r5.12xlarge",
    "vcpuNum": 48
   },
   {
    "_defaultOrder": 45,
    "_isFastLaunch": false,
    "category": "Memory Optimized",
    "gpuNum": 0,
    "hideHardwareSpecs": false,
    "memoryGiB": 512,
    "name": "ml.r5.16xlarge",
    "vcpuNum": 64
   },
   {
    "_defaultOrder": 46,
    "_isFastLaunch": false,
    "category": "Memory Optimized",
    "gpuNum": 0,
    "hideHardwareSpecs": false,
    "memoryGiB": 768,
    "name": "ml.r5.24xlarge",
    "vcpuNum": 96
   },
   {
    "_defaultOrder": 47,
    "_isFastLaunch": false,
    "category": "Accelerated computing",
    "gpuNum": 1,
    "hideHardwareSpecs": false,
    "memoryGiB": 16,
    "name": "ml.g5.xlarge",
    "vcpuNum": 4
   },
   {
    "_defaultOrder": 48,
    "_isFastLaunch": false,
    "category": "Accelerated computing",
    "gpuNum": 1,
    "hideHardwareSpecs": false,
    "memoryGiB": 32,
    "name": "ml.g5.2xlarge",
    "vcpuNum": 8
   },
   {
    "_defaultOrder": 49,
    "_isFastLaunch": false,
    "category": "Accelerated computing",
    "gpuNum": 1,
    "hideHardwareSpecs": false,
    "memoryGiB": 64,
    "name": "ml.g5.4xlarge",
    "vcpuNum": 16
   },
   {
    "_defaultOrder": 50,
    "_isFastLaunch": false,
    "category": "Accelerated computing",
    "gpuNum": 1,
    "hideHardwareSpecs": false,
    "memoryGiB": 128,
    "name": "ml.g5.8xlarge",
    "vcpuNum": 32
   },
   {
    "_defaultOrder": 51,
    "_isFastLaunch": false,
    "category": "Accelerated computing",
    "gpuNum": 1,
    "hideHardwareSpecs": false,
    "memoryGiB": 256,
    "name": "ml.g5.16xlarge",
    "vcpuNum": 64
   },
   {
    "_defaultOrder": 52,
    "_isFastLaunch": false,
    "category": "Accelerated computing",
    "gpuNum": 4,
    "hideHardwareSpecs": false,
    "memoryGiB": 192,
    "name": "ml.g5.12xlarge",
    "vcpuNum": 48
   },
   {
    "_defaultOrder": 53,
    "_isFastLaunch": false,
    "category": "Accelerated computing",
    "gpuNum": 4,
    "hideHardwareSpecs": false,
    "memoryGiB": 384,
    "name": "ml.g5.24xlarge",
    "vcpuNum": 96
   },
   {
    "_defaultOrder": 54,
    "_isFastLaunch": false,
    "category": "Accelerated computing",
    "gpuNum": 8,
    "hideHardwareSpecs": false,
    "memoryGiB": 768,
    "name": "ml.g5.48xlarge",
    "vcpuNum": 192
   },
   {
    "_defaultOrder": 55,
    "_isFastLaunch": false,
    "category": "Accelerated computing",
    "gpuNum": 8,
    "hideHardwareSpecs": false,
    "memoryGiB": 1152,
    "name": "ml.p4d.24xlarge",
    "vcpuNum": 96
   },
   {
    "_defaultOrder": 56,
    "_isFastLaunch": false,
    "category": "Accelerated computing",
    "gpuNum": 8,
    "hideHardwareSpecs": false,
    "memoryGiB": 1152,
    "name": "ml.p4de.24xlarge",
    "vcpuNum": 96
   },
   {
    "_defaultOrder": 57,
    "_isFastLaunch": false,
    "category": "Accelerated computing",
    "gpuNum": 0,
    "hideHardwareSpecs": false,
    "memoryGiB": 32,
    "name": "ml.trn1.2xlarge",
    "vcpuNum": 8
   },
   {
    "_defaultOrder": 58,
    "_isFastLaunch": false,
    "category": "Accelerated computing",
    "gpuNum": 0,
    "hideHardwareSpecs": false,
    "memoryGiB": 512,
    "name": "ml.trn1.32xlarge",
    "vcpuNum": 128
   },
   {
    "_defaultOrder": 59,
    "_isFastLaunch": false,
    "category": "Accelerated computing",
    "gpuNum": 0,
    "hideHardwareSpecs": false,
    "memoryGiB": 512,
    "name": "ml.trn1n.32xlarge",
    "vcpuNum": 128
   }
  ],
  "instance_type": "ml.t3.xlarge",
  "kernelspec": {
   "display_name": "Python 3 (ipykernel)",
   "language": "python",
   "name": "python3"
  },
  "language_info": {
   "codemirror_mode": {
    "name": "ipython",
    "version": 3
   },
   "file_extension": ".py",
   "mimetype": "text/x-python",
   "name": "python",
   "nbconvert_exporter": "python",
   "pygments_lexer": "ipython3",
   "version": "3.11.8"
  }
 },
 "nbformat": 4,
 "nbformat_minor": 5
}
