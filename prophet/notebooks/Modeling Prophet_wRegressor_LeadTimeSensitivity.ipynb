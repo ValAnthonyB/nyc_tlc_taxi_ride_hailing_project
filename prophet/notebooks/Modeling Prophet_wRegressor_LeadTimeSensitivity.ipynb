{
 "cells": [
  {
   "cell_type": "code",
   "execution_count": 3,
   "id": "e5675d1c-f94a-4fd6-a200-c3881dfa8288",
   "metadata": {
    "execution": {
     "iopub.execute_input": "2024-11-26T05:02:28.889384Z",
     "iopub.status.busy": "2024-11-26T05:02:28.889016Z",
     "iopub.status.idle": "2024-11-26T05:02:28.918194Z",
     "shell.execute_reply": "2024-11-26T05:02:28.917261Z",
     "shell.execute_reply.started": "2024-11-26T05:02:28.889351Z"
    },
    "tags": []
   },
   "outputs": [
    {
     "name": "stdout",
     "output_type": "stream",
     "text": [
      "The autoreload extension is already loaded. To reload it, use:\n",
      "  %reload_ext autoreload\n"
     ]
    }
   ],
   "source": [
    "%load_ext autoreload\n",
    "%autoreload 2"
   ]
  },
  {
   "cell_type": "code",
   "execution_count": 6,
   "id": "889b87de-3cba-449a-845b-163f869049a3",
   "metadata": {
    "execution": {
     "iopub.execute_input": "2024-11-26T05:03:19.934482Z",
     "iopub.status.busy": "2024-11-26T05:03:19.933445Z",
     "iopub.status.idle": "2024-11-26T05:03:20.186400Z",
     "shell.execute_reply": "2024-11-26T05:03:20.185559Z",
     "shell.execute_reply.started": "2024-11-26T05:03:19.934436Z"
    },
    "tags": []
   },
   "outputs": [],
   "source": [
    "import pandas as pd\n",
    "import matplotlib.pyplot as plt\n",
    "import utils.helpers as helpers\n",
    "import joblib\n",
    "from prophet import Prophet\n",
    "import pendulum"
   ]
  },
  {
   "cell_type": "code",
   "execution_count": 5,
   "id": "a2ad933c-d0d5-4eb7-9e3b-c6e7ae031c58",
   "metadata": {
    "execution": {
     "iopub.execute_input": "2024-11-26T05:02:57.670975Z",
     "iopub.status.busy": "2024-11-26T05:02:57.670501Z",
     "iopub.status.idle": "2024-11-26T05:02:57.716986Z",
     "shell.execute_reply": "2024-11-26T05:02:57.715907Z",
     "shell.execute_reply.started": "2024-11-26T05:02:57.670934Z"
    },
    "tags": []
   },
   "outputs": [],
   "source": [
    "boroughs = [\n",
    "            #'Bronx','Brooklyn', 'EWR', \n",
    "            'Manhattan'\n",
    "            #, 'Queens', 'Staten Island'\n",
    "]"
   ]
  },
  {
   "cell_type": "code",
   "execution_count": 11,
   "id": "1411097a-fc2f-4290-8148-27e1a4a8af57",
   "metadata": {
    "execution": {
     "iopub.execute_input": "2024-11-26T05:05:03.782132Z",
     "iopub.status.busy": "2024-11-26T05:05:03.781810Z",
     "iopub.status.idle": "2024-11-26T05:05:03.812786Z",
     "shell.execute_reply": "2024-11-26T05:05:03.811784Z",
     "shell.execute_reply.started": "2024-11-26T05:05:03.782105Z"
    }
   },
   "outputs": [
    {
     "data": {
      "text/plain": [
       "DateTime(2024, 8, 1, 0, 0, 0, tzinfo=Timezone('UTC'))"
      ]
     },
     "execution_count": 11,
     "metadata": {},
     "output_type": "execute_result"
    }
   ],
   "source": [
    "pendulum.parse('2024-08-01')"
   ]
  },
  {
   "cell_type": "code",
   "execution_count": 45,
   "id": "9773c13f-e9ae-4e52-86dc-2a7dc301fc6e",
   "metadata": {
    "execution": {
     "iopub.execute_input": "2024-11-26T05:33:26.928401Z",
     "iopub.status.busy": "2024-11-26T05:33:26.927922Z",
     "iopub.status.idle": "2024-11-26T05:33:26.977701Z",
     "shell.execute_reply": "2024-11-26T05:33:26.976545Z",
     "shell.execute_reply.started": "2024-11-26T05:33:26.928360Z"
    }
   },
   "outputs": [],
   "source": [
    "test_dt = pendulum.parse('2024-08-01')\n",
    "h1_dt = test_dt.subtract(hours = 1)\n",
    "lead_dt = [test_dt]\n",
    "for i in range(1,90):\n",
    "    lead_dt.append(test_dt.subtract(days = i))"
   ]
  },
  {
   "cell_type": "code",
   "execution_count": 46,
   "id": "94b11994-6c93-465f-a8a1-798f9c44ca2d",
   "metadata": {
    "execution": {
     "iopub.execute_input": "2024-11-26T05:33:28.614285Z",
     "iopub.status.busy": "2024-11-26T05:33:28.613809Z",
     "iopub.status.idle": "2024-11-26T05:33:28.662773Z",
     "shell.execute_reply": "2024-11-26T05:33:28.661621Z",
     "shell.execute_reply.started": "2024-11-26T05:33:28.614242Z"
    }
   },
   "outputs": [
    {
     "data": {
      "text/plain": [
       "'Manhattan'"
      ]
     },
     "execution_count": 46,
     "metadata": {},
     "output_type": "execute_result"
    }
   ],
   "source": [
    "b = boroughs[0]\n",
    "b"
   ]
  },
  {
   "cell_type": "code",
   "execution_count": null,
   "id": "89d4831f-5cda-4408-8c5d-8cab5eb8390a",
   "metadata": {
    "execution": {
     "iopub.execute_input": "2024-11-26T05:46:22.461191Z",
     "iopub.status.busy": "2024-11-26T05:46:22.460661Z"
    },
    "tags": []
   },
   "outputs": [
    {
     "name": "stdout",
     "output_type": "stream",
     "text": [
      "Prophet w Regressor: Manhattan, Predict Aug 2024 by looking at historical data before 0 days before\n"
     ]
    },
    {
     "name": "stderr",
     "output_type": "stream",
     "text": [
      "05:46:25 - cmdstanpy - INFO - Chain [1] start processing\n",
      "05:47:16 - cmdstanpy - INFO - Chain [1] done processing\n"
     ]
    },
    {
     "name": "stdout",
     "output_type": "stream",
     "text": [
      "MAE: 1618.22\n",
      "MAPE: 7.09%\n",
      "RMSE: 2485.97\n",
      "R2: 0.94\n",
      "Prophet w Regressor: Manhattan, Predict Aug 2024 by looking at historical data before 1 days before\n"
     ]
    },
    {
     "name": "stderr",
     "output_type": "stream",
     "text": [
      "05:47:20 - cmdstanpy - INFO - Chain [1] start processing\n",
      "05:48:23 - cmdstanpy - INFO - Chain [1] done processing\n"
     ]
    },
    {
     "name": "stdout",
     "output_type": "stream",
     "text": [
      "MAE: 1613.53\n",
      "MAPE: 7.08%\n",
      "RMSE: 2481.67\n",
      "R2: 0.94\n",
      "Prophet w Regressor: Manhattan, Predict Aug 2024 by looking at historical data before 2 days before\n"
     ]
    },
    {
     "name": "stderr",
     "output_type": "stream",
     "text": [
      "05:48:26 - cmdstanpy - INFO - Chain [1] start processing\n",
      "05:49:19 - cmdstanpy - INFO - Chain [1] done processing\n"
     ]
    },
    {
     "name": "stdout",
     "output_type": "stream",
     "text": [
      "MAE: 1615.02\n",
      "MAPE: 7.08%\n",
      "RMSE: 2481.64\n",
      "R2: 0.94\n",
      "Prophet w Regressor: Manhattan, Predict Aug 2024 by looking at historical data before 3 days before\n"
     ]
    },
    {
     "name": "stderr",
     "output_type": "stream",
     "text": [
      "05:49:23 - cmdstanpy - INFO - Chain [1] start processing\n",
      "05:50:16 - cmdstanpy - INFO - Chain [1] done processing\n"
     ]
    },
    {
     "name": "stdout",
     "output_type": "stream",
     "text": [
      "MAE: 1620.34\n",
      "MAPE: 7.11%\n",
      "RMSE: 2485.20\n",
      "R2: 0.94\n",
      "Prophet w Regressor: Manhattan, Predict Aug 2024 by looking at historical data before 4 days before\n"
     ]
    },
    {
     "name": "stderr",
     "output_type": "stream",
     "text": [
      "05:50:20 - cmdstanpy - INFO - Chain [1] start processing\n",
      "05:51:11 - cmdstanpy - INFO - Chain [1] done processing\n"
     ]
    },
    {
     "name": "stdout",
     "output_type": "stream",
     "text": [
      "MAE: 1637.68\n",
      "MAPE: 7.17%\n",
      "RMSE: 2497.95\n",
      "R2: 0.94\n",
      "Prophet w Regressor: Manhattan, Predict Aug 2024 by looking at historical data before 5 days before\n"
     ]
    },
    {
     "name": "stderr",
     "output_type": "stream",
     "text": [
      "05:51:14 - cmdstanpy - INFO - Chain [1] start processing\n",
      "05:52:08 - cmdstanpy - INFO - Chain [1] done processing\n"
     ]
    },
    {
     "name": "stdout",
     "output_type": "stream",
     "text": [
      "MAE: 1627.45\n",
      "MAPE: 7.14%\n",
      "RMSE: 2489.55\n",
      "R2: 0.94\n",
      "Prophet w Regressor: Manhattan, Predict Aug 2024 by looking at historical data before 6 days before\n"
     ]
    },
    {
     "name": "stderr",
     "output_type": "stream",
     "text": [
      "05:52:12 - cmdstanpy - INFO - Chain [1] start processing\n",
      "05:53:04 - cmdstanpy - INFO - Chain [1] done processing\n"
     ]
    },
    {
     "name": "stdout",
     "output_type": "stream",
     "text": [
      "MAE: 1623.06\n",
      "MAPE: 7.12%\n",
      "RMSE: 2485.35\n",
      "R2: 0.94\n",
      "Prophet w Regressor: Manhattan, Predict Aug 2024 by looking at historical data before 7 days before\n"
     ]
    },
    {
     "name": "stderr",
     "output_type": "stream",
     "text": [
      "05:53:07 - cmdstanpy - INFO - Chain [1] start processing\n",
      "05:54:00 - cmdstanpy - INFO - Chain [1] done processing\n"
     ]
    },
    {
     "name": "stdout",
     "output_type": "stream",
     "text": [
      "MAE: 1637.99\n",
      "MAPE: 7.18%\n",
      "RMSE: 2496.40\n",
      "R2: 0.94\n",
      "Prophet w Regressor: Manhattan, Predict Aug 2024 by looking at historical data before 8 days before\n"
     ]
    },
    {
     "name": "stderr",
     "output_type": "stream",
     "text": [
      "05:54:03 - cmdstanpy - INFO - Chain [1] start processing\n",
      "05:54:58 - cmdstanpy - INFO - Chain [1] done processing\n"
     ]
    },
    {
     "name": "stdout",
     "output_type": "stream",
     "text": [
      "MAE: 1638.36\n",
      "MAPE: 7.19%\n",
      "RMSE: 2496.28\n",
      "R2: 0.94\n",
      "Prophet w Regressor: Manhattan, Predict Aug 2024 by looking at historical data before 9 days before\n"
     ]
    },
    {
     "name": "stderr",
     "output_type": "stream",
     "text": [
      "05:55:01 - cmdstanpy - INFO - Chain [1] start processing\n",
      "05:55:55 - cmdstanpy - INFO - Chain [1] done processing\n"
     ]
    },
    {
     "name": "stdout",
     "output_type": "stream",
     "text": [
      "MAE: 1647.42\n",
      "MAPE: 7.24%\n",
      "RMSE: 2502.11\n",
      "R2: 0.94\n",
      "Prophet w Regressor: Manhattan, Predict Aug 2024 by looking at historical data before 10 days before\n"
     ]
    },
    {
     "name": "stderr",
     "output_type": "stream",
     "text": [
      "05:55:58 - cmdstanpy - INFO - Chain [1] start processing\n",
      "05:56:43 - cmdstanpy - INFO - Chain [1] done processing\n"
     ]
    },
    {
     "name": "stdout",
     "output_type": "stream",
     "text": [
      "MAE: 1658.76\n",
      "MAPE: 7.29%\n",
      "RMSE: 2508.98\n",
      "R2: 0.94\n",
      "Prophet w Regressor: Manhattan, Predict Aug 2024 by looking at historical data before 11 days before\n"
     ]
    },
    {
     "name": "stderr",
     "output_type": "stream",
     "text": [
      "05:56:47 - cmdstanpy - INFO - Chain [1] start processing\n",
      "05:57:51 - cmdstanpy - INFO - Chain [1] done processing\n"
     ]
    },
    {
     "name": "stdout",
     "output_type": "stream",
     "text": [
      "MAE: 1692.16\n",
      "MAPE: 7.46%\n",
      "RMSE: 2533.47\n",
      "R2: 0.93\n",
      "Prophet w Regressor: Manhattan, Predict Aug 2024 by looking at historical data before 12 days before\n"
     ]
    },
    {
     "name": "stderr",
     "output_type": "stream",
     "text": [
      "05:57:54 - cmdstanpy - INFO - Chain [1] start processing\n",
      "05:58:48 - cmdstanpy - INFO - Chain [1] done processing\n"
     ]
    },
    {
     "name": "stdout",
     "output_type": "stream",
     "text": [
      "MAE: 1698.12\n",
      "MAPE: 7.49%\n",
      "RMSE: 2538.28\n",
      "R2: 0.93\n",
      "Prophet w Regressor: Manhattan, Predict Aug 2024 by looking at historical data before 13 days before\n"
     ]
    },
    {
     "name": "stderr",
     "output_type": "stream",
     "text": [
      "05:58:51 - cmdstanpy - INFO - Chain [1] start processing\n",
      "05:59:48 - cmdstanpy - INFO - Chain [1] done processing\n"
     ]
    },
    {
     "name": "stdout",
     "output_type": "stream",
     "text": [
      "MAE: 1701.99\n",
      "MAPE: 7.51%\n",
      "RMSE: 2540.93\n",
      "R2: 0.93\n",
      "Prophet w Regressor: Manhattan, Predict Aug 2024 by looking at historical data before 14 days before\n"
     ]
    },
    {
     "name": "stderr",
     "output_type": "stream",
     "text": [
      "05:59:51 - cmdstanpy - INFO - Chain [1] start processing\n",
      "06:00:40 - cmdstanpy - INFO - Chain [1] done processing\n"
     ]
    },
    {
     "name": "stdout",
     "output_type": "stream",
     "text": [
      "MAE: 1683.08\n",
      "MAPE: 7.41%\n",
      "RMSE: 2527.19\n",
      "R2: 0.93\n",
      "Prophet w Regressor: Manhattan, Predict Aug 2024 by looking at historical data before 15 days before\n"
     ]
    },
    {
     "name": "stderr",
     "output_type": "stream",
     "text": [
      "06:00:43 - cmdstanpy - INFO - Chain [1] start processing\n",
      "06:01:38 - cmdstanpy - INFO - Chain [1] done processing\n"
     ]
    },
    {
     "name": "stdout",
     "output_type": "stream",
     "text": [
      "MAE: 1663.59\n",
      "MAPE: 7.32%\n",
      "RMSE: 2512.37\n",
      "R2: 0.94\n",
      "Prophet w Regressor: Manhattan, Predict Aug 2024 by looking at historical data before 16 days before\n"
     ]
    },
    {
     "name": "stderr",
     "output_type": "stream",
     "text": [
      "06:01:41 - cmdstanpy - INFO - Chain [1] start processing\n",
      "06:02:38 - cmdstanpy - INFO - Chain [1] done processing\n"
     ]
    },
    {
     "name": "stdout",
     "output_type": "stream",
     "text": [
      "MAE: 1657.80\n",
      "MAPE: 7.29%\n",
      "RMSE: 2507.73\n",
      "R2: 0.94\n",
      "Prophet w Regressor: Manhattan, Predict Aug 2024 by looking at historical data before 17 days before\n"
     ]
    },
    {
     "name": "stderr",
     "output_type": "stream",
     "text": [
      "06:02:41 - cmdstanpy - INFO - Chain [1] start processing\n",
      "06:03:36 - cmdstanpy - INFO - Chain [1] done processing\n"
     ]
    },
    {
     "name": "stdout",
     "output_type": "stream",
     "text": [
      "MAE: 1664.54\n",
      "MAPE: 7.32%\n",
      "RMSE: 2512.74\n",
      "R2: 0.94\n",
      "Prophet w Regressor: Manhattan, Predict Aug 2024 by looking at historical data before 18 days before\n"
     ]
    },
    {
     "name": "stderr",
     "output_type": "stream",
     "text": [
      "06:03:39 - cmdstanpy - INFO - Chain [1] start processing\n",
      "06:04:37 - cmdstanpy - INFO - Chain [1] done processing\n"
     ]
    },
    {
     "name": "stdout",
     "output_type": "stream",
     "text": [
      "MAE: 1649.39\n",
      "MAPE: 7.25%\n",
      "RMSE: 2500.85\n",
      "R2: 0.94\n",
      "Prophet w Regressor: Manhattan, Predict Aug 2024 by looking at historical data before 19 days before\n"
     ]
    },
    {
     "name": "stderr",
     "output_type": "stream",
     "text": [
      "06:04:40 - cmdstanpy - INFO - Chain [1] start processing\n",
      "06:05:37 - cmdstanpy - INFO - Chain [1] done processing\n"
     ]
    },
    {
     "name": "stdout",
     "output_type": "stream",
     "text": [
      "MAE: 1639.63\n",
      "MAPE: 7.21%\n",
      "RMSE: 2493.64\n",
      "R2: 0.94\n",
      "Prophet w Regressor: Manhattan, Predict Aug 2024 by looking at historical data before 20 days before\n"
     ]
    },
    {
     "name": "stderr",
     "output_type": "stream",
     "text": [
      "06:05:40 - cmdstanpy - INFO - Chain [1] start processing\n",
      "06:06:35 - cmdstanpy - INFO - Chain [1] done processing\n"
     ]
    },
    {
     "name": "stdout",
     "output_type": "stream",
     "text": [
      "MAE: 1625.81\n",
      "MAPE: 7.15%\n",
      "RMSE: 2483.54\n",
      "R2: 0.94\n",
      "Prophet w Regressor: Manhattan, Predict Aug 2024 by looking at historical data before 21 days before\n"
     ]
    },
    {
     "name": "stderr",
     "output_type": "stream",
     "text": [
      "06:06:39 - cmdstanpy - INFO - Chain [1] start processing\n",
      "06:07:26 - cmdstanpy - INFO - Chain [1] done processing\n"
     ]
    },
    {
     "name": "stdout",
     "output_type": "stream",
     "text": [
      "MAE: 1619.35\n",
      "MAPE: 7.12%\n",
      "RMSE: 2478.31\n",
      "R2: 0.94\n",
      "Prophet w Regressor: Manhattan, Predict Aug 2024 by looking at historical data before 22 days before\n"
     ]
    },
    {
     "name": "stderr",
     "output_type": "stream",
     "text": [
      "06:07:29 - cmdstanpy - INFO - Chain [1] start processing\n",
      "06:08:10 - cmdstanpy - INFO - Chain [1] done processing\n"
     ]
    },
    {
     "name": "stdout",
     "output_type": "stream",
     "text": [
      "MAE: 1594.93\n",
      "MAPE: 7.04%\n",
      "RMSE: 2459.27\n",
      "R2: 0.94\n",
      "Prophet w Regressor: Manhattan, Predict Aug 2024 by looking at historical data before 23 days before\n"
     ]
    },
    {
     "name": "stderr",
     "output_type": "stream",
     "text": [
      "06:08:14 - cmdstanpy - INFO - Chain [1] start processing\n",
      "06:09:13 - cmdstanpy - INFO - Chain [1] done processing\n"
     ]
    },
    {
     "name": "stdout",
     "output_type": "stream",
     "text": [
      "MAE: 1611.10\n",
      "MAPE: 7.09%\n",
      "RMSE: 2472.03\n",
      "R2: 0.94\n",
      "Prophet w Regressor: Manhattan, Predict Aug 2024 by looking at historical data before 24 days before\n"
     ]
    },
    {
     "name": "stderr",
     "output_type": "stream",
     "text": [
      "06:09:16 - cmdstanpy - INFO - Chain [1] start processing\n",
      "06:10:05 - cmdstanpy - INFO - Chain [1] done processing\n"
     ]
    },
    {
     "name": "stdout",
     "output_type": "stream",
     "text": [
      "MAE: 1625.67\n",
      "MAPE: 7.15%\n",
      "RMSE: 2483.07\n",
      "R2: 0.94\n",
      "Prophet w Regressor: Manhattan, Predict Aug 2024 by looking at historical data before 25 days before\n"
     ]
    },
    {
     "name": "stderr",
     "output_type": "stream",
     "text": [
      "06:10:09 - cmdstanpy - INFO - Chain [1] start processing\n",
      "06:11:33 - cmdstanpy - INFO - Chain [1] done processing\n"
     ]
    },
    {
     "name": "stdout",
     "output_type": "stream",
     "text": [
      "MAE: 1606.04\n",
      "MAPE: 7.08%\n",
      "RMSE: 2467.73\n",
      "R2: 0.94\n",
      "Prophet w Regressor: Manhattan, Predict Aug 2024 by looking at historical data before 26 days before\n"
     ]
    },
    {
     "name": "stderr",
     "output_type": "stream",
     "text": [
      "06:11:37 - cmdstanpy - INFO - Chain [1] start processing\n",
      "06:12:52 - cmdstanpy - INFO - Chain [1] done processing\n"
     ]
    },
    {
     "name": "stdout",
     "output_type": "stream",
     "text": [
      "MAE: 1655.65\n",
      "MAPE: 7.27%\n",
      "RMSE: 2506.36\n",
      "R2: 0.94\n",
      "Prophet w Regressor: Manhattan, Predict Aug 2024 by looking at historical data before 27 days before\n"
     ]
    },
    {
     "name": "stderr",
     "output_type": "stream",
     "text": [
      "06:12:56 - cmdstanpy - INFO - Chain [1] start processing\n",
      "06:13:48 - cmdstanpy - INFO - Chain [1] done processing\n"
     ]
    },
    {
     "name": "stdout",
     "output_type": "stream",
     "text": [
      "MAE: 1680.76\n",
      "MAPE: 7.38%\n",
      "RMSE: 2525.99\n",
      "R2: 0.93\n",
      "Prophet w Regressor: Manhattan, Predict Aug 2024 by looking at historical data before 28 days before\n"
     ]
    },
    {
     "name": "stderr",
     "output_type": "stream",
     "text": [
      "06:13:51 - cmdstanpy - INFO - Chain [1] start processing\n",
      "06:14:39 - cmdstanpy - INFO - Chain [1] done processing\n"
     ]
    },
    {
     "name": "stdout",
     "output_type": "stream",
     "text": [
      "MAE: 1699.58\n",
      "MAPE: 7.46%\n",
      "RMSE: 2540.39\n",
      "R2: 0.93\n",
      "Prophet w Regressor: Manhattan, Predict Aug 2024 by looking at historical data before 29 days before\n"
     ]
    },
    {
     "name": "stderr",
     "output_type": "stream",
     "text": [
      "06:14:42 - cmdstanpy - INFO - Chain [1] start processing\n",
      "06:15:32 - cmdstanpy - INFO - Chain [1] done processing\n"
     ]
    },
    {
     "name": "stdout",
     "output_type": "stream",
     "text": [
      "MAE: 1726.24\n",
      "MAPE: 7.60%\n",
      "RMSE: 2560.12\n",
      "R2: 0.93\n",
      "Prophet w Regressor: Manhattan, Predict Aug 2024 by looking at historical data before 30 days before\n"
     ]
    },
    {
     "name": "stderr",
     "output_type": "stream",
     "text": [
      "06:15:35 - cmdstanpy - INFO - Chain [1] start processing\n",
      "06:16:34 - cmdstanpy - INFO - Chain [1] done processing\n"
     ]
    },
    {
     "name": "stdout",
     "output_type": "stream",
     "text": [
      "MAE: 1775.75\n",
      "MAPE: 7.88%\n",
      "RMSE: 2595.65\n",
      "R2: 0.93\n",
      "Prophet w Regressor: Manhattan, Predict Aug 2024 by looking at historical data before 31 days before\n"
     ]
    },
    {
     "name": "stderr",
     "output_type": "stream",
     "text": [
      "06:16:37 - cmdstanpy - INFO - Chain [1] start processing\n",
      "06:17:42 - cmdstanpy - INFO - Chain [1] done processing\n"
     ]
    },
    {
     "name": "stdout",
     "output_type": "stream",
     "text": [
      "MAE: 1776.08\n",
      "MAPE: 7.88%\n",
      "RMSE: 2596.00\n",
      "R2: 0.93\n",
      "Prophet w Regressor: Manhattan, Predict Aug 2024 by looking at historical data before 32 days before\n"
     ]
    },
    {
     "name": "stderr",
     "output_type": "stream",
     "text": [
      "06:17:45 - cmdstanpy - INFO - Chain [1] start processing\n",
      "06:18:53 - cmdstanpy - INFO - Chain [1] done processing\n"
     ]
    },
    {
     "name": "stdout",
     "output_type": "stream",
     "text": [
      "MAE: 1759.59\n",
      "MAPE: 7.78%\n",
      "RMSE: 2583.69\n",
      "R2: 0.93\n",
      "Prophet w Regressor: Manhattan, Predict Aug 2024 by looking at historical data before 33 days before\n"
     ]
    },
    {
     "name": "stderr",
     "output_type": "stream",
     "text": [
      "06:18:57 - cmdstanpy - INFO - Chain [1] start processing\n",
      "06:19:56 - cmdstanpy - INFO - Chain [1] done processing\n"
     ]
    },
    {
     "name": "stdout",
     "output_type": "stream",
     "text": [
      "MAE: 1761.75\n",
      "MAPE: 7.79%\n",
      "RMSE: 2585.35\n",
      "R2: 0.93\n",
      "Prophet w Regressor: Manhattan, Predict Aug 2024 by looking at historical data before 34 days before\n"
     ]
    },
    {
     "name": "stderr",
     "output_type": "stream",
     "text": [
      "06:19:59 - cmdstanpy - INFO - Chain [1] start processing\n",
      "06:21:02 - cmdstanpy - INFO - Chain [1] done processing\n"
     ]
    },
    {
     "name": "stdout",
     "output_type": "stream",
     "text": [
      "MAE: 1771.61\n",
      "MAPE: 7.85%\n",
      "RMSE: 2592.58\n",
      "R2: 0.93\n",
      "Prophet w Regressor: Manhattan, Predict Aug 2024 by looking at historical data before 35 days before\n"
     ]
    },
    {
     "name": "stderr",
     "output_type": "stream",
     "text": [
      "06:21:05 - cmdstanpy - INFO - Chain [1] start processing\n",
      "06:22:13 - cmdstanpy - INFO - Chain [1] done processing\n"
     ]
    },
    {
     "name": "stdout",
     "output_type": "stream",
     "text": [
      "MAE: 1746.77\n",
      "MAPE: 7.70%\n",
      "RMSE: 2574.58\n",
      "R2: 0.93\n",
      "Prophet w Regressor: Manhattan, Predict Aug 2024 by looking at historical data before 36 days before\n"
     ]
    },
    {
     "name": "stderr",
     "output_type": "stream",
     "text": [
      "06:22:17 - cmdstanpy - INFO - Chain [1] start processing\n",
      "06:23:17 - cmdstanpy - INFO - Chain [1] done processing\n"
     ]
    },
    {
     "name": "stdout",
     "output_type": "stream",
     "text": [
      "MAE: 1726.45\n",
      "MAPE: 7.60%\n",
      "RMSE: 2558.31\n",
      "R2: 0.93\n",
      "Prophet w Regressor: Manhattan, Predict Aug 2024 by looking at historical data before 37 days before\n"
     ]
    },
    {
     "name": "stderr",
     "output_type": "stream",
     "text": [
      "06:23:20 - cmdstanpy - INFO - Chain [1] start processing\n",
      "06:24:16 - cmdstanpy - INFO - Chain [1] done processing\n"
     ]
    },
    {
     "name": "stdout",
     "output_type": "stream",
     "text": [
      "MAE: 1721.72\n",
      "MAPE: 7.57%\n",
      "RMSE: 2555.59\n",
      "R2: 0.93\n",
      "Prophet w Regressor: Manhattan, Predict Aug 2024 by looking at historical data before 38 days before\n"
     ]
    },
    {
     "name": "stderr",
     "output_type": "stream",
     "text": [
      "06:24:19 - cmdstanpy - INFO - Chain [1] start processing\n",
      "06:25:23 - cmdstanpy - INFO - Chain [1] done processing\n"
     ]
    },
    {
     "name": "stdout",
     "output_type": "stream",
     "text": [
      "MAE: 1695.04\n",
      "MAPE: 7.43%\n",
      "RMSE: 2536.44\n",
      "R2: 0.93\n",
      "Prophet w Regressor: Manhattan, Predict Aug 2024 by looking at historical data before 39 days before\n"
     ]
    },
    {
     "name": "stderr",
     "output_type": "stream",
     "text": [
      "06:25:26 - cmdstanpy - INFO - Chain [1] start processing\n",
      "06:26:27 - cmdstanpy - INFO - Chain [1] done processing\n"
     ]
    },
    {
     "name": "stdout",
     "output_type": "stream",
     "text": [
      "MAE: 1675.10\n",
      "MAPE: 7.33%\n",
      "RMSE: 2522.09\n",
      "R2: 0.94\n",
      "Prophet w Regressor: Manhattan, Predict Aug 2024 by looking at historical data before 40 days before\n"
     ]
    },
    {
     "name": "stderr",
     "output_type": "stream",
     "text": [
      "06:26:30 - cmdstanpy - INFO - Chain [1] start processing\n",
      "06:27:20 - cmdstanpy - INFO - Chain [1] done processing\n"
     ]
    },
    {
     "name": "stdout",
     "output_type": "stream",
     "text": [
      "MAE: 1653.03\n",
      "MAPE: 7.23%\n",
      "RMSE: 2506.65\n",
      "R2: 0.94\n",
      "Prophet w Regressor: Manhattan, Predict Aug 2024 by looking at historical data before 41 days before\n"
     ]
    },
    {
     "name": "stderr",
     "output_type": "stream",
     "text": [
      "06:27:23 - cmdstanpy - INFO - Chain [1] start processing\n",
      "06:28:34 - cmdstanpy - INFO - Chain [1] done processing\n"
     ]
    },
    {
     "name": "stdout",
     "output_type": "stream",
     "text": [
      "MAE: 1654.31\n",
      "MAPE: 7.23%\n",
      "RMSE: 2507.12\n",
      "R2: 0.94\n",
      "Prophet w Regressor: Manhattan, Predict Aug 2024 by looking at historical data before 42 days before\n"
     ]
    },
    {
     "name": "stderr",
     "output_type": "stream",
     "text": [
      "06:28:37 - cmdstanpy - INFO - Chain [1] start processing\n",
      "06:29:37 - cmdstanpy - INFO - Chain [1] done processing\n"
     ]
    },
    {
     "name": "stdout",
     "output_type": "stream",
     "text": [
      "MAE: 1636.37\n",
      "MAPE: 7.16%\n",
      "RMSE: 2492.51\n",
      "R2: 0.94\n",
      "Prophet w Regressor: Manhattan, Predict Aug 2024 by looking at historical data before 43 days before\n"
     ]
    },
    {
     "name": "stderr",
     "output_type": "stream",
     "text": [
      "06:29:40 - cmdstanpy - INFO - Chain [1] start processing\n",
      "06:30:42 - cmdstanpy - INFO - Chain [1] done processing\n"
     ]
    },
    {
     "name": "stdout",
     "output_type": "stream",
     "text": [
      "MAE: 1658.84\n",
      "MAPE: 7.26%\n",
      "RMSE: 2509.18\n",
      "R2: 0.94\n",
      "Prophet w Regressor: Manhattan, Predict Aug 2024 by looking at historical data before 44 days before\n"
     ]
    },
    {
     "name": "stderr",
     "output_type": "stream",
     "text": [
      "06:30:45 - cmdstanpy - INFO - Chain [1] start processing\n",
      "06:31:41 - cmdstanpy - INFO - Chain [1] done processing\n"
     ]
    },
    {
     "name": "stdout",
     "output_type": "stream",
     "text": [
      "MAE: 1633.33\n",
      "MAPE: 7.15%\n",
      "RMSE: 2491.23\n",
      "R2: 0.94\n",
      "Prophet w Regressor: Manhattan, Predict Aug 2024 by looking at historical data before 45 days before\n"
     ]
    },
    {
     "name": "stderr",
     "output_type": "stream",
     "text": [
      "06:31:44 - cmdstanpy - INFO - Chain [1] start processing\n",
      "06:32:41 - cmdstanpy - INFO - Chain [1] done processing\n"
     ]
    },
    {
     "name": "stdout",
     "output_type": "stream",
     "text": [
      "MAE: 1630.90\n",
      "MAPE: 7.14%\n",
      "RMSE: 2488.99\n",
      "R2: 0.94\n",
      "Prophet w Regressor: Manhattan, Predict Aug 2024 by looking at historical data before 46 days before\n"
     ]
    },
    {
     "name": "stderr",
     "output_type": "stream",
     "text": [
      "06:32:44 - cmdstanpy - INFO - Chain [1] start processing\n",
      "06:33:47 - cmdstanpy - INFO - Chain [1] done processing\n"
     ]
    },
    {
     "name": "stdout",
     "output_type": "stream",
     "text": [
      "MAE: 1658.19\n",
      "MAPE: 7.26%\n",
      "RMSE: 2508.45\n",
      "R2: 0.94\n",
      "Prophet w Regressor: Manhattan, Predict Aug 2024 by looking at historical data before 47 days before\n"
     ]
    },
    {
     "name": "stderr",
     "output_type": "stream",
     "text": [
      "06:33:50 - cmdstanpy - INFO - Chain [1] start processing\n",
      "06:34:43 - cmdstanpy - INFO - Chain [1] done processing\n"
     ]
    },
    {
     "name": "stdout",
     "output_type": "stream",
     "text": [
      "MAE: 1643.39\n",
      "MAPE: 7.20%\n",
      "RMSE: 2497.02\n",
      "R2: 0.94\n",
      "Prophet w Regressor: Manhattan, Predict Aug 2024 by looking at historical data before 48 days before\n"
     ]
    },
    {
     "name": "stderr",
     "output_type": "stream",
     "text": [
      "06:34:46 - cmdstanpy - INFO - Chain [1] start processing\n",
      "06:35:38 - cmdstanpy - INFO - Chain [1] done processing\n"
     ]
    },
    {
     "name": "stdout",
     "output_type": "stream",
     "text": [
      "MAE: 1627.94\n",
      "MAPE: 7.14%\n",
      "RMSE: 2484.78\n",
      "R2: 0.94\n",
      "Prophet w Regressor: Manhattan, Predict Aug 2024 by looking at historical data before 49 days before\n"
     ]
    },
    {
     "name": "stderr",
     "output_type": "stream",
     "text": [
      "06:35:41 - cmdstanpy - INFO - Chain [1] start processing\n",
      "06:36:43 - cmdstanpy - INFO - Chain [1] done processing\n"
     ]
    },
    {
     "name": "stdout",
     "output_type": "stream",
     "text": [
      "MAE: 1635.54\n",
      "MAPE: 7.17%\n",
      "RMSE: 2490.73\n",
      "R2: 0.94\n",
      "Prophet w Regressor: Manhattan, Predict Aug 2024 by looking at historical data before 50 days before\n"
     ]
    },
    {
     "name": "stderr",
     "output_type": "stream",
     "text": [
      "06:36:46 - cmdstanpy - INFO - Chain [1] start processing\n",
      "06:37:48 - cmdstanpy - INFO - Chain [1] done processing\n"
     ]
    },
    {
     "name": "stdout",
     "output_type": "stream",
     "text": [
      "MAE: 1640.66\n",
      "MAPE: 7.18%\n",
      "RMSE: 2494.68\n",
      "R2: 0.94\n",
      "Prophet w Regressor: Manhattan, Predict Aug 2024 by looking at historical data before 51 days before\n"
     ]
    },
    {
     "name": "stderr",
     "output_type": "stream",
     "text": [
      "06:37:51 - cmdstanpy - INFO - Chain [1] start processing\n",
      "06:39:02 - cmdstanpy - INFO - Chain [1] done processing\n"
     ]
    },
    {
     "name": "stdout",
     "output_type": "stream",
     "text": [
      "MAE: 1630.52\n",
      "MAPE: 7.14%\n",
      "RMSE: 2487.03\n",
      "R2: 0.94\n",
      "Prophet w Regressor: Manhattan, Predict Aug 2024 by looking at historical data before 52 days before\n"
     ]
    },
    {
     "name": "stderr",
     "output_type": "stream",
     "text": [
      "06:39:05 - cmdstanpy - INFO - Chain [1] start processing\n"
     ]
    }
   ],
   "source": [
    "mae = []\n",
    "mape = []\n",
    "rmse = []\n",
    "r2 = []\n",
    "for i, dt in enumerate(lead_dt):\n",
    "    print(f\"Prophet w Regressor: {b}, Predict Aug 2024 by looking at historical data before {i} days before\")\n",
    "\n",
    "    dt = dt.strftime('%Y-%m-%d %H:%M:%S')\n",
    "    \n",
    "    df = pd.read_parquet(f'../data/{b} - all txns.parquet.gz')\n",
    "    df = df.reset_index()\n",
    "    df['timestamp_hour'] = pd.to_datetime(df['timestamp_hour'])\n",
    "    df = df.sort_values(by = 'timestamp_hour')\n",
    "    df = df.rename(columns = {'num_txns_All': 'y', 'timestamp_hour': 'ds'})\n",
    "\n",
    "    df = df[['ds', 'y', \n",
    "                   'rolling_avg_w1-w4_lags', \n",
    "                   #'is_long_weekend',\n",
    "                   # 'is_rush_hour', \n",
    "                   #'is_business_hour', \n",
    "                   #'lag_168'\n",
    "            ]]\n",
    "    \n",
    "    df_hist = df[df['ds'] < str(dt)]\n",
    "    df_test = df[df['ds']>= '2024-08-01']\n",
    "    \n",
    "    df_hist = df_hist.dropna()\n",
    "\n",
    "    best = joblib.load(f'../models/{b}_Prophet.joblib')\n",
    "    \n",
    "    model = Prophet(changepoint_prior_scale=best.changepoint_prior_scale,\n",
    "                seasonality_prior_scale=best.seasonality_prior_scale,\n",
    "                holidays_prior_scale=best.holidays_prior_scale,\n",
    "                seasonality_mode=best.seasonality_mode,\n",
    "                yearly_seasonality=best.yearly_seasonality,\n",
    "                weekly_seasonality=best.weekly_seasonality,\n",
    "                daily_seasonality=best.daily_seasonality)\n",
    "\n",
    "    # Add exogenous variables as regressors\n",
    "    model.add_regressor('rolling_avg_w1-w4_lags')\n",
    "\n",
    "    # Add custom hourly seasonality (you can adjust the period if needed)\n",
    "    model.add_seasonality(name='hourly', period=24, fourier_order = 8)\n",
    "\n",
    "    # Fit the model\n",
    "    model.fit(df_hist)\n",
    "\n",
    "    future = pd.DataFrame({'ds': df_test['ds']})\n",
    "    forecast = model.predict(df_test)\n",
    "    results = helpers.performance_metrics(df_test['y'], forecast['yhat'])\n",
    "\n",
    "    mae.append(results['mae'])\n",
    "    mape.append(results['mape'])\n",
    "    rmse.append(results['rmse'])\n",
    "    r2.append(results['r2'])\n",
    "    \n",
    "    #model_loc = f'../models/{b}_Prophet_wRegressor.joblib'\n",
    "    forecast_loc = f'../data/forecasts/{b}_Aug2024_forecasts_wRegressor_wLeadTime_{dt}.csv'\n",
    "    \n",
    "    #joblib.dump(model, model_loc)\n",
    "    forecast.to_csv(forecast_loc)"
   ]
  },
  {
   "cell_type": "code",
   "execution_count": null,
   "id": "f21d95f2-f215-47f7-9d76-3a62c0e69228",
   "metadata": {
    "execution": {
     "iopub.status.busy": "2024-11-26T05:46:15.209309Z",
     "iopub.status.idle": "2024-11-26T05:46:15.209662Z",
     "shell.execute_reply": "2024-11-26T05:46:15.209515Z",
     "shell.execute_reply.started": "2024-11-26T05:46:15.209499Z"
    }
   },
   "outputs": [],
   "source": [
    "plt.plot(range(0,90), mape)"
   ]
  },
  {
   "cell_type": "code",
   "execution_count": null,
   "id": "7d21d740-0615-42e2-8150-f790d7a02eca",
   "metadata": {},
   "outputs": [],
   "source": []
  }
 ],
 "metadata": {
  "availableInstances": [
   {
    "_defaultOrder": 0,
    "_isFastLaunch": true,
    "category": "General purpose",
    "gpuNum": 0,
    "hideHardwareSpecs": false,
    "memoryGiB": 4,
    "name": "ml.t3.medium",
    "vcpuNum": 2
   },
   {
    "_defaultOrder": 1,
    "_isFastLaunch": false,
    "category": "General purpose",
    "gpuNum": 0,
    "hideHardwareSpecs": false,
    "memoryGiB": 8,
    "name": "ml.t3.large",
    "vcpuNum": 2
   },
   {
    "_defaultOrder": 2,
    "_isFastLaunch": false,
    "category": "General purpose",
    "gpuNum": 0,
    "hideHardwareSpecs": false,
    "memoryGiB": 16,
    "name": "ml.t3.xlarge",
    "vcpuNum": 4
   },
   {
    "_defaultOrder": 3,
    "_isFastLaunch": false,
    "category": "General purpose",
    "gpuNum": 0,
    "hideHardwareSpecs": false,
    "memoryGiB": 32,
    "name": "ml.t3.2xlarge",
    "vcpuNum": 8
   },
   {
    "_defaultOrder": 4,
    "_isFastLaunch": true,
    "category": "General purpose",
    "gpuNum": 0,
    "hideHardwareSpecs": false,
    "memoryGiB": 8,
    "name": "ml.m5.large",
    "vcpuNum": 2
   },
   {
    "_defaultOrder": 5,
    "_isFastLaunch": false,
    "category": "General purpose",
    "gpuNum": 0,
    "hideHardwareSpecs": false,
    "memoryGiB": 16,
    "name": "ml.m5.xlarge",
    "vcpuNum": 4
   },
   {
    "_defaultOrder": 6,
    "_isFastLaunch": false,
    "category": "General purpose",
    "gpuNum": 0,
    "hideHardwareSpecs": false,
    "memoryGiB": 32,
    "name": "ml.m5.2xlarge",
    "vcpuNum": 8
   },
   {
    "_defaultOrder": 7,
    "_isFastLaunch": false,
    "category": "General purpose",
    "gpuNum": 0,
    "hideHardwareSpecs": false,
    "memoryGiB": 64,
    "name": "ml.m5.4xlarge",
    "vcpuNum": 16
   },
   {
    "_defaultOrder": 8,
    "_isFastLaunch": false,
    "category": "General purpose",
    "gpuNum": 0,
    "hideHardwareSpecs": false,
    "memoryGiB": 128,
    "name": "ml.m5.8xlarge",
    "vcpuNum": 32
   },
   {
    "_defaultOrder": 9,
    "_isFastLaunch": false,
    "category": "General purpose",
    "gpuNum": 0,
    "hideHardwareSpecs": false,
    "memoryGiB": 192,
    "name": "ml.m5.12xlarge",
    "vcpuNum": 48
   },
   {
    "_defaultOrder": 10,
    "_isFastLaunch": false,
    "category": "General purpose",
    "gpuNum": 0,
    "hideHardwareSpecs": false,
    "memoryGiB": 256,
    "name": "ml.m5.16xlarge",
    "vcpuNum": 64
   },
   {
    "_defaultOrder": 11,
    "_isFastLaunch": false,
    "category": "General purpose",
    "gpuNum": 0,
    "hideHardwareSpecs": false,
    "memoryGiB": 384,
    "name": "ml.m5.24xlarge",
    "vcpuNum": 96
   },
   {
    "_defaultOrder": 12,
    "_isFastLaunch": false,
    "category": "General purpose",
    "gpuNum": 0,
    "hideHardwareSpecs": false,
    "memoryGiB": 8,
    "name": "ml.m5d.large",
    "vcpuNum": 2
   },
   {
    "_defaultOrder": 13,
    "_isFastLaunch": false,
    "category": "General purpose",
    "gpuNum": 0,
    "hideHardwareSpecs": false,
    "memoryGiB": 16,
    "name": "ml.m5d.xlarge",
    "vcpuNum": 4
   },
   {
    "_defaultOrder": 14,
    "_isFastLaunch": false,
    "category": "General purpose",
    "gpuNum": 0,
    "hideHardwareSpecs": false,
    "memoryGiB": 32,
    "name": "ml.m5d.2xlarge",
    "vcpuNum": 8
   },
   {
    "_defaultOrder": 15,
    "_isFastLaunch": false,
    "category": "General purpose",
    "gpuNum": 0,
    "hideHardwareSpecs": false,
    "memoryGiB": 64,
    "name": "ml.m5d.4xlarge",
    "vcpuNum": 16
   },
   {
    "_defaultOrder": 16,
    "_isFastLaunch": false,
    "category": "General purpose",
    "gpuNum": 0,
    "hideHardwareSpecs": false,
    "memoryGiB": 128,
    "name": "ml.m5d.8xlarge",
    "vcpuNum": 32
   },
   {
    "_defaultOrder": 17,
    "_isFastLaunch": false,
    "category": "General purpose",
    "gpuNum": 0,
    "hideHardwareSpecs": false,
    "memoryGiB": 192,
    "name": "ml.m5d.12xlarge",
    "vcpuNum": 48
   },
   {
    "_defaultOrder": 18,
    "_isFastLaunch": false,
    "category": "General purpose",
    "gpuNum": 0,
    "hideHardwareSpecs": false,
    "memoryGiB": 256,
    "name": "ml.m5d.16xlarge",
    "vcpuNum": 64
   },
   {
    "_defaultOrder": 19,
    "_isFastLaunch": false,
    "category": "General purpose",
    "gpuNum": 0,
    "hideHardwareSpecs": false,
    "memoryGiB": 384,
    "name": "ml.m5d.24xlarge",
    "vcpuNum": 96
   },
   {
    "_defaultOrder": 20,
    "_isFastLaunch": false,
    "category": "General purpose",
    "gpuNum": 0,
    "hideHardwareSpecs": true,
    "memoryGiB": 0,
    "name": "ml.geospatial.interactive",
    "supportedImageNames": [
     "sagemaker-geospatial-v1-0"
    ],
    "vcpuNum": 0
   },
   {
    "_defaultOrder": 21,
    "_isFastLaunch": true,
    "category": "Compute optimized",
    "gpuNum": 0,
    "hideHardwareSpecs": false,
    "memoryGiB": 4,
    "name": "ml.c5.large",
    "vcpuNum": 2
   },
   {
    "_defaultOrder": 22,
    "_isFastLaunch": false,
    "category": "Compute optimized",
    "gpuNum": 0,
    "hideHardwareSpecs": false,
    "memoryGiB": 8,
    "name": "ml.c5.xlarge",
    "vcpuNum": 4
   },
   {
    "_defaultOrder": 23,
    "_isFastLaunch": false,
    "category": "Compute optimized",
    "gpuNum": 0,
    "hideHardwareSpecs": false,
    "memoryGiB": 16,
    "name": "ml.c5.2xlarge",
    "vcpuNum": 8
   },
   {
    "_defaultOrder": 24,
    "_isFastLaunch": false,
    "category": "Compute optimized",
    "gpuNum": 0,
    "hideHardwareSpecs": false,
    "memoryGiB": 32,
    "name": "ml.c5.4xlarge",
    "vcpuNum": 16
   },
   {
    "_defaultOrder": 25,
    "_isFastLaunch": false,
    "category": "Compute optimized",
    "gpuNum": 0,
    "hideHardwareSpecs": false,
    "memoryGiB": 72,
    "name": "ml.c5.9xlarge",
    "vcpuNum": 36
   },
   {
    "_defaultOrder": 26,
    "_isFastLaunch": false,
    "category": "Compute optimized",
    "gpuNum": 0,
    "hideHardwareSpecs": false,
    "memoryGiB": 96,
    "name": "ml.c5.12xlarge",
    "vcpuNum": 48
   },
   {
    "_defaultOrder": 27,
    "_isFastLaunch": false,
    "category": "Compute optimized",
    "gpuNum": 0,
    "hideHardwareSpecs": false,
    "memoryGiB": 144,
    "name": "ml.c5.18xlarge",
    "vcpuNum": 72
   },
   {
    "_defaultOrder": 28,
    "_isFastLaunch": false,
    "category": "Compute optimized",
    "gpuNum": 0,
    "hideHardwareSpecs": false,
    "memoryGiB": 192,
    "name": "ml.c5.24xlarge",
    "vcpuNum": 96
   },
   {
    "_defaultOrder": 29,
    "_isFastLaunch": true,
    "category": "Accelerated computing",
    "gpuNum": 1,
    "hideHardwareSpecs": false,
    "memoryGiB": 16,
    "name": "ml.g4dn.xlarge",
    "vcpuNum": 4
   },
   {
    "_defaultOrder": 30,
    "_isFastLaunch": false,
    "category": "Accelerated computing",
    "gpuNum": 1,
    "hideHardwareSpecs": false,
    "memoryGiB": 32,
    "name": "ml.g4dn.2xlarge",
    "vcpuNum": 8
   },
   {
    "_defaultOrder": 31,
    "_isFastLaunch": false,
    "category": "Accelerated computing",
    "gpuNum": 1,
    "hideHardwareSpecs": false,
    "memoryGiB": 64,
    "name": "ml.g4dn.4xlarge",
    "vcpuNum": 16
   },
   {
    "_defaultOrder": 32,
    "_isFastLaunch": false,
    "category": "Accelerated computing",
    "gpuNum": 1,
    "hideHardwareSpecs": false,
    "memoryGiB": 128,
    "name": "ml.g4dn.8xlarge",
    "vcpuNum": 32
   },
   {
    "_defaultOrder": 33,
    "_isFastLaunch": false,
    "category": "Accelerated computing",
    "gpuNum": 4,
    "hideHardwareSpecs": false,
    "memoryGiB": 192,
    "name": "ml.g4dn.12xlarge",
    "vcpuNum": 48
   },
   {
    "_defaultOrder": 34,
    "_isFastLaunch": false,
    "category": "Accelerated computing",
    "gpuNum": 1,
    "hideHardwareSpecs": false,
    "memoryGiB": 256,
    "name": "ml.g4dn.16xlarge",
    "vcpuNum": 64
   },
   {
    "_defaultOrder": 35,
    "_isFastLaunch": false,
    "category": "Accelerated computing",
    "gpuNum": 1,
    "hideHardwareSpecs": false,
    "memoryGiB": 61,
    "name": "ml.p3.2xlarge",
    "vcpuNum": 8
   },
   {
    "_defaultOrder": 36,
    "_isFastLaunch": false,
    "category": "Accelerated computing",
    "gpuNum": 4,
    "hideHardwareSpecs": false,
    "memoryGiB": 244,
    "name": "ml.p3.8xlarge",
    "vcpuNum": 32
   },
   {
    "_defaultOrder": 37,
    "_isFastLaunch": false,
    "category": "Accelerated computing",
    "gpuNum": 8,
    "hideHardwareSpecs": false,
    "memoryGiB": 488,
    "name": "ml.p3.16xlarge",
    "vcpuNum": 64
   },
   {
    "_defaultOrder": 38,
    "_isFastLaunch": false,
    "category": "Accelerated computing",
    "gpuNum": 8,
    "hideHardwareSpecs": false,
    "memoryGiB": 768,
    "name": "ml.p3dn.24xlarge",
    "vcpuNum": 96
   },
   {
    "_defaultOrder": 39,
    "_isFastLaunch": false,
    "category": "Memory Optimized",
    "gpuNum": 0,
    "hideHardwareSpecs": false,
    "memoryGiB": 16,
    "name": "ml.r5.large",
    "vcpuNum": 2
   },
   {
    "_defaultOrder": 40,
    "_isFastLaunch": false,
    "category": "Memory Optimized",
    "gpuNum": 0,
    "hideHardwareSpecs": false,
    "memoryGiB": 32,
    "name": "ml.r5.xlarge",
    "vcpuNum": 4
   },
   {
    "_defaultOrder": 41,
    "_isFastLaunch": false,
    "category": "Memory Optimized",
    "gpuNum": 0,
    "hideHardwareSpecs": false,
    "memoryGiB": 64,
    "name": "ml.r5.2xlarge",
    "vcpuNum": 8
   },
   {
    "_defaultOrder": 42,
    "_isFastLaunch": false,
    "category": "Memory Optimized",
    "gpuNum": 0,
    "hideHardwareSpecs": false,
    "memoryGiB": 128,
    "name": "ml.r5.4xlarge",
    "vcpuNum": 16
   },
   {
    "_defaultOrder": 43,
    "_isFastLaunch": false,
    "category": "Memory Optimized",
    "gpuNum": 0,
    "hideHardwareSpecs": false,
    "memoryGiB": 256,
    "name": "ml.r5.8xlarge",
    "vcpuNum": 32
   },
   {
    "_defaultOrder": 44,
    "_isFastLaunch": false,
    "category": "Memory Optimized",
    "gpuNum": 0,
    "hideHardwareSpecs": false,
    "memoryGiB": 384,
    "name": "ml.r5.12xlarge",
    "vcpuNum": 48
   },
   {
    "_defaultOrder": 45,
    "_isFastLaunch": false,
    "category": "Memory Optimized",
    "gpuNum": 0,
    "hideHardwareSpecs": false,
    "memoryGiB": 512,
    "name": "ml.r5.16xlarge",
    "vcpuNum": 64
   },
   {
    "_defaultOrder": 46,
    "_isFastLaunch": false,
    "category": "Memory Optimized",
    "gpuNum": 0,
    "hideHardwareSpecs": false,
    "memoryGiB": 768,
    "name": "ml.r5.24xlarge",
    "vcpuNum": 96
   },
   {
    "_defaultOrder": 47,
    "_isFastLaunch": false,
    "category": "Accelerated computing",
    "gpuNum": 1,
    "hideHardwareSpecs": false,
    "memoryGiB": 16,
    "name": "ml.g5.xlarge",
    "vcpuNum": 4
   },
   {
    "_defaultOrder": 48,
    "_isFastLaunch": false,
    "category": "Accelerated computing",
    "gpuNum": 1,
    "hideHardwareSpecs": false,
    "memoryGiB": 32,
    "name": "ml.g5.2xlarge",
    "vcpuNum": 8
   },
   {
    "_defaultOrder": 49,
    "_isFastLaunch": false,
    "category": "Accelerated computing",
    "gpuNum": 1,
    "hideHardwareSpecs": false,
    "memoryGiB": 64,
    "name": "ml.g5.4xlarge",
    "vcpuNum": 16
   },
   {
    "_defaultOrder": 50,
    "_isFastLaunch": false,
    "category": "Accelerated computing",
    "gpuNum": 1,
    "hideHardwareSpecs": false,
    "memoryGiB": 128,
    "name": "ml.g5.8xlarge",
    "vcpuNum": 32
   },
   {
    "_defaultOrder": 51,
    "_isFastLaunch": false,
    "category": "Accelerated computing",
    "gpuNum": 1,
    "hideHardwareSpecs": false,
    "memoryGiB": 256,
    "name": "ml.g5.16xlarge",
    "vcpuNum": 64
   },
   {
    "_defaultOrder": 52,
    "_isFastLaunch": false,
    "category": "Accelerated computing",
    "gpuNum": 4,
    "hideHardwareSpecs": false,
    "memoryGiB": 192,
    "name": "ml.g5.12xlarge",
    "vcpuNum": 48
   },
   {
    "_defaultOrder": 53,
    "_isFastLaunch": false,
    "category": "Accelerated computing",
    "gpuNum": 4,
    "hideHardwareSpecs": false,
    "memoryGiB": 384,
    "name": "ml.g5.24xlarge",
    "vcpuNum": 96
   },
   {
    "_defaultOrder": 54,
    "_isFastLaunch": false,
    "category": "Accelerated computing",
    "gpuNum": 8,
    "hideHardwareSpecs": false,
    "memoryGiB": 768,
    "name": "ml.g5.48xlarge",
    "vcpuNum": 192
   },
   {
    "_defaultOrder": 55,
    "_isFastLaunch": false,
    "category": "Accelerated computing",
    "gpuNum": 8,
    "hideHardwareSpecs": false,
    "memoryGiB": 1152,
    "name": "ml.p4d.24xlarge",
    "vcpuNum": 96
   },
   {
    "_defaultOrder": 56,
    "_isFastLaunch": false,
    "category": "Accelerated computing",
    "gpuNum": 8,
    "hideHardwareSpecs": false,
    "memoryGiB": 1152,
    "name": "ml.p4de.24xlarge",
    "vcpuNum": 96
   },
   {
    "_defaultOrder": 57,
    "_isFastLaunch": false,
    "category": "Accelerated computing",
    "gpuNum": 0,
    "hideHardwareSpecs": false,
    "memoryGiB": 32,
    "name": "ml.trn1.2xlarge",
    "vcpuNum": 8
   },
   {
    "_defaultOrder": 58,
    "_isFastLaunch": false,
    "category": "Accelerated computing",
    "gpuNum": 0,
    "hideHardwareSpecs": false,
    "memoryGiB": 512,
    "name": "ml.trn1.32xlarge",
    "vcpuNum": 128
   },
   {
    "_defaultOrder": 59,
    "_isFastLaunch": false,
    "category": "Accelerated computing",
    "gpuNum": 0,
    "hideHardwareSpecs": false,
    "memoryGiB": 512,
    "name": "ml.trn1n.32xlarge",
    "vcpuNum": 128
   }
  ],
  "instance_type": "ml.t3.xlarge",
  "kernelspec": {
   "display_name": "Python 3 (ipykernel)",
   "language": "python",
   "name": "python3"
  },
  "language_info": {
   "codemirror_mode": {
    "name": "ipython",
    "version": 3
   },
   "file_extension": ".py",
   "mimetype": "text/x-python",
   "name": "python",
   "nbconvert_exporter": "python",
   "pygments_lexer": "ipython3",
   "version": "3.11.8"
  }
 },
 "nbformat": 4,
 "nbformat_minor": 5
}
