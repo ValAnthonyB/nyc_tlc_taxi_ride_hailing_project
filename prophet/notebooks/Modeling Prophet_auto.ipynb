{
 "cells": [
  {
   "cell_type": "code",
   "execution_count": 3,
   "id": "e5675d1c-f94a-4fd6-a200-c3881dfa8288",
   "metadata": {
    "tags": []
   },
   "outputs": [],
   "source": [
    "%load_ext autoreload\n",
    "%autoreload 2"
   ]
  },
  {
   "cell_type": "code",
   "execution_count": 4,
   "id": "889b87de-3cba-449a-845b-163f869049a3",
   "metadata": {
    "tags": []
   },
   "outputs": [],
   "source": [
    "import pandas as pd\n",
    "import matplotlib.pyplot as plt\n",
    "import utils.helpers as helpers\n",
    "import logging"
   ]
  },
  {
   "cell_type": "code",
   "execution_count": 11,
   "id": "295bd44c-7bc6-440f-9bdf-a4b0450a03a6",
   "metadata": {
    "tags": []
   },
   "outputs": [],
   "source": [
    "boroughs = ['Bronx','Brooklyn', 'EWR', 'Manhattan', 'Queens', 'Staten Island']"
   ]
  },
  {
   "cell_type": "code",
   "execution_count": 12,
   "id": "6fe8c42b-71fd-49e9-8683-0485aac75923",
   "metadata": {
    "tags": []
   },
   "outputs": [
    {
     "name": "stderr",
     "output_type": "stream",
     "text": [
      "[I 2024-11-25 08:30:12,973] A new study created in memory with name: no-name-bb45d08a-e314-4761-9f64-0122d9e65b71\n"
     ]
    },
    {
     "data": {
      "application/vnd.jupyter.widget-view+json": {
       "model_id": "c7ecad9bda2445399d4b245f7a735f2f",
       "version_major": 2,
       "version_minor": 0
      },
      "text/plain": [
       "  0%|          | 0/50 [00:00<?, ?it/s]"
      ]
     },
     "metadata": {},
     "output_type": "display_data"
    },
    {
     "name": "stderr",
     "output_type": "stream",
     "text": [
      "08:30:18 - cmdstanpy - INFO - Chain [1] start processing\n",
      "08:31:58 - cmdstanpy - INFO - Chain [1] done processing\n"
     ]
    },
    {
     "name": "stdout",
     "output_type": "stream",
     "text": [
      "MAE: 1492.44\n",
      "MAPE: 18.84%\n",
      "RMSE: 2027.07\n",
      "R2: 0.75\n",
      "[I 2024-11-25 08:31:59,679] Trial 0 finished with value: 2027.0743549952954 and parameters: {'changepoint_prior_scale': 0.08358982303180261, 'seasonality_prior_scale': 3.109267652554711, 'holidays_prior_scale': 6.759937632650955, 'seasonality_mode': 'additive', 'yearly_seasonality': True, 'weekly_seasonality': True, 'daily_seasonality': True}. Best is trial 0 with value: 2027.0743549952954.\n"
     ]
    },
    {
     "name": "stderr",
     "output_type": "stream",
     "text": [
      "08:32:04 - cmdstanpy - INFO - Chain [1] start processing\n",
      "08:34:08 - cmdstanpy - INFO - Chain [1] done processing\n"
     ]
    },
    {
     "name": "stdout",
     "output_type": "stream",
     "text": [
      "MAE: 1727.77\n",
      "MAPE: 23.51%\n",
      "RMSE: 2197.98\n",
      "R2: 0.71\n",
      "[I 2024-11-25 08:34:09,286] Trial 1 finished with value: 2197.9820961601686 and parameters: {'changepoint_prior_scale': 0.03422347920564613, 'seasonality_prior_scale': 6.006125547726887, 'holidays_prior_scale': 2.9401702583664227, 'seasonality_mode': 'additive', 'yearly_seasonality': False, 'weekly_seasonality': True, 'daily_seasonality': True}. Best is trial 0 with value: 2027.0743549952954.\n"
     ]
    },
    {
     "name": "stderr",
     "output_type": "stream",
     "text": [
      "08:34:14 - cmdstanpy - INFO - Chain [1] start processing\n",
      "08:35:47 - cmdstanpy - INFO - Chain [1] done processing\n"
     ]
    },
    {
     "name": "stdout",
     "output_type": "stream",
     "text": [
      "MAE: 3042.97\n",
      "MAPE: 53.14%\n",
      "RMSE: 3833.04\n",
      "R2: 0.11\n",
      "[I 2024-11-25 08:35:48,519] Trial 2 finished with value: 3833.038343292837 and parameters: {'changepoint_prior_scale': 0.06051650939349426, 'seasonality_prior_scale': 1.1360886766311737, 'holidays_prior_scale': 8.629692851095104, 'seasonality_mode': 'additive', 'yearly_seasonality': True, 'weekly_seasonality': True, 'daily_seasonality': False}. Best is trial 0 with value: 2027.0743549952954.\n"
     ]
    },
    {
     "name": "stderr",
     "output_type": "stream",
     "text": [
      "08:35:51 - cmdstanpy - INFO - Chain [1] start processing\n",
      "08:36:24 - cmdstanpy - INFO - Chain [1] done processing\n"
     ]
    },
    {
     "name": "stdout",
     "output_type": "stream",
     "text": [
      "MAE: 2984.21\n",
      "MAPE: 55.26%\n",
      "RMSE: 3920.33\n",
      "R2: 0.07\n",
      "[I 2024-11-25 08:36:25,401] Trial 3 finished with value: 3920.3281606566875 and parameters: {'changepoint_prior_scale': 0.016253914802559857, 'seasonality_prior_scale': 8.01851778629914, 'holidays_prior_scale': 4.836298293051126, 'seasonality_mode': 'additive', 'yearly_seasonality': False, 'weekly_seasonality': True, 'daily_seasonality': False}. Best is trial 0 with value: 2027.0743549952954.\n"
     ]
    },
    {
     "name": "stderr",
     "output_type": "stream",
     "text": [
      "08:36:30 - cmdstanpy - INFO - Chain [1] start processing\n",
      "08:37:51 - cmdstanpy - INFO - Chain [1] done processing\n"
     ]
    },
    {
     "name": "stdout",
     "output_type": "stream",
     "text": [
      "MAE: 3181.49\n",
      "MAPE: 55.61%\n",
      "RMSE: 4053.66\n",
      "R2: 0.00\n",
      "[I 2024-11-25 08:37:51,816] Trial 4 finished with value: 4053.6587962700646 and parameters: {'changepoint_prior_scale': 0.06234999320701917, 'seasonality_prior_scale': 2.70407449296722, 'holidays_prior_scale': 5.651490042848247, 'seasonality_mode': 'additive', 'yearly_seasonality': True, 'weekly_seasonality': False, 'daily_seasonality': False}. Best is trial 0 with value: 2027.0743549952954.\n"
     ]
    },
    {
     "name": "stderr",
     "output_type": "stream",
     "text": [
      "08:37:55 - cmdstanpy - INFO - Chain [1] start processing\n",
      "08:39:02 - cmdstanpy - INFO - Chain [1] done processing\n"
     ]
    },
    {
     "name": "stdout",
     "output_type": "stream",
     "text": [
      "MAE: 2985.52\n",
      "MAPE: 55.11%\n",
      "RMSE: 3913.45\n",
      "R2: 0.07\n",
      "[I 2024-11-25 08:39:03,308] Trial 5 finished with value: 3913.453820632022 and parameters: {'changepoint_prior_scale': 0.023931664377595727, 'seasonality_prior_scale': 1.166627330054303, 'holidays_prior_scale': 6.003037496207107, 'seasonality_mode': 'additive', 'yearly_seasonality': False, 'weekly_seasonality': True, 'daily_seasonality': False}. Best is trial 0 with value: 2027.0743549952954.\n"
     ]
    },
    {
     "name": "stderr",
     "output_type": "stream",
     "text": [
      "08:39:09 - cmdstanpy - INFO - Chain [1] start processing\n",
      "08:39:57 - cmdstanpy - INFO - Chain [1] done processing\n"
     ]
    },
    {
     "name": "stdout",
     "output_type": "stream",
     "text": [
      "MAE: 3039.52\n",
      "MAPE: 53.17%\n",
      "RMSE: 3834.69\n",
      "R2: 0.11\n",
      "[I 2024-11-25 08:39:58,088] Trial 6 finished with value: 3834.6856300608993 and parameters: {'changepoint_prior_scale': 0.022220174514550012, 'seasonality_prior_scale': 2.663749640999547, 'holidays_prior_scale': 7.618189711886031, 'seasonality_mode': 'additive', 'yearly_seasonality': True, 'weekly_seasonality': True, 'daily_seasonality': False}. Best is trial 0 with value: 2027.0743549952954.\n"
     ]
    },
    {
     "name": "stderr",
     "output_type": "stream",
     "text": [
      "08:40:03 - cmdstanpy - INFO - Chain [1] start processing\n",
      "08:42:04 - cmdstanpy - INFO - Chain [1] done processing\n"
     ]
    },
    {
     "name": "stdout",
     "output_type": "stream",
     "text": [
      "MAE: 1538.95\n",
      "MAPE: 18.58%\n",
      "RMSE: 2036.99\n",
      "R2: 0.75\n",
      "[I 2024-11-25 08:42:05,246] Trial 7 finished with value: 2036.989618355347 and parameters: {'changepoint_prior_scale': 0.047372040843598785, 'seasonality_prior_scale': 9.06685668181934, 'holidays_prior_scale': 5.046474565318345, 'seasonality_mode': 'multiplicative', 'yearly_seasonality': True, 'weekly_seasonality': True, 'daily_seasonality': True}. Best is trial 0 with value: 2027.0743549952954.\n"
     ]
    },
    {
     "name": "stderr",
     "output_type": "stream",
     "text": [
      "08:42:09 - cmdstanpy - INFO - Chain [1] start processing\n",
      "08:43:30 - cmdstanpy - INFO - Chain [1] done processing\n"
     ]
    },
    {
     "name": "stdout",
     "output_type": "stream",
     "text": [
      "MAE: 1754.21\n",
      "MAPE: 21.19%\n",
      "RMSE: 2226.91\n",
      "R2: 0.70\n",
      "[I 2024-11-25 08:43:31,231] Trial 8 finished with value: 2226.907331294376 and parameters: {'changepoint_prior_scale': 0.059633917065491815, 'seasonality_prior_scale': 6.37641077865397, 'holidays_prior_scale': 8.414209767266968, 'seasonality_mode': 'multiplicative', 'yearly_seasonality': False, 'weekly_seasonality': True, 'daily_seasonality': True}. Best is trial 0 with value: 2027.0743549952954.\n"
     ]
    },
    {
     "name": "stderr",
     "output_type": "stream",
     "text": [
      "08:43:37 - cmdstanpy - INFO - Chain [1] start processing\n",
      "08:46:17 - cmdstanpy - INFO - Chain [1] done processing\n"
     ]
    },
    {
     "name": "stdout",
     "output_type": "stream",
     "text": [
      "MAE: 1555.23\n",
      "MAPE: 18.78%\n",
      "RMSE: 2048.88\n",
      "R2: 0.75\n",
      "[I 2024-11-25 08:46:17,772] Trial 9 finished with value: 2048.879412536326 and parameters: {'changepoint_prior_scale': 0.08507200390743737, 'seasonality_prior_scale': 9.393382914946944, 'holidays_prior_scale': 1.9262458272439713, 'seasonality_mode': 'multiplicative', 'yearly_seasonality': True, 'weekly_seasonality': True, 'daily_seasonality': True}. Best is trial 0 with value: 2027.0743549952954.\n"
     ]
    },
    {
     "name": "stderr",
     "output_type": "stream",
     "text": [
      "08:46:23 - cmdstanpy - INFO - Chain [1] start processing\n",
      "08:48:32 - cmdstanpy - INFO - Chain [1] done processing\n"
     ]
    },
    {
     "name": "stdout",
     "output_type": "stream",
     "text": [
      "MAE: 1888.64\n",
      "MAPE: 22.35%\n",
      "RMSE: 2415.35\n",
      "R2: 0.65\n",
      "[I 2024-11-25 08:48:33,395] Trial 10 finished with value: 2415.352681421474 and parameters: {'changepoint_prior_scale': 0.098581406683385, 'seasonality_prior_scale': 4.150551624389667, 'holidays_prior_scale': 9.779758650694372, 'seasonality_mode': 'multiplicative', 'yearly_seasonality': True, 'weekly_seasonality': False, 'daily_seasonality': True}. Best is trial 0 with value: 2027.0743549952954.\n"
     ]
    },
    {
     "name": "stderr",
     "output_type": "stream",
     "text": [
      "08:48:38 - cmdstanpy - INFO - Chain [1] start processing\n",
      "08:50:54 - cmdstanpy - INFO - Chain [1] done processing\n"
     ]
    },
    {
     "name": "stdout",
     "output_type": "stream",
     "text": [
      "MAE: 1878.32\n",
      "MAPE: 22.06%\n",
      "RMSE: 2408.92\n",
      "R2: 0.65\n",
      "[I 2024-11-25 08:50:55,185] Trial 11 finished with value: 2408.92398519953 and parameters: {'changepoint_prior_scale': 0.042246095894384134, 'seasonality_prior_scale': 9.586874288755283, 'holidays_prior_scale': 4.171457886900454, 'seasonality_mode': 'multiplicative', 'yearly_seasonality': True, 'weekly_seasonality': False, 'daily_seasonality': True}. Best is trial 0 with value: 2027.0743549952954.\n"
     ]
    },
    {
     "name": "stderr",
     "output_type": "stream",
     "text": [
      "08:51:01 - cmdstanpy - INFO - Chain [1] start processing\n",
      "08:53:23 - cmdstanpy - INFO - Chain [1] done processing\n"
     ]
    },
    {
     "name": "stdout",
     "output_type": "stream",
     "text": [
      "MAE: 1550.81\n",
      "MAPE: 18.72%\n",
      "RMSE: 2045.50\n",
      "R2: 0.75\n",
      "[I 2024-11-25 08:53:23,963] Trial 12 finished with value: 2045.5046338593547 and parameters: {'changepoint_prior_scale': 0.0778629608586555, 'seasonality_prior_scale': 4.506321750390481, 'holidays_prior_scale': 6.698631719191521, 'seasonality_mode': 'multiplicative', 'yearly_seasonality': True, 'weekly_seasonality': True, 'daily_seasonality': True}. Best is trial 0 with value: 2027.0743549952954.\n"
     ]
    },
    {
     "name": "stderr",
     "output_type": "stream",
     "text": [
      "08:53:30 - cmdstanpy - INFO - Chain [1] start processing\n",
      "08:53:51 - cmdstanpy - INFO - Chain [1] done processing\n"
     ]
    },
    {
     "name": "stdout",
     "output_type": "stream",
     "text": [
      "MAE: 1576.62\n",
      "MAPE: 18.99%\n",
      "RMSE: 2064.33\n",
      "R2: 0.74\n",
      "[I 2024-11-25 08:53:52,343] Trial 13 finished with value: 2064.3287976831184 and parameters: {'changepoint_prior_scale': 0.0029211075661074865, 'seasonality_prior_scale': 8.40880155436975, 'holidays_prior_scale': 4.2915242842513885, 'seasonality_mode': 'multiplicative', 'yearly_seasonality': True, 'weekly_seasonality': True, 'daily_seasonality': True}. Best is trial 0 with value: 2027.0743549952954.\n"
     ]
    },
    {
     "name": "stderr",
     "output_type": "stream",
     "text": [
      "08:53:58 - cmdstanpy - INFO - Chain [1] start processing\n",
      "08:56:19 - cmdstanpy - INFO - Chain [1] done processing\n"
     ]
    },
    {
     "name": "stdout",
     "output_type": "stream",
     "text": [
      "MAE: 1494.69\n",
      "MAPE: 18.91%\n",
      "RMSE: 2028.27\n",
      "R2: 0.75\n",
      "[I 2024-11-25 08:56:20,026] Trial 14 finished with value: 2028.2663230722285 and parameters: {'changepoint_prior_scale': 0.07570901397271859, 'seasonality_prior_scale': 7.51580402720516, 'holidays_prior_scale': 6.7810567961025345, 'seasonality_mode': 'additive', 'yearly_seasonality': True, 'weekly_seasonality': True, 'daily_seasonality': True}. Best is trial 0 with value: 2027.0743549952954.\n"
     ]
    },
    {
     "name": "stderr",
     "output_type": "stream",
     "text": [
      "08:56:26 - cmdstanpy - INFO - Chain [1] start processing\n",
      "08:58:32 - cmdstanpy - INFO - Chain [1] done processing\n"
     ]
    },
    {
     "name": "stdout",
     "output_type": "stream",
     "text": [
      "MAE: 1906.34\n",
      "MAPE: 24.28%\n",
      "RMSE: 2403.66\n",
      "R2: 0.65\n",
      "[I 2024-11-25 08:58:32,888] Trial 15 finished with value: 2403.6585588050016 and parameters: {'changepoint_prior_scale': 0.07888710604489758, 'seasonality_prior_scale': 7.227887810216531, 'holidays_prior_scale': 7.145745443080988, 'seasonality_mode': 'additive', 'yearly_seasonality': True, 'weekly_seasonality': False, 'daily_seasonality': True}. Best is trial 0 with value: 2027.0743549952954.\n"
     ]
    },
    {
     "name": "stderr",
     "output_type": "stream",
     "text": [
      "08:58:38 - cmdstanpy - INFO - Chain [1] start processing\n",
      "09:00:56 - cmdstanpy - INFO - Chain [1] done processing\n"
     ]
    },
    {
     "name": "stdout",
     "output_type": "stream",
     "text": [
      "MAE: 1491.70\n",
      "MAPE: 18.82%\n",
      "RMSE: 2026.60\n",
      "R2: 0.75\n",
      "[I 2024-11-25 09:00:57,096] Trial 16 finished with value: 2026.602154884192 and parameters: {'changepoint_prior_scale': 0.08648227204459331, 'seasonality_prior_scale': 4.413909333962549, 'holidays_prior_scale': 6.5045698862106915, 'seasonality_mode': 'additive', 'yearly_seasonality': True, 'weekly_seasonality': True, 'daily_seasonality': True}. Best is trial 16 with value: 2026.602154884192.\n"
     ]
    },
    {
     "name": "stderr",
     "output_type": "stream",
     "text": [
      "09:01:03 - cmdstanpy - INFO - Chain [1] start processing\n",
      "09:03:11 - cmdstanpy - INFO - Chain [1] done processing\n"
     ]
    },
    {
     "name": "stdout",
     "output_type": "stream",
     "text": [
      "MAE: 1490.51\n",
      "MAPE: 18.79%\n",
      "RMSE: 2026.02\n",
      "R2: 0.75\n",
      "[I 2024-11-25 09:03:12,231] Trial 17 finished with value: 2026.019106784603 and parameters: {'changepoint_prior_scale': 0.09962641118271484, 'seasonality_prior_scale': 4.680628659184391, 'holidays_prior_scale': 8.239729028945034, 'seasonality_mode': 'additive', 'yearly_seasonality': True, 'weekly_seasonality': True, 'daily_seasonality': True}. Best is trial 17 with value: 2026.019106784603.\n"
     ]
    },
    {
     "name": "stderr",
     "output_type": "stream",
     "text": [
      "09:03:16 - cmdstanpy - INFO - Chain [1] start processing\n",
      "09:05:07 - cmdstanpy - INFO - Chain [1] done processing\n"
     ]
    },
    {
     "name": "stdout",
     "output_type": "stream",
     "text": [
      "MAE: 2112.45\n",
      "MAPE: 29.32%\n",
      "RMSE: 2547.57\n",
      "R2: 0.61\n",
      "[I 2024-11-25 09:05:07,842] Trial 18 finished with value: 2547.5691386084177 and parameters: {'changepoint_prior_scale': 0.09641903759644568, 'seasonality_prior_scale': 5.280590479625799, 'holidays_prior_scale': 9.134470436311274, 'seasonality_mode': 'additive', 'yearly_seasonality': False, 'weekly_seasonality': False, 'daily_seasonality': True}. Best is trial 17 with value: 2026.019106784603.\n"
     ]
    },
    {
     "name": "stderr",
     "output_type": "stream",
     "text": [
      "09:05:14 - cmdstanpy - INFO - Chain [1] start processing\n",
      "09:07:35 - cmdstanpy - INFO - Chain [1] done processing\n"
     ]
    },
    {
     "name": "stdout",
     "output_type": "stream",
     "text": [
      "MAE: 1498.11\n",
      "MAPE: 19.00%\n",
      "RMSE: 2030.32\n",
      "R2: 0.75\n",
      "[I 2024-11-25 09:07:35,840] Trial 19 finished with value: 2030.3187946017576 and parameters: {'changepoint_prior_scale': 0.09259654670403619, 'seasonality_prior_scale': 4.110230504583829, 'holidays_prior_scale': 8.146506391428376, 'seasonality_mode': 'additive', 'yearly_seasonality': True, 'weekly_seasonality': True, 'daily_seasonality': True}. Best is trial 17 with value: 2026.019106784603.\n"
     ]
    },
    {
     "name": "stderr",
     "output_type": "stream",
     "text": [
      "09:07:41 - cmdstanpy - INFO - Chain [1] start processing\n",
      "09:10:31 - cmdstanpy - INFO - Chain [1] done processing\n"
     ]
    },
    {
     "name": "stdout",
     "output_type": "stream",
     "text": [
      "MAE: 1496.05\n",
      "MAPE: 18.95%\n",
      "RMSE: 2029.08\n",
      "R2: 0.75\n",
      "[I 2024-11-25 09:10:31,588] Trial 20 finished with value: 2029.0813422320546 and parameters: {'changepoint_prior_scale': 0.06857477084238817, 'seasonality_prior_scale': 5.082992949244757, 'holidays_prior_scale': 9.80955261138878, 'seasonality_mode': 'additive', 'yearly_seasonality': True, 'weekly_seasonality': True, 'daily_seasonality': True}. Best is trial 17 with value: 2026.019106784603.\n"
     ]
    },
    {
     "name": "stderr",
     "output_type": "stream",
     "text": [
      "09:10:37 - cmdstanpy - INFO - Chain [1] start processing\n",
      "09:12:27 - cmdstanpy - INFO - Chain [1] done processing\n"
     ]
    },
    {
     "name": "stdout",
     "output_type": "stream",
     "text": [
      "MAE: 1492.48\n",
      "MAPE: 18.85%\n",
      "RMSE: 2027.03\n",
      "R2: 0.75\n",
      "[I 2024-11-25 09:12:28,129] Trial 21 finished with value: 2027.0303579617346 and parameters: {'changepoint_prior_scale': 0.08638724496505307, 'seasonality_prior_scale': 3.1750889194063614, 'holidays_prior_scale': 6.224356242799853, 'seasonality_mode': 'additive', 'yearly_seasonality': True, 'weekly_seasonality': True, 'daily_seasonality': True}. Best is trial 17 with value: 2026.019106784603.\n"
     ]
    },
    {
     "name": "stderr",
     "output_type": "stream",
     "text": [
      "09:12:35 - cmdstanpy - INFO - Chain [1] start processing\n",
      "09:14:51 - cmdstanpy - INFO - Chain [1] done processing\n"
     ]
    },
    {
     "name": "stdout",
     "output_type": "stream",
     "text": [
      "MAE: 1495.62\n",
      "MAPE: 18.93%\n",
      "RMSE: 2028.86\n",
      "R2: 0.75\n",
      "[I 2024-11-25 09:14:51,667] Trial 22 finished with value: 2028.8558780550406 and parameters: {'changepoint_prior_scale': 0.08789265711606506, 'seasonality_prior_scale': 3.3501584030047127, 'holidays_prior_scale': 5.879320767544081, 'seasonality_mode': 'additive', 'yearly_seasonality': True, 'weekly_seasonality': True, 'daily_seasonality': True}. Best is trial 17 with value: 2026.019106784603.\n"
     ]
    },
    {
     "name": "stderr",
     "output_type": "stream",
     "text": [
      "09:14:57 - cmdstanpy - INFO - Chain [1] start processing\n",
      "09:17:31 - cmdstanpy - INFO - Chain [1] done processing\n"
     ]
    },
    {
     "name": "stdout",
     "output_type": "stream",
     "text": [
      "MAE: 1491.85\n",
      "MAPE: 18.83%\n",
      "RMSE: 2026.73\n",
      "R2: 0.75\n",
      "[I 2024-11-25 09:17:31,981] Trial 23 finished with value: 2026.731793350197 and parameters: {'changepoint_prior_scale': 0.09843627442569637, 'seasonality_prior_scale': 1.8940105768858166, 'holidays_prior_scale': 7.635123216704429, 'seasonality_mode': 'additive', 'yearly_seasonality': True, 'weekly_seasonality': True, 'daily_seasonality': True}. Best is trial 17 with value: 2026.019106784603.\n"
     ]
    },
    {
     "name": "stderr",
     "output_type": "stream",
     "text": [
      "09:17:37 - cmdstanpy - INFO - Chain [1] start processing\n",
      "09:19:42 - cmdstanpy - INFO - Chain [1] done processing\n"
     ]
    },
    {
     "name": "stdout",
     "output_type": "stream",
     "text": [
      "MAE: 1491.82\n",
      "MAPE: 18.82%\n",
      "RMSE: 2026.80\n",
      "R2: 0.75\n",
      "[I 2024-11-25 09:19:43,046] Trial 24 finished with value: 2026.8030768993722 and parameters: {'changepoint_prior_scale': 0.09995598419466711, 'seasonality_prior_scale': 1.9947055487329028, 'holidays_prior_scale': 7.566511492993858, 'seasonality_mode': 'additive', 'yearly_seasonality': True, 'weekly_seasonality': True, 'daily_seasonality': True}. Best is trial 17 with value: 2026.019106784603.\n"
     ]
    },
    {
     "name": "stderr",
     "output_type": "stream",
     "text": [
      "09:19:49 - cmdstanpy - INFO - Chain [1] start processing\n",
      "09:22:51 - cmdstanpy - INFO - Chain [1] done processing\n"
     ]
    },
    {
     "name": "stdout",
     "output_type": "stream",
     "text": [
      "MAE: 1491.62\n",
      "MAPE: 18.82%\n",
      "RMSE: 2026.64\n",
      "R2: 0.75\n",
      "[I 2024-11-25 09:22:51,673] Trial 25 finished with value: 2026.6360644534439 and parameters: {'changepoint_prior_scale': 0.09435021520851988, 'seasonality_prior_scale': 2.0343056693225825, 'holidays_prior_scale': 9.004680355070182, 'seasonality_mode': 'additive', 'yearly_seasonality': True, 'weekly_seasonality': True, 'daily_seasonality': True}. Best is trial 17 with value: 2026.019106784603.\n"
     ]
    },
    {
     "name": "stderr",
     "output_type": "stream",
     "text": [
      "09:22:55 - cmdstanpy - INFO - Chain [1] start processing\n",
      "09:24:51 - cmdstanpy - INFO - Chain [1] done processing\n"
     ]
    },
    {
     "name": "stdout",
     "output_type": "stream",
     "text": [
      "MAE: 2108.44\n",
      "MAPE: 29.23%\n",
      "RMSE: 2544.02\n",
      "R2: 0.61\n",
      "[I 2024-11-25 09:24:51,695] Trial 26 finished with value: 2544.0157565565983 and parameters: {'changepoint_prior_scale': 0.07098479217572155, 'seasonality_prior_scale': 6.411436542724928, 'holidays_prior_scale': 8.777569930336306, 'seasonality_mode': 'additive', 'yearly_seasonality': False, 'weekly_seasonality': False, 'daily_seasonality': True}. Best is trial 17 with value: 2026.019106784603.\n"
     ]
    },
    {
     "name": "stderr",
     "output_type": "stream",
     "text": [
      "09:24:57 - cmdstanpy - INFO - Chain [1] start processing\n",
      "09:27:27 - cmdstanpy - INFO - Chain [1] done processing\n"
     ]
    },
    {
     "name": "stdout",
     "output_type": "stream",
     "text": [
      "MAE: 3056.70\n",
      "MAPE: 52.92%\n",
      "RMSE: 3827.53\n",
      "R2: 0.11\n",
      "[I 2024-11-25 09:27:28,341] Trial 27 finished with value: 3827.5312089718595 and parameters: {'changepoint_prior_scale': 0.09004283917025756, 'seasonality_prior_scale': 4.750442365507687, 'holidays_prior_scale': 9.277416699717392, 'seasonality_mode': 'additive', 'yearly_seasonality': True, 'weekly_seasonality': True, 'daily_seasonality': False}. Best is trial 17 with value: 2026.019106784603.\n"
     ]
    },
    {
     "name": "stderr",
     "output_type": "stream",
     "text": [
      "09:27:34 - cmdstanpy - INFO - Chain [1] start processing\n",
      "09:29:54 - cmdstanpy - INFO - Chain [1] done processing\n"
     ]
    },
    {
     "name": "stdout",
     "output_type": "stream",
     "text": [
      "MAE: 1492.03\n",
      "MAPE: 18.83%\n",
      "RMSE: 2026.80\n",
      "R2: 0.75\n",
      "[I 2024-11-25 09:29:55,550] Trial 28 finished with value: 2026.8028108517071 and parameters: {'changepoint_prior_scale': 0.09150580281301232, 'seasonality_prior_scale': 5.782934190636478, 'holidays_prior_scale': 7.690647096119664, 'seasonality_mode': 'additive', 'yearly_seasonality': True, 'weekly_seasonality': True, 'daily_seasonality': True}. Best is trial 17 with value: 2026.019106784603.\n"
     ]
    },
    {
     "name": "stderr",
     "output_type": "stream",
     "text": [
      "09:30:01 - cmdstanpy - INFO - Chain [1] start processing\n",
      "09:31:52 - cmdstanpy - INFO - Chain [1] done processing\n"
     ]
    },
    {
     "name": "stdout",
     "output_type": "stream",
     "text": [
      "MAE: 1492.88\n",
      "MAPE: 18.86%\n",
      "RMSE: 2027.23\n",
      "R2: 0.75\n",
      "[I 2024-11-25 09:31:53,441] Trial 29 finished with value: 2027.2253091153627 and parameters: {'changepoint_prior_scale': 0.08087487368576814, 'seasonality_prior_scale': 3.738867913771334, 'holidays_prior_scale': 8.230868937979489, 'seasonality_mode': 'additive', 'yearly_seasonality': True, 'weekly_seasonality': True, 'daily_seasonality': True}. Best is trial 17 with value: 2026.019106784603.\n"
     ]
    },
    {
     "name": "stderr",
     "output_type": "stream",
     "text": [
      "09:31:59 - cmdstanpy - INFO - Chain [1] start processing\n",
      "09:34:41 - cmdstanpy - INFO - Chain [1] done processing\n"
     ]
    },
    {
     "name": "stdout",
     "output_type": "stream",
     "text": [
      "MAE: 1497.62\n",
      "MAPE: 18.99%\n",
      "RMSE: 2029.98\n",
      "R2: 0.75\n",
      "[I 2024-11-25 09:34:42,033] Trial 30 finished with value: 2029.9826178708552 and parameters: {'changepoint_prior_scale': 0.06946325506434999, 'seasonality_prior_scale': 2.0791201369190224, 'holidays_prior_scale': 9.110753085720946, 'seasonality_mode': 'additive', 'yearly_seasonality': True, 'weekly_seasonality': True, 'daily_seasonality': True}. Best is trial 17 with value: 2026.019106784603.\n"
     ]
    },
    {
     "name": "stderr",
     "output_type": "stream",
     "text": [
      "09:34:47 - cmdstanpy - INFO - Chain [1] start processing\n",
      "09:37:07 - cmdstanpy - INFO - Chain [1] done processing\n"
     ]
    },
    {
     "name": "stdout",
     "output_type": "stream",
     "text": [
      "MAE: 1494.32\n",
      "MAPE: 18.90%\n",
      "RMSE: 2028.10\n",
      "R2: 0.75\n",
      "[I 2024-11-25 09:37:07,656] Trial 31 finished with value: 2028.0956121746553 and parameters: {'changepoint_prior_scale': 0.09485033276213437, 'seasonality_prior_scale': 1.8975562992177162, 'holidays_prior_scale': 7.0806066807123695, 'seasonality_mode': 'additive', 'yearly_seasonality': True, 'weekly_seasonality': True, 'daily_seasonality': True}. Best is trial 17 with value: 2026.019106784603.\n"
     ]
    },
    {
     "name": "stderr",
     "output_type": "stream",
     "text": [
      "09:37:14 - cmdstanpy - INFO - Chain [1] start processing\n",
      "09:40:01 - cmdstanpy - INFO - Chain [1] done processing\n"
     ]
    },
    {
     "name": "stdout",
     "output_type": "stream",
     "text": [
      "MAE: 1494.16\n",
      "MAPE: 18.89%\n",
      "RMSE: 2028.01\n",
      "R2: 0.75\n",
      "[I 2024-11-25 09:40:01,988] Trial 32 finished with value: 2028.010840708162 and parameters: {'changepoint_prior_scale': 0.08351572336237678, 'seasonality_prior_scale': 1.5624115378974897, 'holidays_prior_scale': 7.8538507285455275, 'seasonality_mode': 'additive', 'yearly_seasonality': True, 'weekly_seasonality': True, 'daily_seasonality': True}. Best is trial 17 with value: 2026.019106784603.\n"
     ]
    },
    {
     "name": "stderr",
     "output_type": "stream",
     "text": [
      "09:40:08 - cmdstanpy - INFO - Chain [1] start processing\n",
      "09:42:41 - cmdstanpy - INFO - Chain [1] done processing\n"
     ]
    },
    {
     "name": "stdout",
     "output_type": "stream",
     "text": [
      "MAE: 1493.30\n",
      "MAPE: 18.87%\n",
      "RMSE: 2027.52\n",
      "R2: 0.75\n",
      "[I 2024-11-25 09:42:42,012] Trial 33 finished with value: 2027.5242181547926 and parameters: {'changepoint_prior_scale': 0.09354957171617878, 'seasonality_prior_scale': 2.606482769096794, 'holidays_prior_scale': 7.238476147880474, 'seasonality_mode': 'additive', 'yearly_seasonality': True, 'weekly_seasonality': True, 'daily_seasonality': True}. Best is trial 17 with value: 2026.019106784603.\n"
     ]
    },
    {
     "name": "stderr",
     "output_type": "stream",
     "text": [
      "09:42:46 - cmdstanpy - INFO - Chain [1] start processing\n",
      "09:44:47 - cmdstanpy - INFO - Chain [1] done processing\n"
     ]
    },
    {
     "name": "stdout",
     "output_type": "stream",
     "text": [
      "MAE: 1753.46\n",
      "MAPE: 23.97%\n",
      "RMSE: 2218.82\n",
      "R2: 0.70\n",
      "[I 2024-11-25 09:44:48,245] Trial 34 finished with value: 2218.820716291587 and parameters: {'changepoint_prior_scale': 0.09960726547670762, 'seasonality_prior_scale': 3.5455759651742587, 'holidays_prior_scale': 6.456672062795787, 'seasonality_mode': 'additive', 'yearly_seasonality': False, 'weekly_seasonality': True, 'daily_seasonality': True}. Best is trial 17 with value: 2026.019106784603.\n"
     ]
    },
    {
     "name": "stderr",
     "output_type": "stream",
     "text": [
      "09:44:53 - cmdstanpy - INFO - Chain [1] start processing\n",
      "09:47:05 - cmdstanpy - INFO - Chain [1] done processing\n"
     ]
    },
    {
     "name": "stdout",
     "output_type": "stream",
     "text": [
      "MAE: 3052.87\n",
      "MAPE: 52.97%\n",
      "RMSE: 3828.87\n",
      "R2: 0.11\n",
      "[I 2024-11-25 09:47:05,997] Trial 35 finished with value: 3828.8708696205676 and parameters: {'changepoint_prior_scale': 0.0892420123439293, 'seasonality_prior_scale': 2.4689923200442894, 'holidays_prior_scale': 8.590929833658599, 'seasonality_mode': 'additive', 'yearly_seasonality': True, 'weekly_seasonality': True, 'daily_seasonality': False}. Best is trial 17 with value: 2026.019106784603.\n"
     ]
    },
    {
     "name": "stderr",
     "output_type": "stream",
     "text": [
      "09:47:11 - cmdstanpy - INFO - Chain [1] start processing\n",
      "09:49:20 - cmdstanpy - INFO - Chain [1] done processing\n"
     ]
    },
    {
     "name": "stdout",
     "output_type": "stream",
     "text": [
      "MAE: 1494.25\n",
      "MAPE: 18.90%\n",
      "RMSE: 2027.96\n",
      "R2: 0.75\n",
      "[I 2024-11-25 09:49:21,085] Trial 36 finished with value: 2027.9639336441212 and parameters: {'changepoint_prior_scale': 0.059520908772409765, 'seasonality_prior_scale': 1.1328940810578132, 'holidays_prior_scale': 5.371306615762384, 'seasonality_mode': 'additive', 'yearly_seasonality': True, 'weekly_seasonality': True, 'daily_seasonality': True}. Best is trial 17 with value: 2026.019106784603.\n"
     ]
    },
    {
     "name": "stderr",
     "output_type": "stream",
     "text": [
      "09:49:24 - cmdstanpy - INFO - Chain [1] start processing\n",
      "09:50:46 - cmdstanpy - INFO - Chain [1] done processing\n"
     ]
    },
    {
     "name": "stdout",
     "output_type": "stream",
     "text": [
      "MAE: 2985.50\n",
      "MAPE: 55.12%\n",
      "RMSE: 3913.86\n",
      "R2: 0.07\n",
      "[I 2024-11-25 09:50:46,624] Trial 37 finished with value: 3913.8569466898753 and parameters: {'changepoint_prior_scale': 0.07436597750349519, 'seasonality_prior_scale': 2.9198771232693614, 'holidays_prior_scale': 9.97332899615346, 'seasonality_mode': 'additive', 'yearly_seasonality': False, 'weekly_seasonality': True, 'daily_seasonality': False}. Best is trial 17 with value: 2026.019106784603.\n"
     ]
    },
    {
     "name": "stderr",
     "output_type": "stream",
     "text": [
      "09:50:51 - cmdstanpy - INFO - Chain [1] start processing\n",
      "09:53:45 - cmdstanpy - INFO - Chain [1] done processing\n"
     ]
    },
    {
     "name": "stdout",
     "output_type": "stream",
     "text": [
      "MAE: 1911.85\n",
      "MAPE: 24.47%\n",
      "RMSE: 2405.34\n",
      "R2: 0.65\n",
      "[I 2024-11-25 09:53:46,272] Trial 38 finished with value: 2405.3375475583953 and parameters: {'changepoint_prior_scale': 0.08492214384574369, 'seasonality_prior_scale': 4.133225191623399, 'holidays_prior_scale': 1.2575598963672832, 'seasonality_mode': 'additive', 'yearly_seasonality': True, 'weekly_seasonality': False, 'daily_seasonality': True}. Best is trial 17 with value: 2026.019106784603.\n"
     ]
    },
    {
     "name": "stderr",
     "output_type": "stream",
     "text": [
      "09:53:51 - cmdstanpy - INFO - Chain [1] start processing\n",
      "09:55:21 - cmdstanpy - INFO - Chain [1] done processing\n"
     ]
    },
    {
     "name": "stdout",
     "output_type": "stream",
     "text": [
      "MAE: 3045.33\n",
      "MAPE: 53.08%\n",
      "RMSE: 3831.87\n",
      "R2: 0.11\n",
      "[I 2024-11-25 09:55:22,338] Trial 39 finished with value: 3831.868932048831 and parameters: {'changepoint_prior_scale': 0.03301616769387408, 'seasonality_prior_scale': 1.6733897704365706, 'holidays_prior_scale': 8.012671377217577, 'seasonality_mode': 'additive', 'yearly_seasonality': True, 'weekly_seasonality': True, 'daily_seasonality': False}. Best is trial 17 with value: 2026.019106784603.\n"
     ]
    },
    {
     "name": "stderr",
     "output_type": "stream",
     "text": [
      "09:55:26 - cmdstanpy - INFO - Chain [1] start processing\n",
      "09:57:27 - cmdstanpy - INFO - Chain [1] done processing\n"
     ]
    },
    {
     "name": "stdout",
     "output_type": "stream",
     "text": [
      "MAE: 1742.16\n",
      "MAPE: 23.77%\n",
      "RMSE: 2209.59\n",
      "R2: 0.70\n",
      "[I 2024-11-25 09:57:27,915] Trial 40 finished with value: 2209.5943488807484 and parameters: {'changepoint_prior_scale': 0.054593646047341286, 'seasonality_prior_scale': 6.208960971452309, 'holidays_prior_scale': 8.879874562447785, 'seasonality_mode': 'additive', 'yearly_seasonality': False, 'weekly_seasonality': True, 'daily_seasonality': True}. Best is trial 17 with value: 2026.019106784603.\n"
     ]
    },
    {
     "name": "stderr",
     "output_type": "stream",
     "text": [
      "09:57:34 - cmdstanpy - INFO - Chain [1] start processing\n",
      "09:59:15 - cmdstanpy - INFO - Chain [1] done processing\n"
     ]
    },
    {
     "name": "stdout",
     "output_type": "stream",
     "text": [
      "MAE: 1490.91\n",
      "MAPE: 18.80%\n",
      "RMSE: 2026.20\n",
      "R2: 0.75\n",
      "[I 2024-11-25 09:59:16,029] Trial 41 finished with value: 2026.1980806327501 and parameters: {'changepoint_prior_scale': 0.09412025714082561, 'seasonality_prior_scale': 5.838625735773194, 'holidays_prior_scale': 7.456478494780661, 'seasonality_mode': 'additive', 'yearly_seasonality': True, 'weekly_seasonality': True, 'daily_seasonality': True}. Best is trial 17 with value: 2026.019106784603.\n"
     ]
    },
    {
     "name": "stderr",
     "output_type": "stream",
     "text": [
      "09:59:22 - cmdstanpy - INFO - Chain [1] start processing\n",
      "10:01:30 - cmdstanpy - INFO - Chain [1] done processing\n"
     ]
    },
    {
     "name": "stdout",
     "output_type": "stream",
     "text": [
      "MAE: 1491.72\n",
      "MAPE: 18.83%\n",
      "RMSE: 2026.57\n",
      "R2: 0.75\n",
      "[I 2024-11-25 10:01:31,335] Trial 42 finished with value: 2026.5721539449398 and parameters: {'changepoint_prior_scale': 0.09498236572615347, 'seasonality_prior_scale': 6.955929457316125, 'holidays_prior_scale': 7.362763332785773, 'seasonality_mode': 'additive', 'yearly_seasonality': True, 'weekly_seasonality': True, 'daily_seasonality': True}. Best is trial 17 with value: 2026.019106784603.\n"
     ]
    },
    {
     "name": "stderr",
     "output_type": "stream",
     "text": [
      "10:01:36 - cmdstanpy - INFO - Chain [1] start processing\n",
      "10:03:40 - cmdstanpy - INFO - Chain [1] done processing\n"
     ]
    },
    {
     "name": "stdout",
     "output_type": "stream",
     "text": [
      "MAE: 1489.10\n",
      "MAPE: 18.75%\n",
      "RMSE: 2025.21\n",
      "R2: 0.75\n",
      "[I 2024-11-25 10:03:41,150] Trial 43 finished with value: 2025.2075525733896 and parameters: {'changepoint_prior_scale': 0.09358378479851488, 'seasonality_prior_scale': 6.93884258286746, 'holidays_prior_scale': 7.289319228112444, 'seasonality_mode': 'additive', 'yearly_seasonality': True, 'weekly_seasonality': True, 'daily_seasonality': True}. Best is trial 43 with value: 2025.2075525733896.\n"
     ]
    },
    {
     "name": "stderr",
     "output_type": "stream",
     "text": [
      "10:03:47 - cmdstanpy - INFO - Chain [1] start processing\n",
      "10:06:30 - cmdstanpy - INFO - Chain [1] done processing\n"
     ]
    },
    {
     "name": "stdout",
     "output_type": "stream",
     "text": [
      "MAE: 1494.97\n",
      "MAPE: 18.92%\n",
      "RMSE: 2028.44\n",
      "R2: 0.75\n",
      "[I 2024-11-25 10:06:31,187] Trial 44 finished with value: 2028.441916242218 and parameters: {'changepoint_prior_scale': 0.08292918871494512, 'seasonality_prior_scale': 6.704368735077692, 'holidays_prior_scale': 6.7458526394951255, 'seasonality_mode': 'additive', 'yearly_seasonality': True, 'weekly_seasonality': True, 'daily_seasonality': True}. Best is trial 43 with value: 2025.2075525733896.\n"
     ]
    },
    {
     "name": "stderr",
     "output_type": "stream",
     "text": [
      "10:06:37 - cmdstanpy - INFO - Chain [1] start processing\n",
      "10:08:40 - cmdstanpy - INFO - Chain [1] done processing\n"
     ]
    },
    {
     "name": "stdout",
     "output_type": "stream",
     "text": [
      "MAE: 1551.06\n",
      "MAPE: 18.73%\n",
      "RMSE: 2045.50\n",
      "R2: 0.75\n",
      "[I 2024-11-25 10:08:40,646] Trial 45 finished with value: 2045.4985942225642 and parameters: {'changepoint_prior_scale': 0.08931131290461147, 'seasonality_prior_scale': 5.617753317704234, 'holidays_prior_scale': 7.2841277633842685, 'seasonality_mode': 'multiplicative', 'yearly_seasonality': True, 'weekly_seasonality': True, 'daily_seasonality': True}. Best is trial 43 with value: 2025.2075525733896.\n"
     ]
    },
    {
     "name": "stderr",
     "output_type": "stream",
     "text": [
      "10:08:46 - cmdstanpy - INFO - Chain [1] start processing\n",
      "10:10:58 - cmdstanpy - INFO - Chain [1] done processing\n"
     ]
    },
    {
     "name": "stdout",
     "output_type": "stream",
     "text": [
      "MAE: 1495.95\n",
      "MAPE: 18.95%\n",
      "RMSE: 2028.95\n",
      "R2: 0.75\n",
      "[I 2024-11-25 10:10:59,341] Trial 46 finished with value: 2028.9461936394453 and parameters: {'changepoint_prior_scale': 0.06542116396834939, 'seasonality_prior_scale': 7.191197046045707, 'holidays_prior_scale': 5.361535404205352, 'seasonality_mode': 'additive', 'yearly_seasonality': True, 'weekly_seasonality': True, 'daily_seasonality': True}. Best is trial 43 with value: 2025.2075525733896.\n"
     ]
    },
    {
     "name": "stderr",
     "output_type": "stream",
     "text": [
      "10:11:04 - cmdstanpy - INFO - Chain [1] start processing\n",
      "10:12:59 - cmdstanpy - INFO - Chain [1] done processing\n"
     ]
    },
    {
     "name": "stdout",
     "output_type": "stream",
     "text": [
      "MAE: 3103.72\n",
      "MAPE: 52.31%\n",
      "RMSE: 3815.61\n",
      "R2: 0.12\n",
      "[I 2024-11-25 10:13:00,179] Trial 47 finished with value: 3815.6132458777092 and parameters: {'changepoint_prior_scale': 0.08094361071344587, 'seasonality_prior_scale': 8.501279246738626, 'holidays_prior_scale': 6.144343909902278, 'seasonality_mode': 'multiplicative', 'yearly_seasonality': True, 'weekly_seasonality': True, 'daily_seasonality': False}. Best is trial 43 with value: 2025.2075525733896.\n"
     ]
    },
    {
     "name": "stderr",
     "output_type": "stream",
     "text": [
      "10:13:05 - cmdstanpy - INFO - Chain [1] start processing\n",
      "10:15:07 - cmdstanpy - INFO - Chain [1] done processing\n"
     ]
    },
    {
     "name": "stdout",
     "output_type": "stream",
     "text": [
      "MAE: 1908.98\n",
      "MAPE: 24.38%\n",
      "RMSE: 2404.39\n",
      "R2: 0.65\n",
      "[I 2024-11-25 10:15:08,503] Trial 48 finished with value: 2404.3852600616565 and parameters: {'changepoint_prior_scale': 0.09623581840113304, 'seasonality_prior_scale': 6.855757382945129, 'holidays_prior_scale': 4.324264578074656, 'seasonality_mode': 'additive', 'yearly_seasonality': True, 'weekly_seasonality': False, 'daily_seasonality': True}. Best is trial 43 with value: 2025.2075525733896.\n"
     ]
    },
    {
     "name": "stderr",
     "output_type": "stream",
     "text": [
      "10:15:14 - cmdstanpy - INFO - Chain [1] start processing\n",
      "10:18:00 - cmdstanpy - INFO - Chain [1] done processing\n"
     ]
    },
    {
     "name": "stdout",
     "output_type": "stream",
     "text": [
      "MAE: 1493.72\n",
      "MAPE: 18.88%\n",
      "RMSE: 2027.72\n",
      "R2: 0.75\n",
      "[I 2024-11-25 10:18:01,650] Trial 49 finished with value: 2027.7179233245038 and parameters: {'changepoint_prior_scale': 0.07496949435390013, 'seasonality_prior_scale': 7.782952607617892, 'holidays_prior_scale': 6.539645293493479, 'seasonality_mode': 'additive', 'yearly_seasonality': True, 'weekly_seasonality': True, 'daily_seasonality': True}. Best is trial 43 with value: 2025.2075525733896.\n"
     ]
    },
    {
     "name": "stderr",
     "output_type": "stream",
     "text": [
      "10:18:06 - cmdstanpy - INFO - Chain [1] start processing\n",
      "10:19:54 - cmdstanpy - INFO - Chain [1] done processing\n"
     ]
    },
    {
     "name": "stdout",
     "output_type": "stream",
     "text": [
      "MAE: 1491.80\n",
      "MAPE: 18.83%\n",
      "RMSE: 2026.19\n",
      "R2: 0.75\n"
     ]
    },
    {
     "name": "stderr",
     "output_type": "stream",
     "text": [
      "[I 2024-11-25 10:19:55,273] A new study created in memory with name: no-name-1100ee18-b07e-4861-af0b-0fbcf3db5254\n"
     ]
    },
    {
     "data": {
      "application/vnd.jupyter.widget-view+json": {
       "model_id": "05d0c99354ce46498137ec5db5a31d0b",
       "version_major": 2,
       "version_minor": 0
      },
      "text/plain": [
       "  0%|          | 0/50 [00:00<?, ?it/s]"
      ]
     },
     "metadata": {},
     "output_type": "display_data"
    },
    {
     "name": "stderr",
     "output_type": "stream",
     "text": [
      "10:19:59 - cmdstanpy - INFO - Chain [1] start processing\n",
      "10:21:45 - cmdstanpy - INFO - Chain [1] done processing\n"
     ]
    },
    {
     "name": "stdout",
     "output_type": "stream",
     "text": [
      "MAE: 2046.05\n",
      "MAPE: 25.74%\n",
      "RMSE: 2542.97\n",
      "R2: 0.61\n",
      "[I 2024-11-25 10:21:46,287] Trial 0 finished with value: 2542.9715258102956 and parameters: {'changepoint_prior_scale': 0.04736626443835852, 'seasonality_prior_scale': 5.606784007894005, 'holidays_prior_scale': 6.268506359913042, 'seasonality_mode': 'multiplicative', 'yearly_seasonality': False, 'weekly_seasonality': False, 'daily_seasonality': True}. Best is trial 0 with value: 2542.9715258102956.\n"
     ]
    },
    {
     "name": "stderr",
     "output_type": "stream",
     "text": [
      "10:21:52 - cmdstanpy - INFO - Chain [1] start processing\n",
      "10:22:50 - cmdstanpy - INFO - Chain [1] done processing\n"
     ]
    },
    {
     "name": "stdout",
     "output_type": "stream",
     "text": [
      "MAE: 3103.13\n",
      "MAPE: 52.31%\n",
      "RMSE: 3816.16\n",
      "R2: 0.12\n",
      "[I 2024-11-25 10:22:50,741] Trial 1 finished with value: 3816.1611798714753 and parameters: {'changepoint_prior_scale': 0.03101061878745173, 'seasonality_prior_scale': 9.384018516213642, 'holidays_prior_scale': 7.4682931280402425, 'seasonality_mode': 'multiplicative', 'yearly_seasonality': True, 'weekly_seasonality': True, 'daily_seasonality': False}. Best is trial 0 with value: 2542.9715258102956.\n"
     ]
    },
    {
     "name": "stderr",
     "output_type": "stream",
     "text": [
      "10:22:54 - cmdstanpy - INFO - Chain [1] start processing\n",
      "10:24:58 - cmdstanpy - INFO - Chain [1] done processing\n"
     ]
    },
    {
     "name": "stdout",
     "output_type": "stream",
     "text": [
      "MAE: 1721.59\n",
      "MAPE: 23.39%\n",
      "RMSE: 2193.01\n",
      "R2: 0.71\n",
      "[I 2024-11-25 10:24:59,621] Trial 2 finished with value: 2193.0066315305558 and parameters: {'changepoint_prior_scale': 0.024050077228586226, 'seasonality_prior_scale': 6.562195064902553, 'holidays_prior_scale': 7.527773974004633, 'seasonality_mode': 'additive', 'yearly_seasonality': False, 'weekly_seasonality': True, 'daily_seasonality': True}. Best is trial 2 with value: 2193.0066315305558.\n"
     ]
    },
    {
     "name": "stderr",
     "output_type": "stream",
     "text": [
      "10:25:04 - cmdstanpy - INFO - Chain [1] start processing\n",
      "10:25:48 - cmdstanpy - INFO - Chain [1] done processing\n"
     ]
    },
    {
     "name": "stdout",
     "output_type": "stream",
     "text": [
      "MAE: 3165.35\n",
      "MAPE: 56.38%\n",
      "RMSE: 4068.93\n",
      "R2: -0.01\n",
      "[I 2024-11-25 10:25:48,672] Trial 3 finished with value: 4068.933106804829 and parameters: {'changepoint_prior_scale': 0.014290625762462466, 'seasonality_prior_scale': 7.466172633160912, 'holidays_prior_scale': 8.540555844825912, 'seasonality_mode': 'additive', 'yearly_seasonality': True, 'weekly_seasonality': False, 'daily_seasonality': False}. Best is trial 2 with value: 2193.0066315305558.\n"
     ]
    },
    {
     "name": "stderr",
     "output_type": "stream",
     "text": [
      "10:25:54 - cmdstanpy - INFO - Chain [1] start processing\n",
      "10:26:48 - cmdstanpy - INFO - Chain [1] done processing\n"
     ]
    },
    {
     "name": "stdout",
     "output_type": "stream",
     "text": [
      "MAE: 1975.81\n",
      "MAPE: 26.24%\n",
      "RMSE: 2438.75\n",
      "R2: 0.64\n",
      "[I 2024-11-25 10:26:48,609] Trial 4 finished with value: 2438.7497958043655 and parameters: {'changepoint_prior_scale': 0.0067617633401943125, 'seasonality_prior_scale': 8.683752716064433, 'holidays_prior_scale': 5.960642666309625, 'seasonality_mode': 'additive', 'yearly_seasonality': True, 'weekly_seasonality': False, 'daily_seasonality': True}. Best is trial 2 with value: 2193.0066315305558.\n"
     ]
    },
    {
     "name": "stderr",
     "output_type": "stream",
     "text": [
      "10:26:52 - cmdstanpy - INFO - Chain [1] start processing\n",
      "10:29:05 - cmdstanpy - INFO - Chain [1] done processing\n"
     ]
    },
    {
     "name": "stdout",
     "output_type": "stream",
     "text": [
      "MAE: 1757.95\n",
      "MAPE: 21.23%\n",
      "RMSE: 2230.36\n",
      "R2: 0.70\n",
      "[I 2024-11-25 10:29:06,338] Trial 5 finished with value: 2230.358950477362 and parameters: {'changepoint_prior_scale': 0.08857163965676326, 'seasonality_prior_scale': 9.820771158704607, 'holidays_prior_scale': 3.8253587213765012, 'seasonality_mode': 'multiplicative', 'yearly_seasonality': False, 'weekly_seasonality': True, 'daily_seasonality': True}. Best is trial 2 with value: 2193.0066315305558.\n"
     ]
    },
    {
     "name": "stderr",
     "output_type": "stream",
     "text": [
      "10:29:12 - cmdstanpy - INFO - Chain [1] start processing\n",
      "10:30:38 - cmdstanpy - INFO - Chain [1] done processing\n"
     ]
    },
    {
     "name": "stdout",
     "output_type": "stream",
     "text": [
      "MAE: 1521.30\n",
      "MAPE: 19.59%\n",
      "RMSE: 2044.75\n",
      "R2: 0.75\n",
      "[I 2024-11-25 10:30:39,070] Trial 6 finished with value: 2044.7455900926986 and parameters: {'changepoint_prior_scale': 0.012545175224343584, 'seasonality_prior_scale': 1.0422549763984073, 'holidays_prior_scale': 4.62207386548932, 'seasonality_mode': 'additive', 'yearly_seasonality': True, 'weekly_seasonality': True, 'daily_seasonality': True}. Best is trial 6 with value: 2044.7455900926986.\n"
     ]
    },
    {
     "name": "stderr",
     "output_type": "stream",
     "text": [
      "10:30:44 - cmdstanpy - INFO - Chain [1] start processing\n",
      "10:32:57 - cmdstanpy - INFO - Chain [1] done processing\n"
     ]
    },
    {
     "name": "stdout",
     "output_type": "stream",
     "text": [
      "MAE: 3058.36\n",
      "MAPE: 52.90%\n",
      "RMSE: 3827.41\n",
      "R2: 0.11\n",
      "[I 2024-11-25 10:32:57,726] Trial 7 finished with value: 3827.411735440069 and parameters: {'changepoint_prior_scale': 0.0949100986273954, 'seasonality_prior_scale': 7.87615818833925, 'holidays_prior_scale': 1.0222989788997108, 'seasonality_mode': 'additive', 'yearly_seasonality': True, 'weekly_seasonality': True, 'daily_seasonality': False}. Best is trial 6 with value: 2044.7455900926986.\n"
     ]
    },
    {
     "name": "stderr",
     "output_type": "stream",
     "text": [
      "10:33:01 - cmdstanpy - INFO - Chain [1] start processing\n",
      "10:34:37 - cmdstanpy - INFO - Chain [1] done processing\n"
     ]
    },
    {
     "name": "stdout",
     "output_type": "stream",
     "text": [
      "MAE: 1740.97\n",
      "MAPE: 23.74%\n",
      "RMSE: 2208.58\n",
      "R2: 0.70\n",
      "[I 2024-11-25 10:34:38,326] Trial 8 finished with value: 2208.57738669924 and parameters: {'changepoint_prior_scale': 0.06790452145714225, 'seasonality_prior_scale': 8.277189680939593, 'holidays_prior_scale': 5.657217507914909, 'seasonality_mode': 'additive', 'yearly_seasonality': False, 'weekly_seasonality': True, 'daily_seasonality': True}. Best is trial 6 with value: 2044.7455900926986.\n"
     ]
    },
    {
     "name": "stderr",
     "output_type": "stream",
     "text": [
      "10:34:43 - cmdstanpy - INFO - Chain [1] start processing\n",
      "10:36:15 - cmdstanpy - INFO - Chain [1] done processing\n"
     ]
    },
    {
     "name": "stdout",
     "output_type": "stream",
     "text": [
      "MAE: 3101.51\n",
      "MAPE: 52.34%\n",
      "RMSE: 3816.35\n",
      "R2: 0.12\n",
      "[I 2024-11-25 10:36:15,599] Trial 9 finished with value: 3816.3501887911393 and parameters: {'changepoint_prior_scale': 0.07373292768493288, 'seasonality_prior_scale': 7.906905833751265, 'holidays_prior_scale': 6.99906151597947, 'seasonality_mode': 'multiplicative', 'yearly_seasonality': True, 'weekly_seasonality': True, 'daily_seasonality': False}. Best is trial 6 with value: 2044.7455900926986.\n"
     ]
    },
    {
     "name": "stderr",
     "output_type": "stream",
     "text": [
      "10:36:21 - cmdstanpy - INFO - Chain [1] start processing\n",
      "10:37:59 - cmdstanpy - INFO - Chain [1] done processing\n"
     ]
    },
    {
     "name": "stdout",
     "output_type": "stream",
     "text": [
      "MAE: 1921.14\n",
      "MAPE: 24.77%\n",
      "RMSE: 2408.56\n",
      "R2: 0.65\n",
      "[I 2024-11-25 10:38:00,045] Trial 10 finished with value: 2408.559008949057 and parameters: {'changepoint_prior_scale': 0.043201447561964486, 'seasonality_prior_scale': 1.1490577040630985, 'holidays_prior_scale': 3.5845580660878382, 'seasonality_mode': 'additive', 'yearly_seasonality': True, 'weekly_seasonality': False, 'daily_seasonality': True}. Best is trial 6 with value: 2044.7455900926986.\n"
     ]
    },
    {
     "name": "stderr",
     "output_type": "stream",
     "text": [
      "10:38:04 - cmdstanpy - INFO - Chain [1] start processing\n",
      "10:39:39 - cmdstanpy - INFO - Chain [1] done processing\n"
     ]
    },
    {
     "name": "stdout",
     "output_type": "stream",
     "text": [
      "MAE: 1715.35\n",
      "MAPE: 23.28%\n",
      "RMSE: 2188.07\n",
      "R2: 0.71\n",
      "[I 2024-11-25 10:39:39,800] Trial 11 finished with value: 2188.0716004292594 and parameters: {'changepoint_prior_scale': 0.022070729248441712, 'seasonality_prior_scale': 1.1593010464820857, 'holidays_prior_scale': 9.833969758010017, 'seasonality_mode': 'additive', 'yearly_seasonality': False, 'weekly_seasonality': True, 'daily_seasonality': True}. Best is trial 6 with value: 2044.7455900926986.\n"
     ]
    },
    {
     "name": "stderr",
     "output_type": "stream",
     "text": [
      "10:39:44 - cmdstanpy - INFO - Chain [1] start processing\n",
      "10:40:29 - cmdstanpy - INFO - Chain [1] done processing\n"
     ]
    },
    {
     "name": "stdout",
     "output_type": "stream",
     "text": [
      "MAE: 1758.38\n",
      "MAPE: 24.05%\n",
      "RMSE: 2222.80\n",
      "R2: 0.70\n",
      "[I 2024-11-25 10:40:30,297] Trial 12 finished with value: 2222.8046956884896 and parameters: {'changepoint_prior_scale': 0.0027413063266375232, 'seasonality_prior_scale': 1.0869045268538953, 'holidays_prior_scale': 9.894245319386226, 'seasonality_mode': 'additive', 'yearly_seasonality': False, 'weekly_seasonality': True, 'daily_seasonality': True}. Best is trial 6 with value: 2044.7455900926986.\n"
     ]
    },
    {
     "name": "stderr",
     "output_type": "stream",
     "text": [
      "10:40:34 - cmdstanpy - INFO - Chain [1] start processing\n",
      "10:42:09 - cmdstanpy - INFO - Chain [1] done processing\n"
     ]
    },
    {
     "name": "stdout",
     "output_type": "stream",
     "text": [
      "MAE: 1724.55\n",
      "MAPE: 23.45%\n",
      "RMSE: 2195.37\n",
      "R2: 0.71\n",
      "[I 2024-11-25 10:42:09,540] Trial 13 finished with value: 2195.3707718922215 and parameters: {'changepoint_prior_scale': 0.02649455718368398, 'seasonality_prior_scale': 2.9390329615397097, 'holidays_prior_scale': 3.9415217290522335, 'seasonality_mode': 'additive', 'yearly_seasonality': False, 'weekly_seasonality': True, 'daily_seasonality': True}. Best is trial 6 with value: 2044.7455900926986.\n"
     ]
    },
    {
     "name": "stderr",
     "output_type": "stream",
     "text": [
      "10:42:13 - cmdstanpy - INFO - Chain [1] start processing\n",
      "10:43:32 - cmdstanpy - INFO - Chain [1] done processing\n"
     ]
    },
    {
     "name": "stdout",
     "output_type": "stream",
     "text": [
      "MAE: 1709.65\n",
      "MAPE: 23.18%\n",
      "RMSE: 2183.61\n",
      "R2: 0.71\n",
      "[I 2024-11-25 10:43:32,588] Trial 14 finished with value: 2183.6148692394677 and parameters: {'changepoint_prior_scale': 0.02038925383723609, 'seasonality_prior_scale': 3.162772871203427, 'holidays_prior_scale': 9.80558538899626, 'seasonality_mode': 'additive', 'yearly_seasonality': False, 'weekly_seasonality': True, 'daily_seasonality': True}. Best is trial 6 with value: 2044.7455900926986.\n"
     ]
    },
    {
     "name": "stderr",
     "output_type": "stream",
     "text": [
      "10:43:38 - cmdstanpy - INFO - Chain [1] start processing\n",
      "10:46:03 - cmdstanpy - INFO - Chain [1] done processing\n"
     ]
    },
    {
     "name": "stdout",
     "output_type": "stream",
     "text": [
      "MAE: 1504.64\n",
      "MAPE: 19.19%\n",
      "RMSE: 2034.11\n",
      "R2: 0.75\n",
      "[I 2024-11-25 10:46:03,870] Trial 15 finished with value: 2034.1141057467503 and parameters: {'changepoint_prior_scale': 0.035142676474513315, 'seasonality_prior_scale': 3.275906059923516, 'holidays_prior_scale': 2.4279276408500405, 'seasonality_mode': 'additive', 'yearly_seasonality': True, 'weekly_seasonality': True, 'daily_seasonality': True}. Best is trial 15 with value: 2034.1141057467503.\n"
     ]
    },
    {
     "name": "stderr",
     "output_type": "stream",
     "text": [
      "10:46:09 - cmdstanpy - INFO - Chain [1] start processing\n",
      "10:48:43 - cmdstanpy - INFO - Chain [1] done processing\n"
     ]
    },
    {
     "name": "stdout",
     "output_type": "stream",
     "text": [
      "MAE: 1503.48\n",
      "MAPE: 19.16%\n",
      "RMSE: 2033.39\n",
      "R2: 0.75\n",
      "[I 2024-11-25 10:48:44,377] Trial 16 finished with value: 2033.3936596743306 and parameters: {'changepoint_prior_scale': 0.035288053100041725, 'seasonality_prior_scale': 3.122282025567468, 'holidays_prior_scale': 2.089074347753047, 'seasonality_mode': 'additive', 'yearly_seasonality': True, 'weekly_seasonality': True, 'daily_seasonality': True}. Best is trial 16 with value: 2033.3936596743306.\n"
     ]
    },
    {
     "name": "stderr",
     "output_type": "stream",
     "text": [
      "10:48:50 - cmdstanpy - INFO - Chain [1] start processing\n",
      "10:51:56 - cmdstanpy - INFO - Chain [1] done processing\n"
     ]
    },
    {
     "name": "stdout",
     "output_type": "stream",
     "text": [
      "MAE: 1504.11\n",
      "MAPE: 19.17%\n",
      "RMSE: 2033.77\n",
      "R2: 0.75\n",
      "[I 2024-11-25 10:51:56,519] Trial 17 finished with value: 2033.773325573441 and parameters: {'changepoint_prior_scale': 0.037332921478280656, 'seasonality_prior_scale': 3.6714599958522953, 'holidays_prior_scale': 1.6495946286682246, 'seasonality_mode': 'additive', 'yearly_seasonality': True, 'weekly_seasonality': True, 'daily_seasonality': True}. Best is trial 16 with value: 2033.3936596743306.\n"
     ]
    },
    {
     "name": "stderr",
     "output_type": "stream",
     "text": [
      "10:52:00 - cmdstanpy - INFO - Chain [1] start processing\n",
      "10:53:50 - cmdstanpy - INFO - Chain [1] done processing\n"
     ]
    },
    {
     "name": "stdout",
     "output_type": "stream",
     "text": [
      "MAE: 3210.21\n",
      "MAPE: 54.90%\n",
      "RMSE: 4047.06\n",
      "R2: 0.01\n",
      "[I 2024-11-25 10:53:51,625] Trial 18 finished with value: 4047.0628202994494 and parameters: {'changepoint_prior_scale': 0.059190349446175045, 'seasonality_prior_scale': 4.647495473501196, 'holidays_prior_scale': 1.16489502161655, 'seasonality_mode': 'multiplicative', 'yearly_seasonality': True, 'weekly_seasonality': False, 'daily_seasonality': False}. Best is trial 16 with value: 2033.3936596743306.\n"
     ]
    },
    {
     "name": "stderr",
     "output_type": "stream",
     "text": [
      "10:53:58 - cmdstanpy - INFO - Chain [1] start processing\n",
      "10:56:18 - cmdstanpy - INFO - Chain [1] done processing\n"
     ]
    },
    {
     "name": "stdout",
     "output_type": "stream",
     "text": [
      "MAE: 1501.94\n",
      "MAPE: 19.11%\n",
      "RMSE: 2032.45\n",
      "R2: 0.75\n",
      "[I 2024-11-25 10:56:18,806] Trial 19 finished with value: 2032.4480461074004 and parameters: {'changepoint_prior_scale': 0.042585715893468816, 'seasonality_prior_scale': 4.295604308131255, 'holidays_prior_scale': 2.317640270466112, 'seasonality_mode': 'additive', 'yearly_seasonality': True, 'weekly_seasonality': True, 'daily_seasonality': True}. Best is trial 19 with value: 2032.4480461074004.\n"
     ]
    },
    {
     "name": "stderr",
     "output_type": "stream",
     "text": [
      "10:56:24 - cmdstanpy - INFO - Chain [1] start processing\n",
      "10:58:21 - cmdstanpy - INFO - Chain [1] done processing\n"
     ]
    },
    {
     "name": "stdout",
     "output_type": "stream",
     "text": [
      "MAE: 1497.97\n",
      "MAPE: 19.01%\n",
      "RMSE: 2030.03\n",
      "R2: 0.75\n",
      "[I 2024-11-25 10:58:22,264] Trial 20 finished with value: 2030.0253319779706 and parameters: {'changepoint_prior_scale': 0.05446922520707834, 'seasonality_prior_scale': 4.612060719913792, 'holidays_prior_scale': 2.36417029833892, 'seasonality_mode': 'additive', 'yearly_seasonality': True, 'weekly_seasonality': True, 'daily_seasonality': True}. Best is trial 20 with value: 2030.0253319779706.\n"
     ]
    },
    {
     "name": "stderr",
     "output_type": "stream",
     "text": [
      "10:58:28 - cmdstanpy - INFO - Chain [1] start processing\n",
      "11:00:45 - cmdstanpy - INFO - Chain [1] done processing\n"
     ]
    },
    {
     "name": "stdout",
     "output_type": "stream",
     "text": [
      "MAE: 1500.30\n",
      "MAPE: 19.06%\n",
      "RMSE: 2031.52\n",
      "R2: 0.75\n",
      "[I 2024-11-25 11:00:46,266] Trial 21 finished with value: 2031.5232264801434 and parameters: {'changepoint_prior_scale': 0.056628655303001374, 'seasonality_prior_scale': 4.52809307714406, 'holidays_prior_scale': 2.812709030227007, 'seasonality_mode': 'additive', 'yearly_seasonality': True, 'weekly_seasonality': True, 'daily_seasonality': True}. Best is trial 20 with value: 2030.0253319779706.\n"
     ]
    },
    {
     "name": "stderr",
     "output_type": "stream",
     "text": [
      "11:00:52 - cmdstanpy - INFO - Chain [1] start processing\n",
      "11:03:03 - cmdstanpy - INFO - Chain [1] done processing\n"
     ]
    },
    {
     "name": "stdout",
     "output_type": "stream",
     "text": [
      "MAE: 1496.51\n",
      "MAPE: 18.96%\n",
      "RMSE: 2029.27\n",
      "R2: 0.75\n",
      "[I 2024-11-25 11:03:03,999] Trial 22 finished with value: 2029.2692579489037 and parameters: {'changepoint_prior_scale': 0.05411429714530369, 'seasonality_prior_scale': 4.6620904616401955, 'holidays_prior_scale': 2.7245185655445656, 'seasonality_mode': 'additive', 'yearly_seasonality': True, 'weekly_seasonality': True, 'daily_seasonality': True}. Best is trial 22 with value: 2029.2692579489037.\n"
     ]
    },
    {
     "name": "stderr",
     "output_type": "stream",
     "text": [
      "11:03:10 - cmdstanpy - INFO - Chain [1] start processing\n",
      "11:05:39 - cmdstanpy - INFO - Chain [1] done processing\n"
     ]
    },
    {
     "name": "stdout",
     "output_type": "stream",
     "text": [
      "MAE: 1498.42\n",
      "MAPE: 19.01%\n",
      "RMSE: 2030.35\n",
      "R2: 0.75\n",
      "[I 2024-11-25 11:05:39,978] Trial 23 finished with value: 2030.3518458003923 and parameters: {'changepoint_prior_scale': 0.05942956930560375, 'seasonality_prior_scale': 5.552768284292399, 'holidays_prior_scale': 3.001743954275619, 'seasonality_mode': 'additive', 'yearly_seasonality': True, 'weekly_seasonality': True, 'daily_seasonality': True}. Best is trial 22 with value: 2029.2692579489037.\n"
     ]
    },
    {
     "name": "stderr",
     "output_type": "stream",
     "text": [
      "11:05:45 - cmdstanpy - INFO - Chain [1] start processing\n",
      "11:07:51 - cmdstanpy - INFO - Chain [1] done processing\n"
     ]
    },
    {
     "name": "stdout",
     "output_type": "stream",
     "text": [
      "MAE: 1495.30\n",
      "MAPE: 18.93%\n",
      "RMSE: 2028.56\n",
      "R2: 0.75\n",
      "[I 2024-11-25 11:07:51,956] Trial 24 finished with value: 2028.5621027411548 and parameters: {'changepoint_prior_scale': 0.07503215491982464, 'seasonality_prior_scale': 5.650380405125268, 'holidays_prior_scale': 4.831173727637001, 'seasonality_mode': 'additive', 'yearly_seasonality': True, 'weekly_seasonality': True, 'daily_seasonality': True}. Best is trial 24 with value: 2028.5621027411548.\n"
     ]
    },
    {
     "name": "stderr",
     "output_type": "stream",
     "text": [
      "11:07:58 - cmdstanpy - INFO - Chain [1] start processing\n",
      "11:10:33 - cmdstanpy - INFO - Chain [1] done processing\n"
     ]
    },
    {
     "name": "stdout",
     "output_type": "stream",
     "text": [
      "MAE: 1495.09\n",
      "MAPE: 18.92%\n",
      "RMSE: 2028.43\n",
      "R2: 0.75\n",
      "[I 2024-11-25 11:10:34,226] Trial 25 finished with value: 2028.4322431283786 and parameters: {'changepoint_prior_scale': 0.07516196295642341, 'seasonality_prior_scale': 6.900985415694298, 'holidays_prior_scale': 4.871922732717282, 'seasonality_mode': 'additive', 'yearly_seasonality': True, 'weekly_seasonality': True, 'daily_seasonality': True}. Best is trial 25 with value: 2028.4322431283786.\n"
     ]
    },
    {
     "name": "stderr",
     "output_type": "stream",
     "text": [
      "11:10:40 - cmdstanpy - INFO - Chain [1] start processing\n",
      "11:12:19 - cmdstanpy - INFO - Chain [1] done processing\n"
     ]
    },
    {
     "name": "stdout",
     "output_type": "stream",
     "text": [
      "MAE: 1494.33\n",
      "MAPE: 18.90%\n",
      "RMSE: 2027.98\n",
      "R2: 0.75\n",
      "[I 2024-11-25 11:12:20,553] Trial 26 finished with value: 2027.9830299384641 and parameters: {'changepoint_prior_scale': 0.0799410006483059, 'seasonality_prior_scale': 6.573987221628846, 'holidays_prior_scale': 4.787914043390275, 'seasonality_mode': 'additive', 'yearly_seasonality': True, 'weekly_seasonality': True, 'daily_seasonality': True}. Best is trial 26 with value: 2027.9830299384641.\n"
     ]
    },
    {
     "name": "stderr",
     "output_type": "stream",
     "text": [
      "11:12:24 - cmdstanpy - INFO - Chain [1] start processing\n",
      "11:13:29 - cmdstanpy - INFO - Chain [1] done processing\n"
     ]
    },
    {
     "name": "stdout",
     "output_type": "stream",
     "text": [
      "MAE: 3203.58\n",
      "MAPE: 55.05%\n",
      "RMSE: 4047.80\n",
      "R2: 0.01\n",
      "[I 2024-11-25 11:13:30,098] Trial 27 finished with value: 4047.802239020944 and parameters: {'changepoint_prior_scale': 0.07570352364679225, 'seasonality_prior_scale': 6.61156321506004, 'holidays_prior_scale': 4.814634827579424, 'seasonality_mode': 'multiplicative', 'yearly_seasonality': True, 'weekly_seasonality': False, 'daily_seasonality': False}. Best is trial 26 with value: 2027.9830299384641.\n"
     ]
    },
    {
     "name": "stderr",
     "output_type": "stream",
     "text": [
      "11:13:36 - cmdstanpy - INFO - Chain [1] start processing\n",
      "11:15:58 - cmdstanpy - INFO - Chain [1] done processing\n"
     ]
    },
    {
     "name": "stdout",
     "output_type": "stream",
     "text": [
      "MAE: 1492.88\n",
      "MAPE: 18.86%\n",
      "RMSE: 2027.22\n",
      "R2: 0.75\n",
      "[I 2024-11-25 11:15:59,101] Trial 28 finished with value: 2027.220682510002 and parameters: {'changepoint_prior_scale': 0.08270786232570237, 'seasonality_prior_scale': 6.370251234932427, 'holidays_prior_scale': 4.918478333257414, 'seasonality_mode': 'additive', 'yearly_seasonality': True, 'weekly_seasonality': True, 'daily_seasonality': True}. Best is trial 28 with value: 2027.220682510002.\n"
     ]
    },
    {
     "name": "stderr",
     "output_type": "stream",
     "text": [
      "11:16:04 - cmdstanpy - INFO - Chain [1] start processing\n",
      "11:17:47 - cmdstanpy - INFO - Chain [1] done processing\n"
     ]
    },
    {
     "name": "stdout",
     "output_type": "stream",
     "text": [
      "MAE: 1883.16\n",
      "MAPE: 22.19%\n",
      "RMSE: 2411.78\n",
      "R2: 0.65\n",
      "[I 2024-11-25 11:17:47,989] Trial 29 finished with value: 2411.778645546501 and parameters: {'changepoint_prior_scale': 0.08564044293731184, 'seasonality_prior_scale': 6.468115954979078, 'holidays_prior_scale': 6.3063589966570985, 'seasonality_mode': 'multiplicative', 'yearly_seasonality': True, 'weekly_seasonality': False, 'daily_seasonality': True}. Best is trial 28 with value: 2027.220682510002.\n"
     ]
    },
    {
     "name": "stderr",
     "output_type": "stream",
     "text": [
      "11:17:54 - cmdstanpy - INFO - Chain [1] start processing\n",
      "11:20:10 - cmdstanpy - INFO - Chain [1] done processing\n"
     ]
    },
    {
     "name": "stdout",
     "output_type": "stream",
     "text": [
      "MAE: 1493.35\n",
      "MAPE: 18.87%\n",
      "RMSE: 2027.41\n",
      "R2: 0.75\n",
      "[I 2024-11-25 11:20:11,482] Trial 30 finished with value: 2027.4053125310772 and parameters: {'changepoint_prior_scale': 0.08437563193235362, 'seasonality_prior_scale': 7.144739180719679, 'holidays_prior_scale': 6.510374984501067, 'seasonality_mode': 'additive', 'yearly_seasonality': True, 'weekly_seasonality': True, 'daily_seasonality': True}. Best is trial 28 with value: 2027.220682510002.\n"
     ]
    },
    {
     "name": "stderr",
     "output_type": "stream",
     "text": [
      "11:20:17 - cmdstanpy - INFO - Chain [1] start processing\n",
      "11:22:06 - cmdstanpy - INFO - Chain [1] done processing\n"
     ]
    },
    {
     "name": "stdout",
     "output_type": "stream",
     "text": [
      "MAE: 1494.36\n",
      "MAPE: 18.89%\n",
      "RMSE: 2028.16\n",
      "R2: 0.75\n",
      "[I 2024-11-25 11:22:07,348] Trial 31 finished with value: 2028.1619216144536 and parameters: {'changepoint_prior_scale': 0.08424696461385998, 'seasonality_prior_scale': 7.103884869256804, 'holidays_prior_scale': 5.2042856147369, 'seasonality_mode': 'additive', 'yearly_seasonality': True, 'weekly_seasonality': True, 'daily_seasonality': True}. Best is trial 28 with value: 2027.220682510002.\n"
     ]
    },
    {
     "name": "stderr",
     "output_type": "stream",
     "text": [
      "11:22:13 - cmdstanpy - INFO - Chain [1] start processing\n",
      "11:24:06 - cmdstanpy - INFO - Chain [1] done processing\n"
     ]
    },
    {
     "name": "stdout",
     "output_type": "stream",
     "text": [
      "MAE: 1493.43\n",
      "MAPE: 18.87%\n",
      "RMSE: 2027.60\n",
      "R2: 0.75\n",
      "[I 2024-11-25 11:24:07,336] Trial 32 finished with value: 2027.6004942027475 and parameters: {'changepoint_prior_scale': 0.08498395632103609, 'seasonality_prior_scale': 7.178291539567183, 'holidays_prior_scale': 6.817265511389357, 'seasonality_mode': 'additive', 'yearly_seasonality': True, 'weekly_seasonality': True, 'daily_seasonality': True}. Best is trial 28 with value: 2027.220682510002.\n"
     ]
    },
    {
     "name": "stderr",
     "output_type": "stream",
     "text": [
      "11:24:13 - cmdstanpy - INFO - Chain [1] start processing\n",
      "11:26:43 - cmdstanpy - INFO - Chain [1] done processing\n"
     ]
    },
    {
     "name": "stdout",
     "output_type": "stream",
     "text": [
      "MAE: 1492.00\n",
      "MAPE: 18.83%\n",
      "RMSE: 2026.70\n",
      "R2: 0.75\n",
      "[I 2024-11-25 11:26:44,112] Trial 33 finished with value: 2026.7047231509553 and parameters: {'changepoint_prior_scale': 0.0999641197471427, 'seasonality_prior_scale': 5.9758775624516245, 'holidays_prior_scale': 6.475943481271113, 'seasonality_mode': 'additive', 'yearly_seasonality': True, 'weekly_seasonality': True, 'daily_seasonality': True}. Best is trial 33 with value: 2026.7047231509553.\n"
     ]
    },
    {
     "name": "stderr",
     "output_type": "stream",
     "text": [
      "11:26:49 - cmdstanpy - INFO - Chain [1] start processing\n",
      "11:28:46 - cmdstanpy - INFO - Chain [1] done processing\n"
     ]
    },
    {
     "name": "stdout",
     "output_type": "stream",
     "text": [
      "MAE: 3058.54\n",
      "MAPE: 52.90%\n",
      "RMSE: 3827.35\n",
      "R2: 0.11\n",
      "[I 2024-11-25 11:28:46,792] Trial 34 finished with value: 3827.3480573737384 and parameters: {'changepoint_prior_scale': 0.097489984763772, 'seasonality_prior_scale': 6.071073696317948, 'holidays_prior_scale': 6.79913394913286, 'seasonality_mode': 'additive', 'yearly_seasonality': True, 'weekly_seasonality': True, 'daily_seasonality': False}. Best is trial 33 with value: 2026.7047231509553.\n"
     ]
    },
    {
     "name": "stderr",
     "output_type": "stream",
     "text": [
      "11:28:53 - cmdstanpy - INFO - Chain [1] start processing\n",
      "11:31:18 - cmdstanpy - INFO - Chain [1] done processing\n"
     ]
    },
    {
     "name": "stdout",
     "output_type": "stream",
     "text": [
      "MAE: 1491.88\n",
      "MAPE: 18.83%\n",
      "RMSE: 2026.69\n",
      "R2: 0.75\n",
      "[I 2024-11-25 11:31:18,894] Trial 35 finished with value: 2026.6932894513648 and parameters: {'changepoint_prior_scale': 0.09190472681690222, 'seasonality_prior_scale': 7.511951014013716, 'holidays_prior_scale': 8.161341641051795, 'seasonality_mode': 'additive', 'yearly_seasonality': True, 'weekly_seasonality': True, 'daily_seasonality': True}. Best is trial 35 with value: 2026.6932894513648.\n"
     ]
    },
    {
     "name": "stderr",
     "output_type": "stream",
     "text": [
      "11:31:24 - cmdstanpy - INFO - Chain [1] start processing\n",
      "11:33:36 - cmdstanpy - INFO - Chain [1] done processing\n"
     ]
    },
    {
     "name": "stdout",
     "output_type": "stream",
     "text": [
      "MAE: 1884.55\n",
      "MAPE: 22.24%\n",
      "RMSE: 2412.46\n",
      "R2: 0.65\n",
      "[I 2024-11-25 11:33:36,666] Trial 36 finished with value: 2412.4588538321605 and parameters: {'changepoint_prior_scale': 0.09323267124686466, 'seasonality_prior_scale': 8.903405404833343, 'holidays_prior_scale': 8.210158189087181, 'seasonality_mode': 'multiplicative', 'yearly_seasonality': True, 'weekly_seasonality': False, 'daily_seasonality': True}. Best is trial 35 with value: 2026.6932894513648.\n"
     ]
    },
    {
     "name": "stderr",
     "output_type": "stream",
     "text": [
      "11:33:42 - cmdstanpy - INFO - Chain [1] start processing\n",
      "11:36:26 - cmdstanpy - INFO - Chain [1] done processing\n"
     ]
    },
    {
     "name": "stdout",
     "output_type": "stream",
     "text": [
      "MAE: 1491.11\n",
      "MAPE: 18.81%\n",
      "RMSE: 2026.22\n",
      "R2: 0.75\n",
      "[I 2024-11-25 11:36:26,797] Trial 37 finished with value: 2026.216366855301 and parameters: {'changepoint_prior_scale': 0.09875048669781965, 'seasonality_prior_scale': 7.586919985541105, 'holidays_prior_scale': 8.106548617752367, 'seasonality_mode': 'additive', 'yearly_seasonality': True, 'weekly_seasonality': True, 'daily_seasonality': True}. Best is trial 37 with value: 2026.216366855301.\n"
     ]
    },
    {
     "name": "stderr",
     "output_type": "stream",
     "text": [
      "11:36:32 - cmdstanpy - INFO - Chain [1] start processing\n",
      "11:37:51 - cmdstanpy - INFO - Chain [1] done processing\n"
     ]
    },
    {
     "name": "stdout",
     "output_type": "stream",
     "text": [
      "MAE: 3049.55\n",
      "MAPE: 53.04%\n",
      "RMSE: 3830.68\n",
      "R2: 0.11\n",
      "[I 2024-11-25 11:37:52,062] Trial 38 finished with value: 3830.684701449418 and parameters: {'changepoint_prior_scale': 0.09129182343962994, 'seasonality_prior_scale': 7.719824984974341, 'holidays_prior_scale': 7.905456150758316, 'seasonality_mode': 'additive', 'yearly_seasonality': True, 'weekly_seasonality': True, 'daily_seasonality': False}. Best is trial 37 with value: 2026.216366855301.\n"
     ]
    },
    {
     "name": "stderr",
     "output_type": "stream",
     "text": [
      "11:37:58 - cmdstanpy - INFO - Chain [1] start processing\n",
      "11:40:46 - cmdstanpy - INFO - Chain [1] done processing\n"
     ]
    },
    {
     "name": "stdout",
     "output_type": "stream",
     "text": [
      "MAE: 1492.79\n",
      "MAPE: 18.85%\n",
      "RMSE: 2027.21\n",
      "R2: 0.75\n",
      "[I 2024-11-25 11:40:46,591] Trial 39 finished with value: 2027.205629073201 and parameters: {'changepoint_prior_scale': 0.09877428694028427, 'seasonality_prior_scale': 8.991099392436013, 'holidays_prior_scale': 9.152444088120882, 'seasonality_mode': 'additive', 'yearly_seasonality': True, 'weekly_seasonality': True, 'daily_seasonality': True}. Best is trial 37 with value: 2026.216366855301.\n"
     ]
    },
    {
     "name": "stderr",
     "output_type": "stream",
     "text": [
      "11:40:50 - cmdstanpy - INFO - Chain [1] start processing\n",
      "11:42:28 - cmdstanpy - INFO - Chain [1] done processing\n"
     ]
    },
    {
     "name": "stdout",
     "output_type": "stream",
     "text": [
      "MAE: 2053.49\n",
      "MAPE: 25.87%\n",
      "RMSE: 2550.44\n",
      "R2: 0.61\n",
      "[I 2024-11-25 11:42:28,861] Trial 40 finished with value: 2550.4405792894936 and parameters: {'changepoint_prior_scale': 0.09857027303956004, 'seasonality_prior_scale': 9.980354849119376, 'holidays_prior_scale': 9.060318379120964, 'seasonality_mode': 'multiplicative', 'yearly_seasonality': False, 'weekly_seasonality': False, 'daily_seasonality': True}. Best is trial 37 with value: 2026.216366855301.\n"
     ]
    },
    {
     "name": "stderr",
     "output_type": "stream",
     "text": [
      "11:42:34 - cmdstanpy - INFO - Chain [1] start processing\n",
      "11:44:44 - cmdstanpy - INFO - Chain [1] done processing\n"
     ]
    },
    {
     "name": "stdout",
     "output_type": "stream",
     "text": [
      "MAE: 1491.23\n",
      "MAPE: 18.81%\n",
      "RMSE: 2026.29\n",
      "R2: 0.75\n",
      "[I 2024-11-25 11:44:44,978] Trial 41 finished with value: 2026.2943715331999 and parameters: {'changepoint_prior_scale': 0.09814936273982067, 'seasonality_prior_scale': 9.291136312924843, 'holidays_prior_scale': 8.862704020115453, 'seasonality_mode': 'additive', 'yearly_seasonality': True, 'weekly_seasonality': True, 'daily_seasonality': True}. Best is trial 37 with value: 2026.216366855301.\n"
     ]
    },
    {
     "name": "stderr",
     "output_type": "stream",
     "text": [
      "11:44:50 - cmdstanpy - INFO - Chain [1] start processing\n",
      "11:47:08 - cmdstanpy - INFO - Chain [1] done processing\n"
     ]
    },
    {
     "name": "stdout",
     "output_type": "stream",
     "text": [
      "MAE: 1492.55\n",
      "MAPE: 18.85%\n",
      "RMSE: 2027.02\n",
      "R2: 0.75\n",
      "[I 2024-11-25 11:47:08,676] Trial 42 finished with value: 2027.022542896053 and parameters: {'changepoint_prior_scale': 0.09995806585556542, 'seasonality_prior_scale': 9.29142992658115, 'holidays_prior_scale': 8.9616329628167, 'seasonality_mode': 'additive', 'yearly_seasonality': True, 'weekly_seasonality': True, 'daily_seasonality': True}. Best is trial 37 with value: 2026.216366855301.\n"
     ]
    },
    {
     "name": "stderr",
     "output_type": "stream",
     "text": [
      "11:47:15 - cmdstanpy - INFO - Chain [1] start processing\n",
      "11:49:19 - cmdstanpy - INFO - Chain [1] done processing\n"
     ]
    },
    {
     "name": "stdout",
     "output_type": "stream",
     "text": [
      "MAE: 1492.61\n",
      "MAPE: 18.84%\n",
      "RMSE: 2027.20\n",
      "R2: 0.75\n",
      "[I 2024-11-25 11:49:19,804] Trial 43 finished with value: 2027.2041636022739 and parameters: {'changepoint_prior_scale': 0.09046947964172025, 'seasonality_prior_scale': 9.533786308969582, 'holidays_prior_scale': 7.617516508935305, 'seasonality_mode': 'additive', 'yearly_seasonality': True, 'weekly_seasonality': True, 'daily_seasonality': True}. Best is trial 37 with value: 2026.216366855301.\n"
     ]
    },
    {
     "name": "stderr",
     "output_type": "stream",
     "text": [
      "11:49:25 - cmdstanpy - INFO - Chain [1] start processing\n",
      "11:51:33 - cmdstanpy - INFO - Chain [1] done processing\n"
     ]
    },
    {
     "name": "stdout",
     "output_type": "stream",
     "text": [
      "MAE: 1494.01\n",
      "MAPE: 18.89%\n",
      "RMSE: 2027.87\n",
      "R2: 0.75\n",
      "[I 2024-11-25 11:51:34,584] Trial 44 finished with value: 2027.8653889412888 and parameters: {'changepoint_prior_scale': 0.09992752844060195, 'seasonality_prior_scale': 8.446940432105773, 'holidays_prior_scale': 8.779857556257383, 'seasonality_mode': 'additive', 'yearly_seasonality': True, 'weekly_seasonality': True, 'daily_seasonality': True}. Best is trial 37 with value: 2026.216366855301.\n"
     ]
    },
    {
     "name": "stderr",
     "output_type": "stream",
     "text": [
      "11:51:40 - cmdstanpy - INFO - Chain [1] start processing\n",
      "11:54:14 - cmdstanpy - INFO - Chain [1] done processing\n"
     ]
    },
    {
     "name": "stdout",
     "output_type": "stream",
     "text": [
      "MAE: 1491.20\n",
      "MAPE: 18.81%\n",
      "RMSE: 2026.26\n",
      "R2: 0.75\n",
      "[I 2024-11-25 11:54:14,757] Trial 45 finished with value: 2026.2563378173882 and parameters: {'changepoint_prior_scale': 0.09401563790790775, 'seasonality_prior_scale': 8.264242457751223, 'holidays_prior_scale': 8.28439013347827, 'seasonality_mode': 'additive', 'yearly_seasonality': True, 'weekly_seasonality': True, 'daily_seasonality': True}. Best is trial 37 with value: 2026.216366855301.\n"
     ]
    },
    {
     "name": "stderr",
     "output_type": "stream",
     "text": [
      "11:54:19 - cmdstanpy - INFO - Chain [1] start processing\n",
      "11:56:19 - cmdstanpy - INFO - Chain [1] done processing\n"
     ]
    },
    {
     "name": "stdout",
     "output_type": "stream",
     "text": [
      "MAE: 3050.88\n",
      "MAPE: 53.02%\n",
      "RMSE: 3830.18\n",
      "R2: 0.11\n",
      "[I 2024-11-25 11:56:20,589] Trial 46 finished with value: 3830.17748670082 and parameters: {'changepoint_prior_scale': 0.06726425517267602, 'seasonality_prior_scale': 8.267400848036804, 'holidays_prior_scale': 8.410100431634651, 'seasonality_mode': 'additive', 'yearly_seasonality': True, 'weekly_seasonality': True, 'daily_seasonality': False}. Best is trial 37 with value: 2026.216366855301.\n"
     ]
    },
    {
     "name": "stderr",
     "output_type": "stream",
     "text": [
      "11:56:24 - cmdstanpy - INFO - Chain [1] start processing\n",
      "11:58:26 - cmdstanpy - INFO - Chain [1] done processing\n"
     ]
    },
    {
     "name": "stdout",
     "output_type": "stream",
     "text": [
      "MAE: 1752.83\n",
      "MAPE: 23.95%\n",
      "RMSE: 2218.25\n",
      "R2: 0.70\n",
      "[I 2024-11-25 11:58:26,800] Trial 47 finished with value: 2218.253159801578 and parameters: {'changepoint_prior_scale': 0.0938886886302841, 'seasonality_prior_scale': 7.649299964366446, 'holidays_prior_scale': 7.456432591154894, 'seasonality_mode': 'additive', 'yearly_seasonality': False, 'weekly_seasonality': True, 'daily_seasonality': True}. Best is trial 37 with value: 2026.216366855301.\n"
     ]
    },
    {
     "name": "stderr",
     "output_type": "stream",
     "text": [
      "11:58:32 - cmdstanpy - INFO - Chain [1] start processing\n",
      "12:00:53 - cmdstanpy - INFO - Chain [1] done processing\n"
     ]
    },
    {
     "name": "stdout",
     "output_type": "stream",
     "text": [
      "MAE: 1493.50\n",
      "MAPE: 18.87%\n",
      "RMSE: 2027.55\n",
      "R2: 0.75\n",
      "[I 2024-11-25 12:00:54,479] Trial 48 finished with value: 2027.547179263431 and parameters: {'changepoint_prior_scale': 0.08956533709848997, 'seasonality_prior_scale': 8.266509845700837, 'holidays_prior_scale': 9.47830460732502, 'seasonality_mode': 'additive', 'yearly_seasonality': True, 'weekly_seasonality': True, 'daily_seasonality': True}. Best is trial 37 with value: 2026.216366855301.\n"
     ]
    },
    {
     "name": "stderr",
     "output_type": "stream",
     "text": [
      "12:01:01 - cmdstanpy - INFO - Chain [1] start processing\n",
      "12:03:35 - cmdstanpy - INFO - Chain [1] done processing\n"
     ]
    },
    {
     "name": "stdout",
     "output_type": "stream",
     "text": [
      "MAE: 1492.67\n",
      "MAPE: 18.85%\n",
      "RMSE: 2027.09\n",
      "R2: 0.75\n",
      "[I 2024-11-25 12:03:35,652] Trial 49 finished with value: 2027.0876229128698 and parameters: {'changepoint_prior_scale': 0.09395973764427441, 'seasonality_prior_scale': 9.483337475924973, 'holidays_prior_scale': 7.283547152145196, 'seasonality_mode': 'additive', 'yearly_seasonality': True, 'weekly_seasonality': True, 'daily_seasonality': True}. Best is trial 37 with value: 2026.216366855301.\n"
     ]
    },
    {
     "name": "stderr",
     "output_type": "stream",
     "text": [
      "12:03:40 - cmdstanpy - INFO - Chain [1] start processing\n",
      "12:05:06 - cmdstanpy - INFO - Chain [1] done processing\n"
     ]
    },
    {
     "name": "stdout",
     "output_type": "stream",
     "text": [
      "MAE: 1493.19\n",
      "MAPE: 18.87%\n",
      "RMSE: 2026.90\n",
      "R2: 0.75\n"
     ]
    }
   ],
   "source": [
    "import optuna\n",
    "import warnings\n",
    "warnings.filterwarnings('ignore')\n",
    "from prophet import Prophet\n",
    "import joblib\n",
    "\n",
    "for b in boroughs:\n",
    "    \n",
    "    logger = logging.getLogger()\n",
    "    logger.setLevel(logging.INFO)\n",
    "    file_handler = logging.FileHandler(f\"logs/{b}_prophet_auto.log\", mode='w')\n",
    "    file_handler.setLevel(logging.INFO)\n",
    "    formatter = logging.Formatter('%(asctime)s - %(levelname)s - %(message)s')\n",
    "    file_handler.setFormatter(formatter)\n",
    "    logger.addHandler(file_handler)\n",
    "    \n",
    "    logger.info(f\"Tuning for {b} - Prophet Model\")\n",
    "\n",
    "    df = pd.read_parquet(f'../data/{b} - all txns.parquet.gz')\n",
    "    df = df[['num_txns_All']].reset_index()\n",
    "    df['timestamp_hour'] = pd.to_datetime(df['timestamp_hour'])\n",
    "    df = df.sort_values(by = 'timestamp_hour')\n",
    "    df = df.rename(columns = {'num_txns_All': 'y', 'timestamp_hour': 'ds'})\n",
    "\n",
    "    df_hist = df[df['ds'] < '2024-08-01']\n",
    "    df_test = df[df['ds']>= '2024-08-01']\n",
    "\n",
    "\n",
    "    # Objective function to minimize (MAE for Prophet)\n",
    "    def objective(trial):\n",
    "        # Sample hyperparameters from the Optuna trial using TPE\n",
    "        changepoint_prior_scale = trial.suggest_uniform('changepoint_prior_scale', 0.001, 0.1)\n",
    "        seasonality_prior_scale = trial.suggest_uniform('seasonality_prior_scale', 1.0, 10.0)\n",
    "        holidays_prior_scale = trial.suggest_uniform('holidays_prior_scale', 1.0, 10.0)\n",
    "        seasonality_mode = trial.suggest_categorical('seasonality_mode', ['additive', 'multiplicative'])\n",
    "        yearly_seasonality = trial.suggest_categorical('yearly_seasonality', [True, False])\n",
    "        weekly_seasonality = trial.suggest_categorical('weekly_seasonality', [True, False])\n",
    "        daily_seasonality = trial.suggest_categorical('daily_seasonality', [True, False])\n",
    "        #fourier_order = trial.int_uniform('fourier_order', 3, 12)  # Fourier order for seasonality\n",
    "\n",
    "        # Initialize Prophet with the sampled hyperparameters\n",
    "        model = Prophet(\n",
    "            changepoint_prior_scale=changepoint_prior_scale,\n",
    "            seasonality_prior_scale=seasonality_prior_scale,\n",
    "            holidays_prior_scale=holidays_prior_scale,\n",
    "            seasonality_mode=seasonality_mode,\n",
    "            yearly_seasonality=yearly_seasonality,\n",
    "            weekly_seasonality=weekly_seasonality,\n",
    "            daily_seasonality=daily_seasonality\n",
    "        )\n",
    "        \n",
    "        logger.info(f\"\"\"changepont_prior_scale: {changepoint_prior_scale}, seasonality_prior_scale: {seasonality_prior_scale}, holidays_prior_scale: {holidays_prior_scale}, seasonality_mode: {seasonality_mode}, \n",
    "        yearly_seasonality: {yearly_seasonality}, weekly_seasonality: {weekly_seasonality}, daily_seasonality: {daily_seasonality}\"\"\")\n",
    "\n",
    "        # Add custom seasonality if necessary\n",
    "\n",
    "        model.add_seasonality(name='hourly', period=24, fourier_order = 8)\n",
    "\n",
    "        model.add_country_holidays(country_name='US')\n",
    "\n",
    "        # Fit the model\n",
    "        model.fit(df_hist)\n",
    "\n",
    "        # Predict\n",
    "        future = model.make_future_dataframe(periods=len(df_test), freq = 'H', include_history = False)\n",
    "        forecast = model.predict(future)\n",
    "\n",
    "        forecast = model.predict(future)\n",
    "\n",
    "        # Calculate MAE or RMSE\n",
    "        y_true = df_test['y'].values\n",
    "        y_pred = forecast['yhat'][-len(df_test):].values\n",
    "        results = helpers.performance_metrics(y_true, y_pred)\n",
    "        \n",
    "        logger.info(results)\n",
    "        file_handler.flush()\n",
    "\n",
    "        return results['rmse']\n",
    "    \n",
    "    study = optuna.create_study(direction='minimize', sampler=optuna.samplers.TPESampler())  # TPE is the default, but we explicitly specify it here\n",
    "    study.optimize(objective, n_trials=50, show_progress_bar=True) \n",
    "    \n",
    "    logger.info(f'\\nHyperparameter Tuning Done for {b}')\n",
    "    \n",
    "    logger.info(f'Best Parameters: {study.best_params}')\n",
    "    \n",
    "    model = Prophet(**study.best_params)\n",
    "    model.add_seasonality(name='hourly', period=24, fourier_order = 8)\n",
    "    model.fit(df_hist)\n",
    "\n",
    "    future = model.make_future_dataframe(periods=len(df_test), freq = 'H', include_history = False)\n",
    "    forecast = model.predict(future)\n",
    "\n",
    "    __ = helpers.performance_metrics(df_test['y'], forecast['yhat'])\n",
    "    \n",
    "    model_loc = f'../models/{b}_Prophet.joblib'\n",
    "    forecast_loc = f'../data/forecasts/{b}_Aug2024_forecasts.csv'\n",
    "    \n",
    "    logger.info(f'Model Saved in {model_loc}')\n",
    "    logger.info(f'Forecasts Saved in {forecast_loc}')\n",
    "    \n",
    "    file_handler.flush()\n",
    "    \n",
    "    joblib.dump(model, model_loc)\n",
    "    forecast.to_csv(forecast_loc)\n",
    "    "
   ]
  },
  {
   "cell_type": "code",
   "execution_count": null,
   "id": "3db29bff-b32b-4335-83f5-b29b6cdf6d55",
   "metadata": {},
   "outputs": [],
   "source": []
  }
 ],
 "metadata": {
  "availableInstances": [
   {
    "_defaultOrder": 0,
    "_isFastLaunch": true,
    "category": "General purpose",
    "gpuNum": 0,
    "hideHardwareSpecs": false,
    "memoryGiB": 4,
    "name": "ml.t3.medium",
    "vcpuNum": 2
   },
   {
    "_defaultOrder": 1,
    "_isFastLaunch": false,
    "category": "General purpose",
    "gpuNum": 0,
    "hideHardwareSpecs": false,
    "memoryGiB": 8,
    "name": "ml.t3.large",
    "vcpuNum": 2
   },
   {
    "_defaultOrder": 2,
    "_isFastLaunch": false,
    "category": "General purpose",
    "gpuNum": 0,
    "hideHardwareSpecs": false,
    "memoryGiB": 16,
    "name": "ml.t3.xlarge",
    "vcpuNum": 4
   },
   {
    "_defaultOrder": 3,
    "_isFastLaunch": false,
    "category": "General purpose",
    "gpuNum": 0,
    "hideHardwareSpecs": false,
    "memoryGiB": 32,
    "name": "ml.t3.2xlarge",
    "vcpuNum": 8
   },
   {
    "_defaultOrder": 4,
    "_isFastLaunch": true,
    "category": "General purpose",
    "gpuNum": 0,
    "hideHardwareSpecs": false,
    "memoryGiB": 8,
    "name": "ml.m5.large",
    "vcpuNum": 2
   },
   {
    "_defaultOrder": 5,
    "_isFastLaunch": false,
    "category": "General purpose",
    "gpuNum": 0,
    "hideHardwareSpecs": false,
    "memoryGiB": 16,
    "name": "ml.m5.xlarge",
    "vcpuNum": 4
   },
   {
    "_defaultOrder": 6,
    "_isFastLaunch": false,
    "category": "General purpose",
    "gpuNum": 0,
    "hideHardwareSpecs": false,
    "memoryGiB": 32,
    "name": "ml.m5.2xlarge",
    "vcpuNum": 8
   },
   {
    "_defaultOrder": 7,
    "_isFastLaunch": false,
    "category": "General purpose",
    "gpuNum": 0,
    "hideHardwareSpecs": false,
    "memoryGiB": 64,
    "name": "ml.m5.4xlarge",
    "vcpuNum": 16
   },
   {
    "_defaultOrder": 8,
    "_isFastLaunch": false,
    "category": "General purpose",
    "gpuNum": 0,
    "hideHardwareSpecs": false,
    "memoryGiB": 128,
    "name": "ml.m5.8xlarge",
    "vcpuNum": 32
   },
   {
    "_defaultOrder": 9,
    "_isFastLaunch": false,
    "category": "General purpose",
    "gpuNum": 0,
    "hideHardwareSpecs": false,
    "memoryGiB": 192,
    "name": "ml.m5.12xlarge",
    "vcpuNum": 48
   },
   {
    "_defaultOrder": 10,
    "_isFastLaunch": false,
    "category": "General purpose",
    "gpuNum": 0,
    "hideHardwareSpecs": false,
    "memoryGiB": 256,
    "name": "ml.m5.16xlarge",
    "vcpuNum": 64
   },
   {
    "_defaultOrder": 11,
    "_isFastLaunch": false,
    "category": "General purpose",
    "gpuNum": 0,
    "hideHardwareSpecs": false,
    "memoryGiB": 384,
    "name": "ml.m5.24xlarge",
    "vcpuNum": 96
   },
   {
    "_defaultOrder": 12,
    "_isFastLaunch": false,
    "category": "General purpose",
    "gpuNum": 0,
    "hideHardwareSpecs": false,
    "memoryGiB": 8,
    "name": "ml.m5d.large",
    "vcpuNum": 2
   },
   {
    "_defaultOrder": 13,
    "_isFastLaunch": false,
    "category": "General purpose",
    "gpuNum": 0,
    "hideHardwareSpecs": false,
    "memoryGiB": 16,
    "name": "ml.m5d.xlarge",
    "vcpuNum": 4
   },
   {
    "_defaultOrder": 14,
    "_isFastLaunch": false,
    "category": "General purpose",
    "gpuNum": 0,
    "hideHardwareSpecs": false,
    "memoryGiB": 32,
    "name": "ml.m5d.2xlarge",
    "vcpuNum": 8
   },
   {
    "_defaultOrder": 15,
    "_isFastLaunch": false,
    "category": "General purpose",
    "gpuNum": 0,
    "hideHardwareSpecs": false,
    "memoryGiB": 64,
    "name": "ml.m5d.4xlarge",
    "vcpuNum": 16
   },
   {
    "_defaultOrder": 16,
    "_isFastLaunch": false,
    "category": "General purpose",
    "gpuNum": 0,
    "hideHardwareSpecs": false,
    "memoryGiB": 128,
    "name": "ml.m5d.8xlarge",
    "vcpuNum": 32
   },
   {
    "_defaultOrder": 17,
    "_isFastLaunch": false,
    "category": "General purpose",
    "gpuNum": 0,
    "hideHardwareSpecs": false,
    "memoryGiB": 192,
    "name": "ml.m5d.12xlarge",
    "vcpuNum": 48
   },
   {
    "_defaultOrder": 18,
    "_isFastLaunch": false,
    "category": "General purpose",
    "gpuNum": 0,
    "hideHardwareSpecs": false,
    "memoryGiB": 256,
    "name": "ml.m5d.16xlarge",
    "vcpuNum": 64
   },
   {
    "_defaultOrder": 19,
    "_isFastLaunch": false,
    "category": "General purpose",
    "gpuNum": 0,
    "hideHardwareSpecs": false,
    "memoryGiB": 384,
    "name": "ml.m5d.24xlarge",
    "vcpuNum": 96
   },
   {
    "_defaultOrder": 20,
    "_isFastLaunch": false,
    "category": "General purpose",
    "gpuNum": 0,
    "hideHardwareSpecs": true,
    "memoryGiB": 0,
    "name": "ml.geospatial.interactive",
    "supportedImageNames": [
     "sagemaker-geospatial-v1-0"
    ],
    "vcpuNum": 0
   },
   {
    "_defaultOrder": 21,
    "_isFastLaunch": true,
    "category": "Compute optimized",
    "gpuNum": 0,
    "hideHardwareSpecs": false,
    "memoryGiB": 4,
    "name": "ml.c5.large",
    "vcpuNum": 2
   },
   {
    "_defaultOrder": 22,
    "_isFastLaunch": false,
    "category": "Compute optimized",
    "gpuNum": 0,
    "hideHardwareSpecs": false,
    "memoryGiB": 8,
    "name": "ml.c5.xlarge",
    "vcpuNum": 4
   },
   {
    "_defaultOrder": 23,
    "_isFastLaunch": false,
    "category": "Compute optimized",
    "gpuNum": 0,
    "hideHardwareSpecs": false,
    "memoryGiB": 16,
    "name": "ml.c5.2xlarge",
    "vcpuNum": 8
   },
   {
    "_defaultOrder": 24,
    "_isFastLaunch": false,
    "category": "Compute optimized",
    "gpuNum": 0,
    "hideHardwareSpecs": false,
    "memoryGiB": 32,
    "name": "ml.c5.4xlarge",
    "vcpuNum": 16
   },
   {
    "_defaultOrder": 25,
    "_isFastLaunch": false,
    "category": "Compute optimized",
    "gpuNum": 0,
    "hideHardwareSpecs": false,
    "memoryGiB": 72,
    "name": "ml.c5.9xlarge",
    "vcpuNum": 36
   },
   {
    "_defaultOrder": 26,
    "_isFastLaunch": false,
    "category": "Compute optimized",
    "gpuNum": 0,
    "hideHardwareSpecs": false,
    "memoryGiB": 96,
    "name": "ml.c5.12xlarge",
    "vcpuNum": 48
   },
   {
    "_defaultOrder": 27,
    "_isFastLaunch": false,
    "category": "Compute optimized",
    "gpuNum": 0,
    "hideHardwareSpecs": false,
    "memoryGiB": 144,
    "name": "ml.c5.18xlarge",
    "vcpuNum": 72
   },
   {
    "_defaultOrder": 28,
    "_isFastLaunch": false,
    "category": "Compute optimized",
    "gpuNum": 0,
    "hideHardwareSpecs": false,
    "memoryGiB": 192,
    "name": "ml.c5.24xlarge",
    "vcpuNum": 96
   },
   {
    "_defaultOrder": 29,
    "_isFastLaunch": true,
    "category": "Accelerated computing",
    "gpuNum": 1,
    "hideHardwareSpecs": false,
    "memoryGiB": 16,
    "name": "ml.g4dn.xlarge",
    "vcpuNum": 4
   },
   {
    "_defaultOrder": 30,
    "_isFastLaunch": false,
    "category": "Accelerated computing",
    "gpuNum": 1,
    "hideHardwareSpecs": false,
    "memoryGiB": 32,
    "name": "ml.g4dn.2xlarge",
    "vcpuNum": 8
   },
   {
    "_defaultOrder": 31,
    "_isFastLaunch": false,
    "category": "Accelerated computing",
    "gpuNum": 1,
    "hideHardwareSpecs": false,
    "memoryGiB": 64,
    "name": "ml.g4dn.4xlarge",
    "vcpuNum": 16
   },
   {
    "_defaultOrder": 32,
    "_isFastLaunch": false,
    "category": "Accelerated computing",
    "gpuNum": 1,
    "hideHardwareSpecs": false,
    "memoryGiB": 128,
    "name": "ml.g4dn.8xlarge",
    "vcpuNum": 32
   },
   {
    "_defaultOrder": 33,
    "_isFastLaunch": false,
    "category": "Accelerated computing",
    "gpuNum": 4,
    "hideHardwareSpecs": false,
    "memoryGiB": 192,
    "name": "ml.g4dn.12xlarge",
    "vcpuNum": 48
   },
   {
    "_defaultOrder": 34,
    "_isFastLaunch": false,
    "category": "Accelerated computing",
    "gpuNum": 1,
    "hideHardwareSpecs": false,
    "memoryGiB": 256,
    "name": "ml.g4dn.16xlarge",
    "vcpuNum": 64
   },
   {
    "_defaultOrder": 35,
    "_isFastLaunch": false,
    "category": "Accelerated computing",
    "gpuNum": 1,
    "hideHardwareSpecs": false,
    "memoryGiB": 61,
    "name": "ml.p3.2xlarge",
    "vcpuNum": 8
   },
   {
    "_defaultOrder": 36,
    "_isFastLaunch": false,
    "category": "Accelerated computing",
    "gpuNum": 4,
    "hideHardwareSpecs": false,
    "memoryGiB": 244,
    "name": "ml.p3.8xlarge",
    "vcpuNum": 32
   },
   {
    "_defaultOrder": 37,
    "_isFastLaunch": false,
    "category": "Accelerated computing",
    "gpuNum": 8,
    "hideHardwareSpecs": false,
    "memoryGiB": 488,
    "name": "ml.p3.16xlarge",
    "vcpuNum": 64
   },
   {
    "_defaultOrder": 38,
    "_isFastLaunch": false,
    "category": "Accelerated computing",
    "gpuNum": 8,
    "hideHardwareSpecs": false,
    "memoryGiB": 768,
    "name": "ml.p3dn.24xlarge",
    "vcpuNum": 96
   },
   {
    "_defaultOrder": 39,
    "_isFastLaunch": false,
    "category": "Memory Optimized",
    "gpuNum": 0,
    "hideHardwareSpecs": false,
    "memoryGiB": 16,
    "name": "ml.r5.large",
    "vcpuNum": 2
   },
   {
    "_defaultOrder": 40,
    "_isFastLaunch": false,
    "category": "Memory Optimized",
    "gpuNum": 0,
    "hideHardwareSpecs": false,
    "memoryGiB": 32,
    "name": "ml.r5.xlarge",
    "vcpuNum": 4
   },
   {
    "_defaultOrder": 41,
    "_isFastLaunch": false,
    "category": "Memory Optimized",
    "gpuNum": 0,
    "hideHardwareSpecs": false,
    "memoryGiB": 64,
    "name": "ml.r5.2xlarge",
    "vcpuNum": 8
   },
   {
    "_defaultOrder": 42,
    "_isFastLaunch": false,
    "category": "Memory Optimized",
    "gpuNum": 0,
    "hideHardwareSpecs": false,
    "memoryGiB": 128,
    "name": "ml.r5.4xlarge",
    "vcpuNum": 16
   },
   {
    "_defaultOrder": 43,
    "_isFastLaunch": false,
    "category": "Memory Optimized",
    "gpuNum": 0,
    "hideHardwareSpecs": false,
    "memoryGiB": 256,
    "name": "ml.r5.8xlarge",
    "vcpuNum": 32
   },
   {
    "_defaultOrder": 44,
    "_isFastLaunch": false,
    "category": "Memory Optimized",
    "gpuNum": 0,
    "hideHardwareSpecs": false,
    "memoryGiB": 384,
    "name": "ml.r5.12xlarge",
    "vcpuNum": 48
   },
   {
    "_defaultOrder": 45,
    "_isFastLaunch": false,
    "category": "Memory Optimized",
    "gpuNum": 0,
    "hideHardwareSpecs": false,
    "memoryGiB": 512,
    "name": "ml.r5.16xlarge",
    "vcpuNum": 64
   },
   {
    "_defaultOrder": 46,
    "_isFastLaunch": false,
    "category": "Memory Optimized",
    "gpuNum": 0,
    "hideHardwareSpecs": false,
    "memoryGiB": 768,
    "name": "ml.r5.24xlarge",
    "vcpuNum": 96
   },
   {
    "_defaultOrder": 47,
    "_isFastLaunch": false,
    "category": "Accelerated computing",
    "gpuNum": 1,
    "hideHardwareSpecs": false,
    "memoryGiB": 16,
    "name": "ml.g5.xlarge",
    "vcpuNum": 4
   },
   {
    "_defaultOrder": 48,
    "_isFastLaunch": false,
    "category": "Accelerated computing",
    "gpuNum": 1,
    "hideHardwareSpecs": false,
    "memoryGiB": 32,
    "name": "ml.g5.2xlarge",
    "vcpuNum": 8
   },
   {
    "_defaultOrder": 49,
    "_isFastLaunch": false,
    "category": "Accelerated computing",
    "gpuNum": 1,
    "hideHardwareSpecs": false,
    "memoryGiB": 64,
    "name": "ml.g5.4xlarge",
    "vcpuNum": 16
   },
   {
    "_defaultOrder": 50,
    "_isFastLaunch": false,
    "category": "Accelerated computing",
    "gpuNum": 1,
    "hideHardwareSpecs": false,
    "memoryGiB": 128,
    "name": "ml.g5.8xlarge",
    "vcpuNum": 32
   },
   {
    "_defaultOrder": 51,
    "_isFastLaunch": false,
    "category": "Accelerated computing",
    "gpuNum": 1,
    "hideHardwareSpecs": false,
    "memoryGiB": 256,
    "name": "ml.g5.16xlarge",
    "vcpuNum": 64
   },
   {
    "_defaultOrder": 52,
    "_isFastLaunch": false,
    "category": "Accelerated computing",
    "gpuNum": 4,
    "hideHardwareSpecs": false,
    "memoryGiB": 192,
    "name": "ml.g5.12xlarge",
    "vcpuNum": 48
   },
   {
    "_defaultOrder": 53,
    "_isFastLaunch": false,
    "category": "Accelerated computing",
    "gpuNum": 4,
    "hideHardwareSpecs": false,
    "memoryGiB": 384,
    "name": "ml.g5.24xlarge",
    "vcpuNum": 96
   },
   {
    "_defaultOrder": 54,
    "_isFastLaunch": false,
    "category": "Accelerated computing",
    "gpuNum": 8,
    "hideHardwareSpecs": false,
    "memoryGiB": 768,
    "name": "ml.g5.48xlarge",
    "vcpuNum": 192
   },
   {
    "_defaultOrder": 55,
    "_isFastLaunch": false,
    "category": "Accelerated computing",
    "gpuNum": 8,
    "hideHardwareSpecs": false,
    "memoryGiB": 1152,
    "name": "ml.p4d.24xlarge",
    "vcpuNum": 96
   },
   {
    "_defaultOrder": 56,
    "_isFastLaunch": false,
    "category": "Accelerated computing",
    "gpuNum": 8,
    "hideHardwareSpecs": false,
    "memoryGiB": 1152,
    "name": "ml.p4de.24xlarge",
    "vcpuNum": 96
   },
   {
    "_defaultOrder": 57,
    "_isFastLaunch": false,
    "category": "Accelerated computing",
    "gpuNum": 0,
    "hideHardwareSpecs": false,
    "memoryGiB": 32,
    "name": "ml.trn1.2xlarge",
    "vcpuNum": 8
   },
   {
    "_defaultOrder": 58,
    "_isFastLaunch": false,
    "category": "Accelerated computing",
    "gpuNum": 0,
    "hideHardwareSpecs": false,
    "memoryGiB": 512,
    "name": "ml.trn1.32xlarge",
    "vcpuNum": 128
   },
   {
    "_defaultOrder": 59,
    "_isFastLaunch": false,
    "category": "Accelerated computing",
    "gpuNum": 0,
    "hideHardwareSpecs": false,
    "memoryGiB": 512,
    "name": "ml.trn1n.32xlarge",
    "vcpuNum": 128
   }
  ],
  "kernelspec": {
   "display_name": "Python 3 (Data Science 4.0)",
   "language": "python",
   "name": "python3__SAGEMAKER_INTERNAL__arn:aws:sagemaker:ap-southeast-1:492261229750:image/sagemaker-data-science-311-v1"
  },
  "language_info": {
   "codemirror_mode": {
    "name": "ipython",
    "version": 3
   },
   "file_extension": ".py",
   "mimetype": "text/x-python",
   "name": "python",
   "nbconvert_exporter": "python",
   "pygments_lexer": "ipython3",
   "version": "3.11.9"
  }
 },
 "nbformat": 4,
 "nbformat_minor": 5
}
